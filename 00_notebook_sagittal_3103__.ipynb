{
 "cells": [
  {
   "cell_type": "code",
   "execution_count": 4,
   "id": "ff98cd3b",
   "metadata": {},
   "outputs": [
    {
     "data": {
      "text/html": [
       "<style>.container { width:95% !important; }</style>"
      ],
      "text/plain": [
       "<IPython.core.display.HTML object>"
      ]
     },
     "metadata": {},
     "output_type": "display_data"
    }
   ],
   "source": [
    "from IPython.display import display, HTML\n",
    "\n",
    "display(HTML(\"<style>.container { width:95% !important; }</style>\"))"
   ]
  },
  {
   "cell_type": "code",
   "execution_count": 5,
   "id": "6c6c1e5e",
   "metadata": {},
   "outputs": [],
   "source": [
    "import numpy as np #    \n",
    "import matplotlib\n",
    "import tkinter\n",
    "\n",
    "import pylab # модуль для построения графиков\n",
    "import matplotlib.pyplot as plt #                                                              +                        \n",
    "import cv2\n",
    "import ipywidgets as widgets\n",
    "from PIL import ImageEnhance\n",
    "from PIL import Image # отрисовка изображений\n",
    "\n",
    "from skimage import io, color\n",
    "import matplotlib.pyplot as plt\n",
    "import math\n",
    "from IPython.display import display"
   ]
  },
  {
   "cell_type": "code",
   "execution_count": 6,
   "id": "5374a7c5",
   "metadata": {},
   "outputs": [],
   "source": [
    "import matplotlib.image as mpimg \n",
    "from keras.preprocessing import image\n",
    "import os\n",
    "from tensorflow.keras.preprocessing import image  \n",
    "import pandas as pd\n",
    "import shutil\n",
    "from shutil import copyfile"
   ]
  },
  {
   "cell_type": "code",
   "execution_count": 7,
   "id": "0fda190d",
   "metadata": {},
   "outputs": [],
   "source": [
    "import ipywidgets as widgets\n",
    "from IPython.display import display\n",
    "import glob"
   ]
  },
  {
   "cell_type": "markdown",
   "id": "687840cd",
   "metadata": {},
   "source": [
    "# 00. Анализ и подготовка базы изображений"
   ]
  },
  {
   "cell_type": "markdown",
   "id": "a0adf60e",
   "metadata": {},
   "source": [
    "#### 00.1 Количество изображений в каждой ПЕРВИЧНОЙ папке"
   ]
  },
  {
   "cell_type": "code",
   "execution_count": 8,
   "id": "6e4e2dcc",
   "metadata": {},
   "outputs": [
    {
     "name": "stdout",
     "output_type": "stream",
     "text": [
      "{'0_normal': 55, '1_sujenie': 200, '2_raschirenie': 64, '3_distal': 173, '4_mesial': 94}\n"
     ]
    }
   ],
   "source": [
    "import glob\n",
    "\n",
    "folders = [\"0_normal\", \"1_sujenie\", \"2_raschirenie\", \"3_distal\", \"4_mesial\"]\n",
    "image_extensions = ['.jpg', '.jpeg', '.png']\n",
    "\n",
    "image_counts = {}\n",
    "\n",
    "for folder in folders:\n",
    "    folder_path = os.path.join(\".\", folder)  # Полный путь к папке\n",
    "    image_count = len(glob.glob(os.path.join(folder_path, '*')))  # Количество файлов в папке\n",
    "    image_counts[folder] = image_count\n",
    "\n",
    "print(image_counts)"
   ]
  },
  {
   "cell_type": "markdown",
   "id": "5ec11226",
   "metadata": {},
   "source": [
    "#### 00.2 Проверка дублированных изображений в разных папках - ДВОЙНЫХ патологиях"
   ]
  },
  {
   "cell_type": "code",
   "execution_count": 9,
   "id": "f4330784",
   "metadata": {},
   "outputs": [],
   "source": [
    "folders = [\"0_normal\", \"1_sujenie\", \"2_raschirenie\", \"3_distal\", \"4_mesial\"]\n",
    "slovaric = {}\n",
    "\n",
    "for folder1 in folders:\n",
    "    for folder2 in folders:\n",
    "        if folder1 != folder2:\n",
    "            images1 = os.listdir(folder1)\n",
    "            images2 = os.listdir(folder2)\n",
    "        \n",
    "            common_images = list(set(images1) & set(images2))\n",
    "        \n",
    "            for image in common_images:\n",
    "                key = image\n",
    "                value = folder1 +\",\"+ folder2\n",
    "                slovaric[key] = value"
   ]
  },
  {
   "cell_type": "code",
   "execution_count": 10,
   "id": "89277134",
   "metadata": {
    "scrolled": true
   },
   "outputs": [
    {
     "data": {
      "text/plain": [
       "{'К8Пс.jpg': '1_sujenie,0_normal',\n",
       " 'К64Лс.jpg': '2_raschirenie,1_sujenie',\n",
       " 'К15Лс.jpg': '3_distal,1_sujenie',\n",
       " 'К154Пс.jpg': '3_distal,1_sujenie',\n",
       " 'К300Пс.jpg': '3_distal,1_sujenie',\n",
       " 'К125Пс.jpg': '3_distal,1_sujenie',\n",
       " 'К131Лс.jpg': '3_distal,1_sujenie',\n",
       " 'К186Пс.jpg': '3_distal,1_sujenie',\n",
       " 'К274Лс.jpg': '3_distal,1_sujenie',\n",
       " 'К223Пс.jpg': '3_distal,1_sujenie',\n",
       " 'К103Лс.jpg': '3_distal,1_sujenie',\n",
       " 'К134Лс.jpg': '3_distal,1_sujenie',\n",
       " 'К182Лс.jpg': '3_distal,1_sujenie',\n",
       " 'К299Лс.jpg': '3_distal,1_sujenie',\n",
       " 'К192Лс.jpg': '3_distal,1_sujenie',\n",
       " 'К161Пс.jpg': '3_distal,1_sujenie',\n",
       " 'К101Пс.jpg': '3_distal,1_sujenie',\n",
       " 'К141Пс.jpg': '3_distal,1_sujenie',\n",
       " 'К300Лс.jpg': '3_distal,1_sujenie',\n",
       " 'К180Лс.jpg': '3_distal,1_sujenie',\n",
       " 'К286Лс.jpg': '3_distal,1_sujenie',\n",
       " 'К125Лс.jpg': '3_distal,1_sujenie',\n",
       " 'К217Пс.jpg': '3_distal,1_sujenie',\n",
       " 'К150Лс.jpg': '3_distal,1_sujenie',\n",
       " 'К276Лс.jpg': '3_distal,1_sujenie',\n",
       " 'К95Лс.jpg': '3_distal,1_sujenie',\n",
       " 'К52Пс.jpg': '3_distal,1_sujenie',\n",
       " 'К229Пс.jpg': '3_distal,1_sujenie',\n",
       " 'К279Лс.jpg': '3_distal,1_sujenie',\n",
       " 'К33Пс.jpg': '3_distal,1_sujenie',\n",
       " 'К150Пс.jpg': '3_distal,1_sujenie',\n",
       " 'К208Пс.jpg': '3_distal,1_sujenie',\n",
       " 'К135Пс.jpg': '3_distal,1_sujenie',\n",
       " 'К229Лс.jpg': '3_distal,1_sujenie',\n",
       " 'К122Пс.jpg': '3_distal,1_sujenie',\n",
       " 'К199Лс.jpg': '3_distal,1_sujenie',\n",
       " 'К160Лс.jpg': '3_distal,1_sujenie',\n",
       " 'К205Пс.jpg': '3_distal,1_sujenie',\n",
       " 'К186Лс.jpg': '3_distal,1_sujenie',\n",
       " 'К144Лс.jpg': '3_distal,1_sujenie',\n",
       " 'К297Лс.jpg': '3_distal,1_sujenie',\n",
       " 'К294Лс.jpg': '3_distal,1_sujenie',\n",
       " 'К55Лс.jpg': '3_distal,1_sujenie',\n",
       " 'К223Лс.jpg': '3_distal,1_sujenie',\n",
       " 'К126Лс.jpg': '3_distal,1_sujenie',\n",
       " 'К140Пс.jpg': '3_distal,1_sujenie',\n",
       " 'К161Лс.jpg': '3_distal,1_sujenie',\n",
       " 'К264Пс.jpg': '3_distal,1_sujenie',\n",
       " 'К124Лс.jpg': '3_distal,1_sujenie',\n",
       " 'К151Лс.jpg': '3_distal,1_sujenie',\n",
       " 'К170Лс.jpg': '3_distal,1_sujenie',\n",
       " 'К56Лс.jpg': '3_distal,1_sujenie',\n",
       " 'К178Лс.jpg': '3_distal,1_sujenie',\n",
       " 'К137Лс.jpg': '3_distal,1_sujenie',\n",
       " 'К274Пс.jpg': '3_distal,1_sujenie',\n",
       " 'К86Пс.jpg': '3_distal,1_sujenie',\n",
       " 'К178Пс.jpg': '3_distal,1_sujenie',\n",
       " 'К52Лс.jpg': '3_distal,1_sujenie',\n",
       " 'К95Пс.jpg': '3_distal,1_sujenie',\n",
       " 'К208Лс.jpg': '3_distal,1_sujenie',\n",
       " 'К124Пс.jpg': '3_distal,1_sujenie',\n",
       " 'К167Лс.jpg': '3_distal,1_sujenie',\n",
       " 'К53Пс.jpg': '3_distal,1_sujenie',\n",
       " 'К53Лс.jpg': '3_distal,1_sujenie',\n",
       " 'К152Пс.jpg': '4_mesial,1_sujenie',\n",
       " 'К127Лс.jpg': '4_mesial,1_sujenie',\n",
       " 'К180Пс.jpg': '4_mesial,1_sujenie',\n",
       " 'К283Пс.jpg': '4_mesial,1_sujenie',\n",
       " 'К10Пс.jpg': '4_mesial,1_sujenie',\n",
       " 'К128Лс.jpg': '4_mesial,1_sujenie',\n",
       " 'К183Пс.jpg': '4_mesial,1_sujenie',\n",
       " 'К277Лс.jpg': '4_mesial,1_sujenie',\n",
       " 'К149Пс.jpg': '4_mesial,1_sujenie',\n",
       " 'К194Пс.jpg': '4_mesial,1_sujenie',\n",
       " 'К295Пс.jpg': '4_mesial,1_sujenie',\n",
       " 'К56Пс.jpg': '4_mesial,1_sujenie',\n",
       " 'К157Лс.jpg': '4_mesial,1_sujenie',\n",
       " 'К231Лс.jpg': '4_mesial,1_sujenie',\n",
       " 'К194Лс.jpg': '4_mesial,1_sujenie',\n",
       " 'К197Лс.jpg': '4_mesial,1_sujenie',\n",
       " 'К39Пс.jpg': '4_mesial,1_sujenie',\n",
       " 'К157Пс.jpg': '4_mesial,1_sujenie',\n",
       " 'К255Пс.jpg': '4_mesial,1_sujenie',\n",
       " 'К271Пс.jpg': '4_mesial,1_sujenie',\n",
       " 'К183Лс.jpg': '4_mesial,1_sujenie',\n",
       " 'К91Лс.jpg': '3_distal,2_raschirenie',\n",
       " 'К48Пс.jpg': '3_distal,2_raschirenie',\n",
       " 'К138Пс.jpg': '3_distal,2_raschirenie',\n",
       " 'К77Пс.jpg': '3_distal,2_raschirenie',\n",
       " 'К91Пс.jpg': '3_distal,2_raschirenie',\n",
       " 'К248Пс.jpg': '3_distal,2_raschirenie',\n",
       " 'К275Пс.jpg': '3_distal,2_raschirenie',\n",
       " 'К77Лс.jpg': '3_distal,2_raschirenie',\n",
       " 'К285Лс.jpg': '3_distal,2_raschirenie',\n",
       " 'К217Лс.jpg': '3_distal,2_raschirenie',\n",
       " 'К171Пк.jpg': '3_distal,2_raschirenie',\n",
       " 'К1Пс.jpg': '3_distal,2_raschirenie',\n",
       " 'К129Пс.jpg': '4_mesial,2_raschirenie',\n",
       " 'К46Пс.jpg': '4_mesial,2_raschirenie',\n",
       " 'К291Пс.jpg': '4_mesial,2_raschirenie',\n",
       " 'К41Лс.jpg': '4_mesial,2_raschirenie',\n",
       " 'К265Лс.jpg': '4_mesial,2_raschirenie',\n",
       " 'К296Пс.jpg': '4_mesial,2_raschirenie',\n",
       " 'К115Пс.jpg': '4_mesial,2_raschirenie',\n",
       " 'К291Лс.jpg': '4_mesial,2_raschirenie',\n",
       " 'К149Лс.jpg': '4_mesial,2_raschirenie',\n",
       " 'К30Пс.jpg': '4_mesial,2_raschirenie',\n",
       " 'К115Лс.jpg': '4_mesial,2_raschirenie',\n",
       " 'К190Пс.jpg': '4_mesial,2_raschirenie',\n",
       " 'К129Лс.jpg': '4_mesial,2_raschirenie',\n",
       " 'К36Лс.jpg': '4_mesial,2_raschirenie',\n",
       " 'К172Пс.jpg': '4_mesial,2_raschirenie',\n",
       " 'К61Пс.jpg': '4_mesial,2_raschirenie',\n",
       " 'К6Пс.jpg': '4_mesial,2_raschirenie',\n",
       " 'К297Па.jpg': '4_mesial,2_raschirenie',\n",
       " 'К266Лс.jpg': '4_mesial,2_raschirenie',\n",
       " 'К155Лс.jpg': '4_mesial,2_raschirenie',\n",
       " 'К6Лс.jpg': '4_mesial,2_raschirenie',\n",
       " 'К36Пс.jpg': '4_mesial,2_raschirenie',\n",
       " 'К172Лс.jpg': '4_mesial,2_raschirenie',\n",
       " 'К46Лс.jpg': '4_mesial,2_raschirenie',\n",
       " 'К256Пс.jpg': '4_mesial,2_raschirenie',\n",
       " 'К61Лс.jpg': '4_mesial,2_raschirenie',\n",
       " 'К89Пс.jpg': '4_mesial,2_raschirenie',\n",
       " 'К265Пс.jpg': '4_mesial,2_raschirenie',\n",
       " 'К266Пс.jpg': '4_mesial,2_raschirenie'}"
      ]
     },
     "execution_count": 10,
     "metadata": {},
     "output_type": "execute_result"
    }
   ],
   "source": [
    "slovaric"
   ]
  },
  {
   "cell_type": "code",
   "execution_count": 11,
   "id": "08dc25f8",
   "metadata": {},
   "outputs": [
    {
     "data": {
      "text/plain": [
       "126"
      ]
     },
     "execution_count": 11,
     "metadata": {},
     "output_type": "execute_result"
    }
   ],
   "source": [
    "len(slovaric)"
   ]
  },
  {
   "cell_type": "markdown",
   "id": "ec39fbda",
   "metadata": {},
   "source": [
    "#### 00.3 удаление возможных дубликатов в словаре \"slovaric\""
   ]
  },
  {
   "cell_type": "code",
   "execution_count": 12,
   "id": "468c43b7",
   "metadata": {},
   "outputs": [],
   "source": [
    "new_slovaric = {}\n",
    "\n",
    "for key, value in slovaric.items():\n",
    "    if key not in new_slovaric:\n",
    "        new_slovaric[key] = value"
   ]
  },
  {
   "cell_type": "code",
   "execution_count": 13,
   "id": "95ca87c1",
   "metadata": {},
   "outputs": [
    {
     "data": {
      "text/plain": [
       "126"
      ]
     },
     "execution_count": 13,
     "metadata": {},
     "output_type": "execute_result"
    }
   ],
   "source": [
    "len(new_slovaric)"
   ]
  },
  {
   "cell_type": "markdown",
   "id": "3c1a85b8",
   "metadata": {},
   "source": [
    "##### дубликатов нет"
   ]
  },
  {
   "cell_type": "markdown",
   "id": "109e566f",
   "metadata": {},
   "source": [
    "#### 00.4 ПОЛНЫЙ словарь из уникальных изображений проекции"
   ]
  },
  {
   "cell_type": "code",
   "execution_count": 14,
   "id": "d469c6ed",
   "metadata": {},
   "outputs": [
    {
     "data": {
      "text/plain": [
       "{'К104Пс': ['0_normal'],\n",
       " 'К110Лс': ['0_normal'],\n",
       " 'К111Лс': ['0_normal'],\n",
       " 'К111Пс': ['0_normal'],\n",
       " 'К112Пс': ['0_normal'],\n",
       " 'К113Лс': ['0_normal'],\n",
       " 'К113Пс': ['0_normal'],\n",
       " 'К114Лс': ['0_normal'],\n",
       " 'К117Пс': ['0_normal'],\n",
       " 'К118Пс': ['0_normal'],\n",
       " 'К144Пс': ['0_normal'],\n",
       " 'К14Лс': ['0_normal'],\n",
       " 'К151Пс': ['0_normal'],\n",
       " 'К164Лс': ['0_normal'],\n",
       " 'К179Лс': ['0_normal'],\n",
       " 'К179Пс': ['0_normal'],\n",
       " 'К185Пс': ['0_normal'],\n",
       " 'К188Лс': ['0_normal'],\n",
       " 'К190Лс': ['0_normal'],\n",
       " 'К192Пс': ['0_normal'],\n",
       " 'К193Лс': ['0_normal'],\n",
       " 'К196Лс': ['0_normal'],\n",
       " 'К199Пс': ['0_normal'],\n",
       " 'К19Лс': ['0_normal'],\n",
       " 'К205Лс': ['0_normal'],\n",
       " 'К209Лс': ['0_normal'],\n",
       " 'К209Пс': ['0_normal'],\n",
       " 'К214Пс': ['0_normal'],\n",
       " 'К215Пс': ['0_normal'],\n",
       " 'К218Пс': ['0_normal'],\n",
       " 'К233Лс': ['0_normal'],\n",
       " 'К240Пс': ['0_normal'],\n",
       " 'К25Лс': ['0_normal'],\n",
       " 'К267Лс': ['0_normal'],\n",
       " 'К267Пс': ['0_normal'],\n",
       " 'К268Пс': ['0_normal'],\n",
       " 'К277Пс': ['0_normal'],\n",
       " 'К281Лс': ['0_normal'],\n",
       " 'К284Лс': ['0_normal'],\n",
       " 'К29Лс': ['0_normal'],\n",
       " 'К30Лс': ['0_normal'],\n",
       " 'К37Пс': ['0_normal'],\n",
       " 'К3Л': ['0_normal'],\n",
       " 'К42Лс': ['0_normal'],\n",
       " 'К48Лс': ['0_normal'],\n",
       " 'К54Лс': ['0_normal'],\n",
       " 'К68Лс': ['0_normal'],\n",
       " 'К88Лс': ['0_normal'],\n",
       " 'К88Пс': ['0_normal'],\n",
       " 'К8Лс': ['0_normal'],\n",
       " 'К8Пс': ['0_normal', '1_sujenie'],\n",
       " 'К94Лс': ['0_normal'],\n",
       " 'К94Пс': ['0_normal'],\n",
       " 'К98Лс': ['0_normal'],\n",
       " 'К99Лс': ['0_normal'],\n",
       " 'K31Пс': ['1_sujenie'],\n",
       " 'К100Лс': ['1_sujenie'],\n",
       " 'К100Пс': ['1_sujenie'],\n",
       " 'К101Пс': ['1_sujenie', '3_distal'],\n",
       " 'К102Лс': ['1_sujenie'],\n",
       " 'К102Пс': ['1_sujenie'],\n",
       " 'К103Лс': ['1_sujenie', '3_distal'],\n",
       " 'К103Пс': ['1_sujenie'],\n",
       " 'К108Лс': ['1_sujenie'],\n",
       " 'К108Пс': ['1_sujenie'],\n",
       " 'К109Лс': ['1_sujenie'],\n",
       " 'К109Пс': ['1_sujenie'],\n",
       " 'К10Пс': ['1_sujenie', '4_mesial'],\n",
       " 'К110Пс': ['1_sujenie'],\n",
       " 'К112Лс': ['1_sujenie'],\n",
       " 'К114Пс': ['1_sujenie'],\n",
       " 'К122Пс': ['1_sujenie', '3_distal'],\n",
       " 'К124Лс': ['1_sujenie', '3_distal'],\n",
       " 'К124Пс': ['1_sujenie', '3_distal'],\n",
       " 'К125Лс': ['1_sujenie', '3_distal'],\n",
       " 'К125Пс': ['1_sujenie', '3_distal'],\n",
       " 'К126Лс': ['1_sujenie', '3_distal'],\n",
       " 'К126Пс': ['1_sujenie'],\n",
       " 'К127Лс': ['1_sujenie', '4_mesial'],\n",
       " 'К128Лс': ['1_sujenie', '4_mesial'],\n",
       " 'К128Пс': ['1_sujenie'],\n",
       " 'К130Лс': ['1_sujenie'],\n",
       " 'К131Лс': ['1_sujenie', '3_distal'],\n",
       " 'К132Лс': ['1_sujenie'],\n",
       " 'К132Пс': ['1_sujenie'],\n",
       " 'К133Лс': ['1_sujenie'],\n",
       " 'К133Пс': ['1_sujenie'],\n",
       " 'К134Лс': ['1_sujenie', '3_distal'],\n",
       " 'К134Пс': ['1_sujenie'],\n",
       " 'К135Пс': ['1_sujenie', '3_distal'],\n",
       " 'К136Лс': ['1_sujenie'],\n",
       " 'К137Лс': ['1_sujenie', '3_distal'],\n",
       " 'К137Пс': ['1_sujenie'],\n",
       " 'К139Пс': ['1_sujenie'],\n",
       " 'К140Лс': ['1_sujenie'],\n",
       " 'К140Пс': ['1_sujenie', '3_distal'],\n",
       " 'К141Лс': ['1_sujenie'],\n",
       " 'К141Пс': ['1_sujenie', '3_distal'],\n",
       " 'К144Лс': ['1_sujenie', '3_distal'],\n",
       " 'К146Лс': ['1_sujenie'],\n",
       " 'К146Пс': ['1_sujenie'],\n",
       " 'К147Лс': ['1_sujenie'],\n",
       " 'К147Пс': ['1_sujenie'],\n",
       " 'К149Пс': ['1_sujenie', '4_mesial'],\n",
       " 'К150Лс': ['1_sujenie', '3_distal'],\n",
       " 'К150Пс': ['1_sujenie', '3_distal'],\n",
       " 'К151Лс': ['1_sujenie', '3_distal'],\n",
       " 'К152Лс': ['1_sujenie'],\n",
       " 'К152Пс': ['1_sujenie', '4_mesial'],\n",
       " 'К154Лс': ['1_sujenie'],\n",
       " 'К154Пс': ['1_sujenie', '3_distal'],\n",
       " 'К157Лс': ['1_sujenie', '4_mesial'],\n",
       " 'К157Пс': ['1_sujenie', '4_mesial'],\n",
       " 'К158Лс': ['1_sujenie'],\n",
       " 'К158Пс': ['1_sujenie'],\n",
       " 'К15Лс': ['1_sujenie', '3_distal'],\n",
       " 'К160Лс': ['1_sujenie', '3_distal'],\n",
       " 'К160Пс': ['1_sujenie'],\n",
       " 'К161Лс': ['1_sujenie', '3_distal'],\n",
       " 'К161Пс': ['1_sujenie', '3_distal'],\n",
       " 'К167Лс': ['1_sujenie', '3_distal'],\n",
       " 'К167Пс': ['1_sujenie'],\n",
       " 'К169Лс': ['1_sujenie'],\n",
       " 'К16Лс': ['1_sujenie'],\n",
       " 'К170Лс': ['1_sujenie', '3_distal'],\n",
       " 'К170Пс': ['1_sujenie'],\n",
       " 'К173Лс': ['1_sujenie'],\n",
       " 'К173Пс': ['1_sujenie'],\n",
       " 'К175Лс': ['1_sujenie'],\n",
       " 'К175Пс': ['1_sujenie'],\n",
       " 'К176Лс': ['1_sujenie'],\n",
       " 'К176Пс': ['1_sujenie'],\n",
       " 'К177Лс': ['1_sujenie'],\n",
       " 'К177Пс': ['1_sujenie'],\n",
       " 'К178Лс': ['1_sujenie', '3_distal'],\n",
       " 'К178Пс': ['1_sujenie', '3_distal'],\n",
       " 'К180Лс': ['1_sujenie', '3_distal'],\n",
       " 'К180Пс': ['1_sujenie', '4_mesial'],\n",
       " 'К181Пс': ['1_sujenie'],\n",
       " 'К182Лс': ['1_sujenie', '3_distal'],\n",
       " 'К183Лс': ['1_sujenie', '4_mesial'],\n",
       " 'К183Пс': ['1_sujenie', '4_mesial'],\n",
       " 'К186Лс': ['1_sujenie', '3_distal'],\n",
       " 'К186Пс': ['1_sujenie', '3_distal'],\n",
       " 'К187Лс': ['1_sujenie'],\n",
       " 'К18Лс': ['1_sujenie'],\n",
       " 'К18Пс': ['1_sujenie'],\n",
       " 'К192Лс': ['1_sujenie', '3_distal'],\n",
       " 'К194Лс': ['1_sujenie', '4_mesial'],\n",
       " 'К194Пс': ['1_sujenie', '4_mesial'],\n",
       " 'К197Лс': ['1_sujenie', '4_mesial'],\n",
       " 'К199Лс': ['1_sujenie', '3_distal'],\n",
       " 'К204Пс': ['1_sujenie'],\n",
       " 'К205Пс': ['1_sujenie', '3_distal'],\n",
       " 'К206Лс': ['1_sujenie'],\n",
       " 'К206Пс': ['1_sujenie'],\n",
       " 'К208Лс': ['1_sujenie', '3_distal'],\n",
       " 'К208Пс': ['1_sujenie', '3_distal'],\n",
       " 'К210Лс': ['1_sujenie'],\n",
       " 'К211Лс': ['1_sujenie'],\n",
       " 'К217Пс': ['1_sujenie', '3_distal'],\n",
       " 'К223Лс': ['1_sujenie', '3_distal'],\n",
       " 'К223Пс': ['1_sujenie', '3_distal'],\n",
       " 'К229Лс': ['1_sujenie', '3_distal'],\n",
       " 'К229Пс': ['1_sujenie', '3_distal'],\n",
       " 'К231Лс': ['1_sujenie', '4_mesial'],\n",
       " 'К231Пс': ['1_sujenie'],\n",
       " 'К236Лс': ['1_sujenie'],\n",
       " 'К237Лс': ['1_sujenie'],\n",
       " 'К237Пс': ['1_sujenie'],\n",
       " 'К239Лс': ['1_sujenie'],\n",
       " 'К239Пс': ['1_sujenie'],\n",
       " 'К241Лс': ['1_sujenie'],\n",
       " 'К241Пс': ['1_sujenie'],\n",
       " 'К252Лс': ['1_sujenie'],\n",
       " 'К254Лс': ['1_sujenie'],\n",
       " 'К255Лс': ['1_sujenie'],\n",
       " 'К255Пс': ['1_sujenie', '4_mesial'],\n",
       " 'К257Лс': ['1_sujenie'],\n",
       " 'К257Пс': ['1_sujenie'],\n",
       " 'К260Лс': ['1_sujenie'],\n",
       " 'К260Пс': ['1_sujenie'],\n",
       " 'К261Лс': ['1_sujenie'],\n",
       " 'К261Пс': ['1_sujenie'],\n",
       " 'К263Пс': ['1_sujenie'],\n",
       " 'К264Лс': ['1_sujenie'],\n",
       " 'К264Пс': ['1_sujenie', '3_distal'],\n",
       " 'К271Лс': ['1_sujenie'],\n",
       " 'К271Пс': ['1_sujenie', '4_mesial'],\n",
       " 'К273Пс': ['1_sujenie'],\n",
       " 'К274Лс': ['1_sujenie', '3_distal'],\n",
       " 'К274Пс': ['1_sujenie', '3_distal'],\n",
       " 'К276Лс': ['1_sujenie', '3_distal'],\n",
       " 'К277Лс': ['1_sujenie', '4_mesial'],\n",
       " 'К279Лс': ['1_sujenie', '3_distal'],\n",
       " 'К282Лс': ['1_sujenie'],\n",
       " 'К282Пс': ['1_sujenie'],\n",
       " 'К283Пс': ['1_sujenie', '4_mesial'],\n",
       " 'К284Пс': ['1_sujenie'],\n",
       " 'К286Лс': ['1_sujenie', '3_distal'],\n",
       " 'К289Лс': ['1_sujenie'],\n",
       " 'К289Пс': ['1_sujenie'],\n",
       " 'К28Лс': ['1_sujenie'],\n",
       " 'К290Лс': ['1_sujenie'],\n",
       " 'К290Пс': ['1_sujenie'],\n",
       " 'К294Лс': ['1_sujenie', '3_distal'],\n",
       " 'К295Лс': ['1_sujenie'],\n",
       " 'К295Пс': ['1_sujenie', '4_mesial'],\n",
       " 'К297Лс': ['1_sujenie', '3_distal'],\n",
       " 'К299Лс': ['1_sujenie', '3_distal'],\n",
       " 'К300Лс': ['1_sujenie', '3_distal'],\n",
       " 'К300Пс': ['1_sujenie', '3_distal'],\n",
       " 'К32Лс': ['1_sujenie'],\n",
       " 'К33Пс': ['1_sujenie', '3_distal'],\n",
       " 'К34Лс': ['1_sujenie'],\n",
       " 'К34Пс': ['1_sujenie'],\n",
       " 'К35Пс': ['1_sujenie'],\n",
       " 'К39Лс': ['1_sujenie'],\n",
       " 'К39Пс': ['1_sujenie', '4_mesial'],\n",
       " 'К43Лс': ['1_sujenie'],\n",
       " 'К43Пс': ['1_sujenie'],\n",
       " 'К49Лс': ['1_sujenie'],\n",
       " 'К49Пс': ['1_sujenie'],\n",
       " 'К4Лс': ['1_sujenie'],\n",
       " 'К52Лс': ['1_sujenie', '3_distal'],\n",
       " 'К52Пс': ['1_sujenie', '3_distal'],\n",
       " 'К53Лс': ['1_sujenie', '3_distal'],\n",
       " 'К53Пс': ['1_sujenie', '3_distal'],\n",
       " 'К54Пс': ['1_sujenie'],\n",
       " 'К55Лс': ['1_sujenie', '3_distal'],\n",
       " 'К55Пс': ['1_sujenie'],\n",
       " 'К56Лс': ['1_sujenie', '3_distal'],\n",
       " 'К56Пс': ['1_sujenie', '4_mesial'],\n",
       " 'К57Пс': ['1_sujenie'],\n",
       " 'К58Лс': ['1_sujenie'],\n",
       " 'К64Лс': ['1_sujenie', '2_raschirenie'],\n",
       " 'К67Лс': ['1_sujenie'],\n",
       " 'К81Лс': ['1_sujenie'],\n",
       " 'К81Пс': ['1_sujenie'],\n",
       " 'К83Лс': ['1_sujenie'],\n",
       " 'К83Пс': ['1_sujenie'],\n",
       " 'К84Лс': ['1_sujenie'],\n",
       " 'К84Пс': ['1_sujenie'],\n",
       " 'К85Пс': ['1_sujenie'],\n",
       " 'К86Лс': ['1_sujenie'],\n",
       " 'К86Пс': ['1_sujenie', '3_distal'],\n",
       " 'К92Лс': ['1_sujenie'],\n",
       " 'К93Пс': ['1_sujenie'],\n",
       " 'К95Лс': ['1_sujenie', '3_distal'],\n",
       " 'К95Пс': ['1_sujenie', '3_distal'],\n",
       " 'К96Пс': ['1_sujenie'],\n",
       " 'К98Пс': ['1_sujenie'],\n",
       " 'К99Пс': ['1_sujenie'],\n",
       " 'С299Пс': ['1_sujenie'],\n",
       " 'К115Лс': ['2_raschirenie', '4_mesial'],\n",
       " 'К115Пс': ['2_raschirenie', '4_mesial'],\n",
       " 'К129Лс': ['2_raschirenie', '4_mesial'],\n",
       " 'К129Пс': ['2_raschirenie', '4_mesial'],\n",
       " 'К130Пс': ['2_raschirenie'],\n",
       " 'К131Пс': ['2_raschirenie'],\n",
       " 'К138Пс': ['2_raschirenie', '3_distal'],\n",
       " 'К149Лс': ['2_raschirenie', '4_mesial'],\n",
       " 'К155Лс': ['2_raschirenie', '4_mesial'],\n",
       " 'К155Пс': ['2_raschirenie'],\n",
       " 'К171Лс': ['2_raschirenie'],\n",
       " 'К171Пк': ['2_raschirenie', '3_distal'],\n",
       " 'К172Лс': ['2_raschirenie', '4_mesial'],\n",
       " 'К172Пс': ['2_raschirenie', '4_mesial'],\n",
       " 'К181Лс': ['2_raschirenie'],\n",
       " 'К190Пс': ['2_raschirenie', '4_mesial'],\n",
       " 'К1Пс': ['2_raschirenie', '3_distal'],\n",
       " 'К216Лс': ['2_raschirenie'],\n",
       " 'К217Лс': ['2_raschirenie', '3_distal'],\n",
       " 'К232Лс': ['2_raschirenie'],\n",
       " 'К23Лс': ['2_raschirenie'],\n",
       " 'К23Пс': ['2_raschirenie'],\n",
       " 'К245Пс': ['2_raschirenie'],\n",
       " 'К248Пс': ['2_raschirenie', '3_distal'],\n",
       " 'К24Лс': ['2_raschirenie'],\n",
       " 'К256Лс': ['2_raschirenie'],\n",
       " 'К256Пс': ['2_raschirenie', '4_mesial'],\n",
       " 'К265Лс': ['2_raschirenie', '4_mesial'],\n",
       " 'К265Пс': ['2_raschirenie', '4_mesial'],\n",
       " 'К266Лс': ['2_raschirenie', '4_mesial'],\n",
       " 'К266Пс': ['2_raschirenie', '4_mesial'],\n",
       " 'К268Лс': ['2_raschirenie'],\n",
       " 'К275Пс': ['2_raschirenie', '3_distal'],\n",
       " 'К285Лс': ['2_raschirenie', '3_distal'],\n",
       " 'К291Лс': ['2_raschirenie', '4_mesial'],\n",
       " 'К291Пс': ['2_raschirenie', '4_mesial'],\n",
       " 'К296Пс': ['2_raschirenie', '4_mesial'],\n",
       " 'К297Па': ['2_raschirenie', '4_mesial'],\n",
       " 'К29Пс': ['2_raschirenie'],\n",
       " 'К30Пс': ['2_raschirenie', '4_mesial'],\n",
       " 'К36Лс': ['2_raschirenie', '4_mesial'],\n",
       " 'К36Пс': ['2_raschirenie', '4_mesial'],\n",
       " 'К41Лс': ['2_raschirenie', '4_mesial'],\n",
       " 'К42Пс': ['2_raschirenie'],\n",
       " 'К46Лс': ['2_raschirenie', '4_mesial'],\n",
       " 'К46Пс': ['2_raschirenie', '4_mesial'],\n",
       " 'К48Пс': ['2_raschirenie', '3_distal'],\n",
       " 'К61Лс': ['2_raschirenie', '4_mesial'],\n",
       " 'К61Пс': ['2_raschirenie', '4_mesial'],\n",
       " 'К62Пс': ['2_raschirenie'],\n",
       " 'К64Пс': ['2_raschirenie'],\n",
       " 'К6Лс': ['2_raschirenie', '4_mesial'],\n",
       " 'К6Пс': ['2_raschirenie', '4_mesial'],\n",
       " 'К77Лс': ['2_raschirenie', '3_distal'],\n",
       " 'К77Пс': ['2_raschirenie', '3_distal'],\n",
       " 'К85Лс': ['2_raschirenie'],\n",
       " 'К89Лс': ['2_raschirenie'],\n",
       " 'К89Пс': ['2_raschirenie', '4_mesial'],\n",
       " 'К91Лс': ['2_raschirenie', '3_distal'],\n",
       " 'К91Пс': ['2_raschirenie', '3_distal'],\n",
       " 'К96Лс': ['2_raschirenie'],\n",
       " 'К97Лс': ['2_raschirenie'],\n",
       " 'К9Пс': ['2_raschirenie'],\n",
       " 'К101Лс': ['3_distal'],\n",
       " 'К105Пс': ['3_distal'],\n",
       " 'К106Лс': ['3_distal'],\n",
       " 'К106Пс': ['3_distal'],\n",
       " 'К116Лс': ['3_distal'],\n",
       " 'К118Лс': ['3_distal'],\n",
       " 'К11Лс': ['3_distal'],\n",
       " 'К121Лс': ['3_distal'],\n",
       " 'К122Лс': ['3_distal'],\n",
       " 'К12Лс': ['3_distal'],\n",
       " 'К135Лс': ['3_distal'],\n",
       " 'К136Пс': ['3_distal'],\n",
       " 'К138Лс': ['3_distal'],\n",
       " 'К13Пс': ['3_distal'],\n",
       " 'К145Лс': ['3_distal'],\n",
       " 'К145Пс': ['3_distal'],\n",
       " 'К14Пс': ['3_distal'],\n",
       " 'К153Лс': ['3_distal'],\n",
       " 'К153Пс': ['3_distal'],\n",
       " 'К156Лс': ['3_distal'],\n",
       " 'К156Пс': ['3_distal'],\n",
       " 'К159Лс': ['3_distal'],\n",
       " 'К169Пс': ['3_distal'],\n",
       " 'К184Лс': ['3_distal'],\n",
       " 'К184Пс': ['3_distal'],\n",
       " 'К188Пс': ['3_distal'],\n",
       " 'К195Лс': ['3_distal'],\n",
       " 'К1Лс': ['3_distal'],\n",
       " 'К201Лс': ['3_distal'],\n",
       " 'К201Пс': ['3_distal'],\n",
       " 'К204Лс': ['3_distal'],\n",
       " 'К207Лс': ['3_distal'],\n",
       " 'К207Пс': ['3_distal'],\n",
       " 'К210Пс': ['3_distal'],\n",
       " 'К211Пс': ['3_distal'],\n",
       " 'К212Лс': ['3_distal'],\n",
       " 'К212Пс': ['3_distal'],\n",
       " 'К213Лс': ['3_distal'],\n",
       " 'К213Пс': ['3_distal'],\n",
       " 'К216Пс': ['3_distal'],\n",
       " 'К219Лс': ['3_distal'],\n",
       " 'К219Пс': ['3_distal'],\n",
       " 'К220Пс': ['3_distal'],\n",
       " 'К221Пс': ['3_distal'],\n",
       " 'К233Пс': ['3_distal'],\n",
       " 'К240Лс': ['3_distal'],\n",
       " 'К243Лс': ['3_distal'],\n",
       " 'К243Пс': ['3_distal'],\n",
       " 'К245Лс': ['3_distal'],\n",
       " 'К246Лс': ['3_distal'],\n",
       " 'К246Пс': ['3_distal'],\n",
       " 'К247Лс': ['3_distal'],\n",
       " 'К247Пс': ['3_distal'],\n",
       " 'К248Лс': ['3_distal'],\n",
       " 'К249Лс': ['3_distal'],\n",
       " 'К249Пс': ['3_distal'],\n",
       " 'К252Пс': ['3_distal'],\n",
       " 'К254Пс': ['3_distal'],\n",
       " 'К263Лс': ['3_distal'],\n",
       " 'К263Пк': ['3_distal'],\n",
       " 'К269Пс': ['3_distal'],\n",
       " 'К26Лс': ['3_distal'],\n",
       " 'К26Пс': ['3_distal'],\n",
       " 'К270Лс': ['3_distal'],\n",
       " 'К270Пс': ['3_distal'],\n",
       " 'К272Лс': ['3_distal'],\n",
       " 'К272Пс': ['3_distal'],\n",
       " 'К273Лс': ['3_distal'],\n",
       " 'К275Лс': ['3_distal'],\n",
       " 'К276Пс': ['3_distal'],\n",
       " 'К278Лс': ['3_distal'],\n",
       " 'К278Пс': ['3_distal'],\n",
       " 'К279Пс': ['3_distal'],\n",
       " 'К27Лс': ['3_distal'],\n",
       " 'К27Пс': ['3_distal'],\n",
       " 'К285Пс': ['3_distal'],\n",
       " 'К286Пс': ['3_distal'],\n",
       " 'К28Пс': ['3_distal'],\n",
       " 'К294Пс': ['3_distal'],\n",
       " 'К298Лс': ['3_distal'],\n",
       " 'К2Лс': ['3_distal'],\n",
       " 'К2Пс': ['3_distal'],\n",
       " 'К3П': ['3_distal'],\n",
       " 'К44Лс': ['3_distal'],\n",
       " 'К44Пс': ['3_distal'],\n",
       " 'К45Лс': ['3_distal'],\n",
       " 'К45Пс': ['3_distal'],\n",
       " 'К50Лс': ['3_distal'],\n",
       " 'К50Пс': ['3_distal'],\n",
       " 'К51Лс': ['3_distal'],\n",
       " 'К51Пс': ['3_distal'],\n",
       " 'К57Лс': ['3_distal'],\n",
       " 'К58Пс': ['3_distal'],\n",
       " 'К5Лс': ['3_distal'],\n",
       " 'К67Пс': ['3_distal'],\n",
       " 'К68Пс': ['3_distal'],\n",
       " 'К69Лс': ['3_distal'],\n",
       " 'К69Пс': ['3_distal'],\n",
       " 'К93Лс': ['3_distal'],\n",
       " 'К107Лс': ['4_mesial'],\n",
       " 'К107Пс': ['4_mesial'],\n",
       " 'К117Лс': ['4_mesial'],\n",
       " 'К127Пс': ['4_mesial'],\n",
       " 'К139Лс': ['4_mesial'],\n",
       " 'К159Пс': ['4_mesial'],\n",
       " 'К164Пс': ['4_mesial'],\n",
       " 'К182Пс': ['4_mesial'],\n",
       " 'К185Лс': ['4_mesial'],\n",
       " 'К187Пс': ['4_mesial'],\n",
       " 'К189Лс': ['4_mesial'],\n",
       " 'К189Пс': ['4_mesial'],\n",
       " 'К193Пс': ['4_mesial'],\n",
       " 'К195Пс': ['4_mesial'],\n",
       " 'К196Пс': ['4_mesial'],\n",
       " 'К20Лс': ['4_mesial'],\n",
       " 'К214Лс': ['4_mesial'],\n",
       " 'К215Лс': ['4_mesial'],\n",
       " 'К218Лс': ['4_mesial'],\n",
       " 'К220Лс': ['4_mesial'],\n",
       " 'К221Лс': ['4_mesial'],\n",
       " 'К222Лс': ['4_mesial'],\n",
       " 'К230Лс': ['4_mesial'],\n",
       " 'К230Пс': ['4_mesial'],\n",
       " 'К235Лс': ['4_mesial'],\n",
       " 'К24Пс': ['4_mesial'],\n",
       " 'К251Лс': ['4_mesial'],\n",
       " 'К251Пс': ['4_mesial'],\n",
       " 'К25Пс': ['4_mesial'],\n",
       " 'К269Лс': ['4_mesial'],\n",
       " 'К283Лс': ['4_mesial'],\n",
       " 'К287Лс': ['4_mesial'],\n",
       " 'К287Пс': ['4_mesial'],\n",
       " 'К288Лс': ['4_mesial'],\n",
       " 'К288Пс': ['4_mesial'],\n",
       " 'К296Лс': ['4_mesial'],\n",
       " 'К31Лс': ['4_mesial'],\n",
       " 'К38Лс': ['4_mesial'],\n",
       " 'К47Лс': ['4_mesial'],\n",
       " 'К47Пс': ['4_mesial'],\n",
       " 'К60Лс': ['4_mesial'],\n",
       " 'К60Пс': ['4_mesial'],\n",
       " 'К62Лс': ['4_mesial'],\n",
       " 'К87Пс': ['4_mesial']}"
      ]
     },
     "execution_count": 14,
     "metadata": {},
     "output_type": "execute_result"
    }
   ],
   "source": [
    "folders = [\"0_normal\", \"1_sujenie\", \"2_raschirenie\", \"3_distal\", \"4_mesial\"]\n",
    "slov = {}\n",
    "\n",
    "# Проход по каждой папке и каждому изображению\n",
    "for folder in folders:\n",
    "    images = os.listdir(folder)\n",
    "    for image in images:\n",
    "        if image.endswith('.jpg'):\n",
    "            image_name = os.path.splitext(image)[0]\n",
    "            # Проверка, есть ли уже ключ в словаре\n",
    "            if image_name not in slov:\n",
    "                slov[image_name] = []\n",
    "            # Добавление текущей папки к значению ключа\n",
    "            slov[image_name].append(folder)\n",
    "\n",
    "slov"
   ]
  },
  {
   "cell_type": "code",
   "execution_count": 15,
   "id": "5a07353f",
   "metadata": {},
   "outputs": [
    {
     "data": {
      "text/plain": [
       "460"
      ]
     },
     "execution_count": 15,
     "metadata": {},
     "output_type": "execute_result"
    }
   ],
   "source": [
    "len(slov)"
   ]
  },
  {
   "cell_type": "markdown",
   "id": "de7cf359",
   "metadata": {},
   "source": [
    "#### 00.5 копирование изображения из всех папок в одну \"all\""
   ]
  },
  {
   "cell_type": "code",
   "execution_count": 16,
   "id": "551c642e",
   "metadata": {},
   "outputs": [],
   "source": [
    "import shutil\n",
    "\n",
    "# Пути к папкам с изображениями\n",
    "folders = [\"0_normal\", \"1_sujenie\", \"2_raschirenie\", \"3_distal\", \"4_mesial\"]\n",
    "\n",
    "# Создание папки 'all' для объединения всех изображений\n",
    "output_folder = 'all'\n",
    "os.makedirs(output_folder, exist_ok=True)\n",
    "\n",
    "# Перебор всех папок с изображениями\n",
    "for folder in folders:\n",
    "    # Получение списка файлов изображений в папке\n",
    "    image_files = os.listdir(folder)\n",
    "\n",
    "    # Перебор всех файлов изображений\n",
    "    for file_name in image_files:\n",
    "        if file_name.lower().endswith('.jpg'):\n",
    "            # Путь к исходному файлу\n",
    "            source_path = os.path.join(folder, file_name)\n",
    "\n",
    "            # Путь к целевому файлу\n",
    "            destination_path = os.path.join(output_folder, file_name)\n",
    "\n",
    "            # Копирование файла в папку 'all'\n",
    "            shutil.copy2(source_path, destination_path)"
   ]
  },
  {
   "cell_type": "markdown",
   "id": "bbdadcef",
   "metadata": {},
   "source": [
    "#### количество файлов в папке"
   ]
  },
  {
   "cell_type": "code",
   "execution_count": 17,
   "id": "29f32c60",
   "metadata": {},
   "outputs": [
    {
     "name": "stdout",
     "output_type": "stream",
     "text": [
      "460\n"
     ]
    }
   ],
   "source": [
    "def count_photos(folder_path):\n",
    "    photo_extensions = ['.jpg', '.jpeg', '.png', 'gif']\n",
    "    count = 0\n",
    "    for file_name in os.listdir(folder_path):\n",
    "        _, extension = os.path.splitext(file_name)\n",
    "        if extension.lower() in photo_extensions:\n",
    "            count += 1\n",
    "    return count\n",
    "\n",
    "folder_path = \"all\"\n",
    "photo_count = count_photos(folder_path)\n",
    "print(photo_count)"
   ]
  },
  {
   "cell_type": "markdown",
   "id": "a9166774",
   "metadata": {},
   "source": [
    "#### 00.6 удалить возможные дубликаты из папки \"all\""
   ]
  },
  {
   "cell_type": "code",
   "execution_count": 18,
   "id": "a7f1e0e2",
   "metadata": {},
   "outputs": [],
   "source": [
    "folder = 'all'\n",
    "\n",
    "# Получение списка всех файлов в папке\n",
    "files = os.listdir(folder)\n",
    "\n",
    "# Создание словаря для отслеживания дубликатов\n",
    "seen = {}\n",
    "\n",
    "for file in files:\n",
    "    file_path = os.path.join(folder, file)\n",
    "    \n",
    "    # Если файл уже существует в словаре, это значит что он дублируется\n",
    "    if file in seen:\n",
    "        # Удаление дубликата файла\n",
    "        os.remove(file_path)\n",
    "    else:\n",
    "        # Добавление файл в словарь\n",
    "        seen[file] = 1"
   ]
  },
  {
   "cell_type": "markdown",
   "id": "12969f9b",
   "metadata": {},
   "source": [
    "#### количество файлов в папке"
   ]
  },
  {
   "cell_type": "code",
   "execution_count": 19,
   "id": "71ba08d2",
   "metadata": {},
   "outputs": [
    {
     "name": "stdout",
     "output_type": "stream",
     "text": [
      "460\n"
     ]
    }
   ],
   "source": [
    "def count_photos(folder_path):\n",
    "    photo_extensions = ['.jpg', '.jpeg', '.png', 'gif']\n",
    "    count = 0\n",
    "    for file_name in os.listdir(folder_path):\n",
    "        _, extension = os.path.splitext(file_name)\n",
    "        if extension.lower() in photo_extensions:\n",
    "            count += 1\n",
    "    return count\n",
    "\n",
    "folder_path = \"all\"\n",
    "photo_count = count_photos(folder_path)\n",
    "print(photo_count)"
   ]
  },
  {
   "cell_type": "code",
   "execution_count": 20,
   "id": "7e7f8eb6",
   "metadata": {},
   "outputs": [],
   "source": [
    "folder_path = \"all\" # Папка с изображениями\n",
    "output_directory = \"all_0_80_20\" # Папка для сохранения измененных изображений\n",
    "\n",
    "if not os.path.exists(output_directory):# папку для сохранения измененных изображений, если она не существует\n",
    "    os.makedirs(output_directory)\n",
    "\n",
    "# Получение списка файлов изображений в папке\n",
    "image_files = [f for f in os.listdir(folder_path) if os.path.isfile(os.path.join(folder_path, f)) and f.lower().endswith((\".jpg\", \".png\"))]\n",
    "\n",
    "\n",
    "for file in image_files: # Проход по каждому изображению\n",
    "    image_path = os.path.join(folder_path, file) # Полный путь к текущему изображению\n",
    "    image = Image.open(image_path) # Загрузка изображения\n",
    "    \n",
    "    image_array = np.array(image) # Преобразование изображения в массив numpy\n",
    "    yellow_lower = (120,120, 0) # Определение границ для желтого цвета в формате RGB\n",
    "    yellow_upper = (255, 255,255)\n",
    "    yellow_mask = np.logical_and(np.all(image_array >= yellow_lower, axis=-1), # Создание маски для желтого цвета\n",
    "                                 np.all(image_array <= yellow_upper, axis=-1))\n",
    "    image_array[yellow_mask] = 75, 75, 75 # Замена пикселей желтого цвета на черно-белые пиксели (80, 80, 80)\n",
    "    final_image = Image.fromarray(image_array.astype(np.uint8))\n",
    "##################################################################################                \n",
    "   \n",
    "    width, height = final_image.size  # Получаем ширину и высоту изображения\n",
    "    image_bw = Image.new('RGB', (width, height)) # Создаем новое черно-белое изображение с тремя каналами\n",
    "    for x in range(width):  # Обработка каждого пикселя\n",
    "        for y in range(height):\n",
    "            r, g, b = final_image.getpixel((x, y)) # Получаем значения каналов RGB пикселя\n",
    "            if (r, g, b) != (0, 0, 0):  # Присваиваем всем цветным пикселям одинаковое значение G\n",
    "                r = int(min((r,g,b)))\n",
    "                g = int(min((r,g,b)))\n",
    "                b = int(min((r,g,b)))\n",
    "                image_bw.putpixel((x, y), (r, g, b))  # Устанавливаем новые значения каналов для черно-белого изображения\n",
    "####################################################################################            \n",
    "        bw_image1 = np.array(image_bw) # \n",
    "        bw_image2 = bw_image1[:, :, 0]\n",
    "        final_image1 = Image.fromarray(bw_image2)\n",
    "####################################################################################\n",
    "        final_image2 =final_image1\n",
    "        image_array = np.array(final_image2)\n",
    "        image_array[image_array <= 85] = 0\n",
    "        #image_array[(image_array > 0) & (image_array <= 80)] = 20\n",
    "        final_image3 = Image.fromarray(image_array.astype(np.uint8))\n",
    "####################################################################################\n",
    "        enhancer = ImageEnhance.Contrast(final_image3) # Создание объекта для улучшения контрастности\n",
    "        enhanced_image3 = enhancer.enhance(70.0) # Увеличение контрастности\n",
    "    \n",
    "    output_path = os.path.join(output_directory, file) # Путь для сохранения измененного изображения\n",
    "    enhanced_image3.save(output_path) # Сохранение измененного изображения"
   ]
  },
  {
   "cell_type": "markdown",
   "id": "db28b8d0",
   "metadata": {},
   "source": [
    "#### 00.7 преобразование значений словаря из типа списка в тип str для последующей обработки (выделение двойных патологий)"
   ]
  },
  {
   "cell_type": "code",
   "execution_count": 21,
   "id": "a21a14f0",
   "metadata": {},
   "outputs": [],
   "source": [
    "import copy\n",
    "slo = copy.deepcopy(slov)"
   ]
  },
  {
   "cell_type": "code",
   "execution_count": 22,
   "id": "a9358539",
   "metadata": {},
   "outputs": [],
   "source": [
    "for key, value in slo.items():\n",
    "    if len(value) == 1:\n",
    "        slo[key] = value[0]\n",
    "    elif len(value) > 1:\n",
    "        slo[key] = \",\".join(value)"
   ]
  },
  {
   "cell_type": "code",
   "execution_count": 23,
   "id": "31d7d976",
   "metadata": {},
   "outputs": [
    {
     "data": {
      "text/plain": [
       "{'К104Пс': '0_normal',\n",
       " 'К110Лс': '0_normal',\n",
       " 'К111Лс': '0_normal',\n",
       " 'К111Пс': '0_normal',\n",
       " 'К112Пс': '0_normal',\n",
       " 'К113Лс': '0_normal',\n",
       " 'К113Пс': '0_normal',\n",
       " 'К114Лс': '0_normal',\n",
       " 'К117Пс': '0_normal',\n",
       " 'К118Пс': '0_normal',\n",
       " 'К144Пс': '0_normal',\n",
       " 'К14Лс': '0_normal',\n",
       " 'К151Пс': '0_normal',\n",
       " 'К164Лс': '0_normal',\n",
       " 'К179Лс': '0_normal',\n",
       " 'К179Пс': '0_normal',\n",
       " 'К185Пс': '0_normal',\n",
       " 'К188Лс': '0_normal',\n",
       " 'К190Лс': '0_normal',\n",
       " 'К192Пс': '0_normal',\n",
       " 'К193Лс': '0_normal',\n",
       " 'К196Лс': '0_normal',\n",
       " 'К199Пс': '0_normal',\n",
       " 'К19Лс': '0_normal',\n",
       " 'К205Лс': '0_normal',\n",
       " 'К209Лс': '0_normal',\n",
       " 'К209Пс': '0_normal',\n",
       " 'К214Пс': '0_normal',\n",
       " 'К215Пс': '0_normal',\n",
       " 'К218Пс': '0_normal',\n",
       " 'К233Лс': '0_normal',\n",
       " 'К240Пс': '0_normal',\n",
       " 'К25Лс': '0_normal',\n",
       " 'К267Лс': '0_normal',\n",
       " 'К267Пс': '0_normal',\n",
       " 'К268Пс': '0_normal',\n",
       " 'К277Пс': '0_normal',\n",
       " 'К281Лс': '0_normal',\n",
       " 'К284Лс': '0_normal',\n",
       " 'К29Лс': '0_normal',\n",
       " 'К30Лс': '0_normal',\n",
       " 'К37Пс': '0_normal',\n",
       " 'К3Л': '0_normal',\n",
       " 'К42Лс': '0_normal',\n",
       " 'К48Лс': '0_normal',\n",
       " 'К54Лс': '0_normal',\n",
       " 'К68Лс': '0_normal',\n",
       " 'К88Лс': '0_normal',\n",
       " 'К88Пс': '0_normal',\n",
       " 'К8Лс': '0_normal',\n",
       " 'К8Пс': '0_normal,1_sujenie',\n",
       " 'К94Лс': '0_normal',\n",
       " 'К94Пс': '0_normal',\n",
       " 'К98Лс': '0_normal',\n",
       " 'К99Лс': '0_normal',\n",
       " 'K31Пс': '1_sujenie',\n",
       " 'К100Лс': '1_sujenie',\n",
       " 'К100Пс': '1_sujenie',\n",
       " 'К101Пс': '1_sujenie,3_distal',\n",
       " 'К102Лс': '1_sujenie',\n",
       " 'К102Пс': '1_sujenie',\n",
       " 'К103Лс': '1_sujenie,3_distal',\n",
       " 'К103Пс': '1_sujenie',\n",
       " 'К108Лс': '1_sujenie',\n",
       " 'К108Пс': '1_sujenie',\n",
       " 'К109Лс': '1_sujenie',\n",
       " 'К109Пс': '1_sujenie',\n",
       " 'К10Пс': '1_sujenie,4_mesial',\n",
       " 'К110Пс': '1_sujenie',\n",
       " 'К112Лс': '1_sujenie',\n",
       " 'К114Пс': '1_sujenie',\n",
       " 'К122Пс': '1_sujenie,3_distal',\n",
       " 'К124Лс': '1_sujenie,3_distal',\n",
       " 'К124Пс': '1_sujenie,3_distal',\n",
       " 'К125Лс': '1_sujenie,3_distal',\n",
       " 'К125Пс': '1_sujenie,3_distal',\n",
       " 'К126Лс': '1_sujenie,3_distal',\n",
       " 'К126Пс': '1_sujenie',\n",
       " 'К127Лс': '1_sujenie,4_mesial',\n",
       " 'К128Лс': '1_sujenie,4_mesial',\n",
       " 'К128Пс': '1_sujenie',\n",
       " 'К130Лс': '1_sujenie',\n",
       " 'К131Лс': '1_sujenie,3_distal',\n",
       " 'К132Лс': '1_sujenie',\n",
       " 'К132Пс': '1_sujenie',\n",
       " 'К133Лс': '1_sujenie',\n",
       " 'К133Пс': '1_sujenie',\n",
       " 'К134Лс': '1_sujenie,3_distal',\n",
       " 'К134Пс': '1_sujenie',\n",
       " 'К135Пс': '1_sujenie,3_distal',\n",
       " 'К136Лс': '1_sujenie',\n",
       " 'К137Лс': '1_sujenie,3_distal',\n",
       " 'К137Пс': '1_sujenie',\n",
       " 'К139Пс': '1_sujenie',\n",
       " 'К140Лс': '1_sujenie',\n",
       " 'К140Пс': '1_sujenie,3_distal',\n",
       " 'К141Лс': '1_sujenie',\n",
       " 'К141Пс': '1_sujenie,3_distal',\n",
       " 'К144Лс': '1_sujenie,3_distal',\n",
       " 'К146Лс': '1_sujenie',\n",
       " 'К146Пс': '1_sujenie',\n",
       " 'К147Лс': '1_sujenie',\n",
       " 'К147Пс': '1_sujenie',\n",
       " 'К149Пс': '1_sujenie,4_mesial',\n",
       " 'К150Лс': '1_sujenie,3_distal',\n",
       " 'К150Пс': '1_sujenie,3_distal',\n",
       " 'К151Лс': '1_sujenie,3_distal',\n",
       " 'К152Лс': '1_sujenie',\n",
       " 'К152Пс': '1_sujenie,4_mesial',\n",
       " 'К154Лс': '1_sujenie',\n",
       " 'К154Пс': '1_sujenie,3_distal',\n",
       " 'К157Лс': '1_sujenie,4_mesial',\n",
       " 'К157Пс': '1_sujenie,4_mesial',\n",
       " 'К158Лс': '1_sujenie',\n",
       " 'К158Пс': '1_sujenie',\n",
       " 'К15Лс': '1_sujenie,3_distal',\n",
       " 'К160Лс': '1_sujenie,3_distal',\n",
       " 'К160Пс': '1_sujenie',\n",
       " 'К161Лс': '1_sujenie,3_distal',\n",
       " 'К161Пс': '1_sujenie,3_distal',\n",
       " 'К167Лс': '1_sujenie,3_distal',\n",
       " 'К167Пс': '1_sujenie',\n",
       " 'К169Лс': '1_sujenie',\n",
       " 'К16Лс': '1_sujenie',\n",
       " 'К170Лс': '1_sujenie,3_distal',\n",
       " 'К170Пс': '1_sujenie',\n",
       " 'К173Лс': '1_sujenie',\n",
       " 'К173Пс': '1_sujenie',\n",
       " 'К175Лс': '1_sujenie',\n",
       " 'К175Пс': '1_sujenie',\n",
       " 'К176Лс': '1_sujenie',\n",
       " 'К176Пс': '1_sujenie',\n",
       " 'К177Лс': '1_sujenie',\n",
       " 'К177Пс': '1_sujenie',\n",
       " 'К178Лс': '1_sujenie,3_distal',\n",
       " 'К178Пс': '1_sujenie,3_distal',\n",
       " 'К180Лс': '1_sujenie,3_distal',\n",
       " 'К180Пс': '1_sujenie,4_mesial',\n",
       " 'К181Пс': '1_sujenie',\n",
       " 'К182Лс': '1_sujenie,3_distal',\n",
       " 'К183Лс': '1_sujenie,4_mesial',\n",
       " 'К183Пс': '1_sujenie,4_mesial',\n",
       " 'К186Лс': '1_sujenie,3_distal',\n",
       " 'К186Пс': '1_sujenie,3_distal',\n",
       " 'К187Лс': '1_sujenie',\n",
       " 'К18Лс': '1_sujenie',\n",
       " 'К18Пс': '1_sujenie',\n",
       " 'К192Лс': '1_sujenie,3_distal',\n",
       " 'К194Лс': '1_sujenie,4_mesial',\n",
       " 'К194Пс': '1_sujenie,4_mesial',\n",
       " 'К197Лс': '1_sujenie,4_mesial',\n",
       " 'К199Лс': '1_sujenie,3_distal',\n",
       " 'К204Пс': '1_sujenie',\n",
       " 'К205Пс': '1_sujenie,3_distal',\n",
       " 'К206Лс': '1_sujenie',\n",
       " 'К206Пс': '1_sujenie',\n",
       " 'К208Лс': '1_sujenie,3_distal',\n",
       " 'К208Пс': '1_sujenie,3_distal',\n",
       " 'К210Лс': '1_sujenie',\n",
       " 'К211Лс': '1_sujenie',\n",
       " 'К217Пс': '1_sujenie,3_distal',\n",
       " 'К223Лс': '1_sujenie,3_distal',\n",
       " 'К223Пс': '1_sujenie,3_distal',\n",
       " 'К229Лс': '1_sujenie,3_distal',\n",
       " 'К229Пс': '1_sujenie,3_distal',\n",
       " 'К231Лс': '1_sujenie,4_mesial',\n",
       " 'К231Пс': '1_sujenie',\n",
       " 'К236Лс': '1_sujenie',\n",
       " 'К237Лс': '1_sujenie',\n",
       " 'К237Пс': '1_sujenie',\n",
       " 'К239Лс': '1_sujenie',\n",
       " 'К239Пс': '1_sujenie',\n",
       " 'К241Лс': '1_sujenie',\n",
       " 'К241Пс': '1_sujenie',\n",
       " 'К252Лс': '1_sujenie',\n",
       " 'К254Лс': '1_sujenie',\n",
       " 'К255Лс': '1_sujenie',\n",
       " 'К255Пс': '1_sujenie,4_mesial',\n",
       " 'К257Лс': '1_sujenie',\n",
       " 'К257Пс': '1_sujenie',\n",
       " 'К260Лс': '1_sujenie',\n",
       " 'К260Пс': '1_sujenie',\n",
       " 'К261Лс': '1_sujenie',\n",
       " 'К261Пс': '1_sujenie',\n",
       " 'К263Пс': '1_sujenie',\n",
       " 'К264Лс': '1_sujenie',\n",
       " 'К264Пс': '1_sujenie,3_distal',\n",
       " 'К271Лс': '1_sujenie',\n",
       " 'К271Пс': '1_sujenie,4_mesial',\n",
       " 'К273Пс': '1_sujenie',\n",
       " 'К274Лс': '1_sujenie,3_distal',\n",
       " 'К274Пс': '1_sujenie,3_distal',\n",
       " 'К276Лс': '1_sujenie,3_distal',\n",
       " 'К277Лс': '1_sujenie,4_mesial',\n",
       " 'К279Лс': '1_sujenie,3_distal',\n",
       " 'К282Лс': '1_sujenie',\n",
       " 'К282Пс': '1_sujenie',\n",
       " 'К283Пс': '1_sujenie,4_mesial',\n",
       " 'К284Пс': '1_sujenie',\n",
       " 'К286Лс': '1_sujenie,3_distal',\n",
       " 'К289Лс': '1_sujenie',\n",
       " 'К289Пс': '1_sujenie',\n",
       " 'К28Лс': '1_sujenie',\n",
       " 'К290Лс': '1_sujenie',\n",
       " 'К290Пс': '1_sujenie',\n",
       " 'К294Лс': '1_sujenie,3_distal',\n",
       " 'К295Лс': '1_sujenie',\n",
       " 'К295Пс': '1_sujenie,4_mesial',\n",
       " 'К297Лс': '1_sujenie,3_distal',\n",
       " 'К299Лс': '1_sujenie,3_distal',\n",
       " 'К300Лс': '1_sujenie,3_distal',\n",
       " 'К300Пс': '1_sujenie,3_distal',\n",
       " 'К32Лс': '1_sujenie',\n",
       " 'К33Пс': '1_sujenie,3_distal',\n",
       " 'К34Лс': '1_sujenie',\n",
       " 'К34Пс': '1_sujenie',\n",
       " 'К35Пс': '1_sujenie',\n",
       " 'К39Лс': '1_sujenie',\n",
       " 'К39Пс': '1_sujenie,4_mesial',\n",
       " 'К43Лс': '1_sujenie',\n",
       " 'К43Пс': '1_sujenie',\n",
       " 'К49Лс': '1_sujenie',\n",
       " 'К49Пс': '1_sujenie',\n",
       " 'К4Лс': '1_sujenie',\n",
       " 'К52Лс': '1_sujenie,3_distal',\n",
       " 'К52Пс': '1_sujenie,3_distal',\n",
       " 'К53Лс': '1_sujenie,3_distal',\n",
       " 'К53Пс': '1_sujenie,3_distal',\n",
       " 'К54Пс': '1_sujenie',\n",
       " 'К55Лс': '1_sujenie,3_distal',\n",
       " 'К55Пс': '1_sujenie',\n",
       " 'К56Лс': '1_sujenie,3_distal',\n",
       " 'К56Пс': '1_sujenie,4_mesial',\n",
       " 'К57Пс': '1_sujenie',\n",
       " 'К58Лс': '1_sujenie',\n",
       " 'К64Лс': '1_sujenie,2_raschirenie',\n",
       " 'К67Лс': '1_sujenie',\n",
       " 'К81Лс': '1_sujenie',\n",
       " 'К81Пс': '1_sujenie',\n",
       " 'К83Лс': '1_sujenie',\n",
       " 'К83Пс': '1_sujenie',\n",
       " 'К84Лс': '1_sujenie',\n",
       " 'К84Пс': '1_sujenie',\n",
       " 'К85Пс': '1_sujenie',\n",
       " 'К86Лс': '1_sujenie',\n",
       " 'К86Пс': '1_sujenie,3_distal',\n",
       " 'К92Лс': '1_sujenie',\n",
       " 'К93Пс': '1_sujenie',\n",
       " 'К95Лс': '1_sujenie,3_distal',\n",
       " 'К95Пс': '1_sujenie,3_distal',\n",
       " 'К96Пс': '1_sujenie',\n",
       " 'К98Пс': '1_sujenie',\n",
       " 'К99Пс': '1_sujenie',\n",
       " 'С299Пс': '1_sujenie',\n",
       " 'К115Лс': '2_raschirenie,4_mesial',\n",
       " 'К115Пс': '2_raschirenie,4_mesial',\n",
       " 'К129Лс': '2_raschirenie,4_mesial',\n",
       " 'К129Пс': '2_raschirenie,4_mesial',\n",
       " 'К130Пс': '2_raschirenie',\n",
       " 'К131Пс': '2_raschirenie',\n",
       " 'К138Пс': '2_raschirenie,3_distal',\n",
       " 'К149Лс': '2_raschirenie,4_mesial',\n",
       " 'К155Лс': '2_raschirenie,4_mesial',\n",
       " 'К155Пс': '2_raschirenie',\n",
       " 'К171Лс': '2_raschirenie',\n",
       " 'К171Пк': '2_raschirenie,3_distal',\n",
       " 'К172Лс': '2_raschirenie,4_mesial',\n",
       " 'К172Пс': '2_raschirenie,4_mesial',\n",
       " 'К181Лс': '2_raschirenie',\n",
       " 'К190Пс': '2_raschirenie,4_mesial',\n",
       " 'К1Пс': '2_raschirenie,3_distal',\n",
       " 'К216Лс': '2_raschirenie',\n",
       " 'К217Лс': '2_raschirenie,3_distal',\n",
       " 'К232Лс': '2_raschirenie',\n",
       " 'К23Лс': '2_raschirenie',\n",
       " 'К23Пс': '2_raschirenie',\n",
       " 'К245Пс': '2_raschirenie',\n",
       " 'К248Пс': '2_raschirenie,3_distal',\n",
       " 'К24Лс': '2_raschirenie',\n",
       " 'К256Лс': '2_raschirenie',\n",
       " 'К256Пс': '2_raschirenie,4_mesial',\n",
       " 'К265Лс': '2_raschirenie,4_mesial',\n",
       " 'К265Пс': '2_raschirenie,4_mesial',\n",
       " 'К266Лс': '2_raschirenie,4_mesial',\n",
       " 'К266Пс': '2_raschirenie,4_mesial',\n",
       " 'К268Лс': '2_raschirenie',\n",
       " 'К275Пс': '2_raschirenie,3_distal',\n",
       " 'К285Лс': '2_raschirenie,3_distal',\n",
       " 'К291Лс': '2_raschirenie,4_mesial',\n",
       " 'К291Пс': '2_raschirenie,4_mesial',\n",
       " 'К296Пс': '2_raschirenie,4_mesial',\n",
       " 'К297Па': '2_raschirenie,4_mesial',\n",
       " 'К29Пс': '2_raschirenie',\n",
       " 'К30Пс': '2_raschirenie,4_mesial',\n",
       " 'К36Лс': '2_raschirenie,4_mesial',\n",
       " 'К36Пс': '2_raschirenie,4_mesial',\n",
       " 'К41Лс': '2_raschirenie,4_mesial',\n",
       " 'К42Пс': '2_raschirenie',\n",
       " 'К46Лс': '2_raschirenie,4_mesial',\n",
       " 'К46Пс': '2_raschirenie,4_mesial',\n",
       " 'К48Пс': '2_raschirenie,3_distal',\n",
       " 'К61Лс': '2_raschirenie,4_mesial',\n",
       " 'К61Пс': '2_raschirenie,4_mesial',\n",
       " 'К62Пс': '2_raschirenie',\n",
       " 'К64Пс': '2_raschirenie',\n",
       " 'К6Лс': '2_raschirenie,4_mesial',\n",
       " 'К6Пс': '2_raschirenie,4_mesial',\n",
       " 'К77Лс': '2_raschirenie,3_distal',\n",
       " 'К77Пс': '2_raschirenie,3_distal',\n",
       " 'К85Лс': '2_raschirenie',\n",
       " 'К89Лс': '2_raschirenie',\n",
       " 'К89Пс': '2_raschirenie,4_mesial',\n",
       " 'К91Лс': '2_raschirenie,3_distal',\n",
       " 'К91Пс': '2_raschirenie,3_distal',\n",
       " 'К96Лс': '2_raschirenie',\n",
       " 'К97Лс': '2_raschirenie',\n",
       " 'К9Пс': '2_raschirenie',\n",
       " 'К101Лс': '3_distal',\n",
       " 'К105Пс': '3_distal',\n",
       " 'К106Лс': '3_distal',\n",
       " 'К106Пс': '3_distal',\n",
       " 'К116Лс': '3_distal',\n",
       " 'К118Лс': '3_distal',\n",
       " 'К11Лс': '3_distal',\n",
       " 'К121Лс': '3_distal',\n",
       " 'К122Лс': '3_distal',\n",
       " 'К12Лс': '3_distal',\n",
       " 'К135Лс': '3_distal',\n",
       " 'К136Пс': '3_distal',\n",
       " 'К138Лс': '3_distal',\n",
       " 'К13Пс': '3_distal',\n",
       " 'К145Лс': '3_distal',\n",
       " 'К145Пс': '3_distal',\n",
       " 'К14Пс': '3_distal',\n",
       " 'К153Лс': '3_distal',\n",
       " 'К153Пс': '3_distal',\n",
       " 'К156Лс': '3_distal',\n",
       " 'К156Пс': '3_distal',\n",
       " 'К159Лс': '3_distal',\n",
       " 'К169Пс': '3_distal',\n",
       " 'К184Лс': '3_distal',\n",
       " 'К184Пс': '3_distal',\n",
       " 'К188Пс': '3_distal',\n",
       " 'К195Лс': '3_distal',\n",
       " 'К1Лс': '3_distal',\n",
       " 'К201Лс': '3_distal',\n",
       " 'К201Пс': '3_distal',\n",
       " 'К204Лс': '3_distal',\n",
       " 'К207Лс': '3_distal',\n",
       " 'К207Пс': '3_distal',\n",
       " 'К210Пс': '3_distal',\n",
       " 'К211Пс': '3_distal',\n",
       " 'К212Лс': '3_distal',\n",
       " 'К212Пс': '3_distal',\n",
       " 'К213Лс': '3_distal',\n",
       " 'К213Пс': '3_distal',\n",
       " 'К216Пс': '3_distal',\n",
       " 'К219Лс': '3_distal',\n",
       " 'К219Пс': '3_distal',\n",
       " 'К220Пс': '3_distal',\n",
       " 'К221Пс': '3_distal',\n",
       " 'К233Пс': '3_distal',\n",
       " 'К240Лс': '3_distal',\n",
       " 'К243Лс': '3_distal',\n",
       " 'К243Пс': '3_distal',\n",
       " 'К245Лс': '3_distal',\n",
       " 'К246Лс': '3_distal',\n",
       " 'К246Пс': '3_distal',\n",
       " 'К247Лс': '3_distal',\n",
       " 'К247Пс': '3_distal',\n",
       " 'К248Лс': '3_distal',\n",
       " 'К249Лс': '3_distal',\n",
       " 'К249Пс': '3_distal',\n",
       " 'К252Пс': '3_distal',\n",
       " 'К254Пс': '3_distal',\n",
       " 'К263Лс': '3_distal',\n",
       " 'К263Пк': '3_distal',\n",
       " 'К269Пс': '3_distal',\n",
       " 'К26Лс': '3_distal',\n",
       " 'К26Пс': '3_distal',\n",
       " 'К270Лс': '3_distal',\n",
       " 'К270Пс': '3_distal',\n",
       " 'К272Лс': '3_distal',\n",
       " 'К272Пс': '3_distal',\n",
       " 'К273Лс': '3_distal',\n",
       " 'К275Лс': '3_distal',\n",
       " 'К276Пс': '3_distal',\n",
       " 'К278Лс': '3_distal',\n",
       " 'К278Пс': '3_distal',\n",
       " 'К279Пс': '3_distal',\n",
       " 'К27Лс': '3_distal',\n",
       " 'К27Пс': '3_distal',\n",
       " 'К285Пс': '3_distal',\n",
       " 'К286Пс': '3_distal',\n",
       " 'К28Пс': '3_distal',\n",
       " 'К294Пс': '3_distal',\n",
       " 'К298Лс': '3_distal',\n",
       " 'К2Лс': '3_distal',\n",
       " 'К2Пс': '3_distal',\n",
       " 'К3П': '3_distal',\n",
       " 'К44Лс': '3_distal',\n",
       " 'К44Пс': '3_distal',\n",
       " 'К45Лс': '3_distal',\n",
       " 'К45Пс': '3_distal',\n",
       " 'К50Лс': '3_distal',\n",
       " 'К50Пс': '3_distal',\n",
       " 'К51Лс': '3_distal',\n",
       " 'К51Пс': '3_distal',\n",
       " 'К57Лс': '3_distal',\n",
       " 'К58Пс': '3_distal',\n",
       " 'К5Лс': '3_distal',\n",
       " 'К67Пс': '3_distal',\n",
       " 'К68Пс': '3_distal',\n",
       " 'К69Лс': '3_distal',\n",
       " 'К69Пс': '3_distal',\n",
       " 'К93Лс': '3_distal',\n",
       " 'К107Лс': '4_mesial',\n",
       " 'К107Пс': '4_mesial',\n",
       " 'К117Лс': '4_mesial',\n",
       " 'К127Пс': '4_mesial',\n",
       " 'К139Лс': '4_mesial',\n",
       " 'К159Пс': '4_mesial',\n",
       " 'К164Пс': '4_mesial',\n",
       " 'К182Пс': '4_mesial',\n",
       " 'К185Лс': '4_mesial',\n",
       " 'К187Пс': '4_mesial',\n",
       " 'К189Лс': '4_mesial',\n",
       " 'К189Пс': '4_mesial',\n",
       " 'К193Пс': '4_mesial',\n",
       " 'К195Пс': '4_mesial',\n",
       " 'К196Пс': '4_mesial',\n",
       " 'К20Лс': '4_mesial',\n",
       " 'К214Лс': '4_mesial',\n",
       " 'К215Лс': '4_mesial',\n",
       " 'К218Лс': '4_mesial',\n",
       " 'К220Лс': '4_mesial',\n",
       " 'К221Лс': '4_mesial',\n",
       " 'К222Лс': '4_mesial',\n",
       " 'К230Лс': '4_mesial',\n",
       " 'К230Пс': '4_mesial',\n",
       " 'К235Лс': '4_mesial',\n",
       " 'К24Пс': '4_mesial',\n",
       " 'К251Лс': '4_mesial',\n",
       " 'К251Пс': '4_mesial',\n",
       " 'К25Пс': '4_mesial',\n",
       " 'К269Лс': '4_mesial',\n",
       " 'К283Лс': '4_mesial',\n",
       " 'К287Лс': '4_mesial',\n",
       " 'К287Пс': '4_mesial',\n",
       " 'К288Лс': '4_mesial',\n",
       " 'К288Пс': '4_mesial',\n",
       " 'К296Лс': '4_mesial',\n",
       " 'К31Лс': '4_mesial',\n",
       " 'К38Лс': '4_mesial',\n",
       " 'К47Лс': '4_mesial',\n",
       " 'К47Пс': '4_mesial',\n",
       " 'К60Лс': '4_mesial',\n",
       " 'К60Пс': '4_mesial',\n",
       " 'К62Лс': '4_mesial',\n",
       " 'К87Пс': '4_mesial'}"
      ]
     },
     "execution_count": 23,
     "metadata": {},
     "output_type": "execute_result"
    }
   ],
   "source": [
    "slo"
   ]
  },
  {
   "cell_type": "code",
   "execution_count": 24,
   "id": "a26277c8",
   "metadata": {},
   "outputs": [
    {
     "data": {
      "text/plain": [
       "460"
      ]
     },
     "execution_count": 24,
     "metadata": {},
     "output_type": "execute_result"
    }
   ],
   "source": [
    "len(slo)"
   ]
  },
  {
   "cell_type": "code",
   "execution_count": null,
   "id": "3f96347a",
   "metadata": {},
   "outputs": [],
   "source": []
  },
  {
   "cell_type": "markdown",
   "id": "5ccecd3b",
   "metadata": {},
   "source": [
    "#### 00.8 определение наименований (типов) 'двойных' патологий"
   ]
  },
  {
   "cell_type": "code",
   "execution_count": 25,
   "id": "7c752dfa",
   "metadata": {},
   "outputs": [
    {
     "name": "stdout",
     "output_type": "stream",
     "text": [
      "{'0_normal,1_sujenie', '2_raschirenie,4_mesial', '1_sujenie,2_raschirenie', '1_sujenie,4_mesial', '2_raschirenie,3_distal', '1_sujenie,3_distal'}\n"
     ]
    }
   ],
   "source": [
    "unique_combinations = set()\n",
    "\n",
    "for value in slo.values():\n",
    "    words = value.split(',')\n",
    "    if len(words) > 1:\n",
    "        unique_combinations.add(value)\n",
    "\n",
    "print(unique_combinations)"
   ]
  },
  {
   "cell_type": "markdown",
   "id": "cde1d931",
   "metadata": {},
   "source": [
    "#### 00.9 Создание в существующей директории папок для двойных патологий"
   ]
  },
  {
   "cell_type": "code",
   "execution_count": 26,
   "id": "9b7b0d9d",
   "metadata": {},
   "outputs": [],
   "source": [
    "for value in unique_combinations:\n",
    "    os.makedirs(value)"
   ]
  },
  {
   "cell_type": "markdown",
   "id": "678f8007",
   "metadata": {},
   "source": [
    "#### 00.10 распределение всех (уникальных) изображений по моно и \"двойным\" папкам"
   ]
  },
  {
   "cell_type": "code",
   "execution_count": 27,
   "id": "2999a22d",
   "metadata": {},
   "outputs": [],
   "source": [
    "import shutil\n",
    "\n",
    "all_folder = 'all_0_80_20'\n",
    "\n",
    "for image in os.listdir(all_folder):\n",
    "    if image.endswith('.jpg'):\n",
    "        image_name = os.path.splitext(image)[0]\n",
    "        \n",
    "        if image_name in slo:\n",
    "            value = slo[image_name]\n",
    "            destination_folder = os.path.join(all_folder, value)\n",
    "            destination_path = os.path.join(destination_folder, image)\n",
    "            \n",
    "            if not os.path.exists(destination_folder):\n",
    "                os.makedirs(destination_folder)\n",
    "            \n",
    "            shutil.move(os.path.join(all_folder, image), destination_path)#copy2"
   ]
  },
  {
   "cell_type": "markdown",
   "id": "75018ef8",
   "metadata": {},
   "source": [
    "#### 00.11 количество изображений в модифицированных папках"
   ]
  },
  {
   "cell_type": "code",
   "execution_count": 28,
   "id": "a1fe655d",
   "metadata": {},
   "outputs": [
    {
     "name": "stdout",
     "output_type": "stream",
     "text": [
      "{'all_0_80_20/2_raschirenie,3_distal': 12, 'all_0_80_20/0_normal,1_sujenie': 1, 'all_0_80_20/1_sujenie,2_raschirenie': 1, 'all_0_80_20/2_raschirenie,4_mesial': 29, 'all_0_80_20/1_sujenie,3_distal': 62, 'all_0_80_20/1_sujenie,4_mesial': 21, 'all_0_80_20/0_normal': 54, 'all_0_80_20/1_sujenie': 115, 'all_0_80_20/2_raschirenie': 22, 'all_0_80_20/3_distal': 99, 'all_0_80_20/4_mesial': 44}\n"
     ]
    }
   ],
   "source": [
    "folders = [\"all_0_80_20/2_raschirenie,3_distal\", \"all_0_80_20/0_normal,1_sujenie\", \"all_0_80_20/1_sujenie,2_raschirenie\", \n",
    "           \"all_0_80_20/2_raschirenie,4_mesial\", \"all_0_80_20/1_sujenie,3_distal\", 'all_0_80_20/1_sujenie,4_mesial', \n",
    "           'all_0_80_20/0_normal', 'all_0_80_20/1_sujenie', 'all_0_80_20/2_raschirenie', \n",
    "           'all_0_80_20/3_distal','all_0_80_20/4_mesial']\n",
    "\n",
    "image_extensions = ['.jpg', '.jpeg', '.png']\n",
    "image_counts = {}\n",
    "\n",
    "for folder in folders:\n",
    "    folder_path = os.path.join(\".\", folder)  # Полный путь к папке\n",
    "    image_count = len(glob.glob(os.path.join(folder_path, '*')))  # Количество файлов в папке\n",
    "    image_counts[folder] = image_count\n",
    "\n",
    "print(image_counts)"
   ]
  },
  {
   "cell_type": "markdown",
   "id": "3d3a6706",
   "metadata": {},
   "source": [
    "#### 00.12 удаление абсурдных папок '0_normal,1_sujenie' и  '1_sujenie,2_raschirenie' "
   ]
  },
  {
   "cell_type": "code",
   "execution_count": 29,
   "id": "44b9a330",
   "metadata": {},
   "outputs": [],
   "source": [
    "folder_path1 = 'all_0_80_20/0_normal,1_sujenie'\n",
    "shutil.rmtree(folder_path1)"
   ]
  },
  {
   "cell_type": "code",
   "execution_count": 30,
   "id": "7249da75",
   "metadata": {},
   "outputs": [],
   "source": [
    "folder_path2 = 'all_0_80_20/1_sujenie,2_raschirenie'\n",
    "shutil.rmtree(folder_path2)"
   ]
  },
  {
   "cell_type": "markdown",
   "id": "c6707419",
   "metadata": {},
   "source": [
    "#### 00.13 удаление исходных папок из директории \"00000_new_coronal\""
   ]
  },
  {
   "cell_type": "code",
   "execution_count": 31,
   "id": "2337944f",
   "metadata": {},
   "outputs": [],
   "source": [
    "folders_to_delete = ['2_raschirenie,3_distal', '2_raschirenie,4_mesial', '1_sujenie,3_distal', '1_sujenie,4_mesial', '0_normal', '1_sujenie', '2_raschirenie', '3_distal', '4_mesial']\n",
    "\n",
    "for folder_path in folders_to_delete:\n",
    "    shutil.rmtree(folder_path)"
   ]
  },
  {
   "cell_type": "code",
   "execution_count": 32,
   "id": "029bedfa",
   "metadata": {},
   "outputs": [],
   "source": [
    "folder_path1 = '0_normal,1_sujenie'\n",
    "shutil.rmtree(folder_path1)"
   ]
  },
  {
   "cell_type": "code",
   "execution_count": 33,
   "id": "c4b9680f",
   "metadata": {},
   "outputs": [],
   "source": [
    "folder_path2 = '1_sujenie,2_raschirenie'\n",
    "shutil.rmtree(folder_path2)"
   ]
  },
  {
   "cell_type": "code",
   "execution_count": 34,
   "id": "997b9139",
   "metadata": {},
   "outputs": [],
   "source": [
    "folder_path2 = 'all'\n",
    "shutil.rmtree(folder_path2)"
   ]
  },
  {
   "cell_type": "markdown",
   "id": "87e65654",
   "metadata": {},
   "source": [
    "#### 00.14 перемещение модифицированных папок из папки all_0_80_20 в основную директорию  для удобства работы, (вручную)."
   ]
  },
  {
   "cell_type": "markdown",
   "id": "c2fb6030",
   "metadata": {},
   "source": [
    "#### 00.15 количество изображений в каждой модифицированной папке"
   ]
  },
  {
   "cell_type": "code",
   "execution_count": 35,
   "id": "383bf27f",
   "metadata": {},
   "outputs": [
    {
     "name": "stdout",
     "output_type": "stream",
     "text": [
      "{'2_raschirenie,3_distal': 12, '2_raschirenie,4_mesial': 29, '1_sujenie,3_distal': 62, '1_sujenie,4_mesial': 21, '0_normal': 54, '1_sujenie': 115, '2_raschirenie': 22, '3_distal': 99, '4_mesial': 44}\n"
     ]
    }
   ],
   "source": [
    "folders = [\"2_raschirenie,3_distal\", \"2_raschirenie,4_mesial\", \"1_sujenie,3_distal\", \"1_sujenie,4_mesial\", \"0_normal\",'1_sujenie','2_raschirenie','3_distal','4_mesial']\n",
    "image_extensions = ['.jpg', '.jpeg', '.png']\n",
    "\n",
    "image_counts = {}\n",
    "\n",
    "for folder in folders:\n",
    "    folder_path = os.path.join(\".\", folder)  # Полный путь к папке\n",
    "    image_count = len(glob.glob(os.path.join(folder_path, '*')))  # Количество файлов в папке\n",
    "    image_counts[folder] = image_count\n",
    "\n",
    "print(image_counts)"
   ]
  },
  {
   "cell_type": "markdown",
   "id": "00093175",
   "metadata": {},
   "source": [
    "#### 00.16 Удаление изображений плохого качества"
   ]
  },
  {
   "cell_type": "code",
   "execution_count": 36,
   "id": "fd66bc6f",
   "metadata": {},
   "outputs": [
    {
     "name": "stdout",
     "output_type": "stream",
     "text": [
      "{'2_raschirenie,3_distal': 11, '2_raschirenie,4_mesial': 29, '1_sujenie,3_distal': 46, '1_sujenie,4_mesial': 15, '0_normal': 42, '1_sujenie': 82, '2_raschirenie': 17, '3_distal': 81, '4_mesial': 33}\n"
     ]
    }
   ],
   "source": [
    "folders = [\"2_raschirenie,3_distal\", \"2_raschirenie,4_mesial\", \"1_sujenie,3_distal\", \"1_sujenie,4_mesial\", \"0_normal\",'1_sujenie','2_raschirenie','3_distal','4_mesial']\n",
    "image_extensions = ['.jpg', '.jpeg', '.png']\n",
    "\n",
    "image_counts = {}\n",
    "\n",
    "for folder in folders:\n",
    "    folder_path = os.path.join(\".\", folder)  # Полный путь к папке\n",
    "    image_count = len(glob.glob(os.path.join(folder_path, '*')))  # Количество файлов в папке\n",
    "    image_counts[folder] = image_count\n",
    "\n",
    "print(image_counts)"
   ]
  },
  {
   "cell_type": "code",
   "execution_count": null,
   "id": "cf594970",
   "metadata": {},
   "outputs": [],
   "source": []
  },
  {
   "cell_type": "code",
   "execution_count": null,
   "id": "74db22f3",
   "metadata": {},
   "outputs": [],
   "source": []
  },
  {
   "cell_type": "markdown",
   "id": "35bead3a",
   "metadata": {},
   "source": [
    "# _______________________Преобразования изображений для последующей подачи в НС"
   ]
  },
  {
   "cell_type": "markdown",
   "id": "506a9504",
   "metadata": {},
   "source": [
    "# 1. папка '2_raschirenie,3_distal': 11"
   ]
  },
  {
   "cell_type": "markdown",
   "id": "57773814",
   "metadata": {},
   "source": [
    "#### Вырезка частей изображений в папке четырьмя кликами НЕСКОЛЬКО ВАРИАНТОВ - аугментация"
   ]
  },
  {
   "cell_type": "code",
   "execution_count": 46,
   "id": "e0712251",
   "metadata": {},
   "outputs": [],
   "source": [
    "matplotlib.use('TkAgg')  # Используйте TkAgg backend\n",
    "plt.figure(figsize=(15, 15))\n",
    "input_folder = '2_raschirenie,3_distal'\n",
    "output_folder = '2_raschirenie,3_distal_cut10'\n",
    "\n",
    "if not os.path.exists(output_folder): # Создать папку  если она не существует\n",
    "    os.makedirs(output_folder)\n",
    "\n",
    "file_names = os.listdir(input_folder)\n",
    "for file_name in file_names:\n",
    "    if file_name.endswith('.jpg') or file_name.endswith('.jpeg') or file_name.endswith('.png'):\n",
    "                \n",
    "        def crop_image(image, coords):\n",
    "            cropped_image = image.crop(coords)\n",
    "            return cropped_image\n",
    "\n",
    "        def get_coords(image_path):\n",
    "            image = Image.open(image_path)\n",
    "            plt.imshow(image, cmap='gray')\n",
    "            plt.axis('off')\n",
    "            coords = plt.ginput(4)\n",
    "            plt.close()\n",
    "            return coords\n",
    "    \n",
    "        image_path = os.path.join(input_folder, file_name)\n",
    "        image = Image.open(image_path)#.convert(\"RGB\")\n",
    "        #gray_image = image.convert(\"L\")\n",
    "                \n",
    "        enhancer = ImageEnhance.Contrast(image) # Создание объекта для улучшения контрастности\n",
    "        enhanced_image = enhancer.enhance(1.0) # Увеличение контрастности в 2 раза\n",
    "        coords = get_coords(image_path)\n",
    "\n",
    "        x_coordinates = sorted([int(coord[0]) for coord in coords])\n",
    "        y_coordinates = sorted([int(coord[1]) for coord in coords])\n",
    "    \n",
    "        x1, y1 = x_coordinates[0], y_coordinates[0]\n",
    "        x2, y2 = x_coordinates[3], y_coordinates[3]\n",
    "        \n",
    "        plt.figure(figsize=(15, 15))\n",
    "        image = Image.open(image_path)\n",
    "        cropped_image = crop_image(image, (x1, y1, x2, y2))\n",
    "               \n",
    "        output_path = os.path.join(output_folder, file_name)\n",
    "        cropped_image.save(output_path)"
   ]
  },
  {
   "cell_type": "markdown",
   "id": "e7f1c12d",
   "metadata": {},
   "source": [
    "#### вариант разметки (последняя цифра) - отправить в имя файла в каждой папке"
   ]
  },
  {
   "cell_type": "code",
   "execution_count": 47,
   "id": "c88eab2f",
   "metadata": {},
   "outputs": [],
   "source": [
    "listic = ['2_raschirenie,3_distal_cut1','2_raschirenie,3_distal_cut2','2_raschirenie,3_distal_cut3','2_raschirenie,3_distal_cut4',\n",
    "         '2_raschirenie,3_distal_cut5','2_raschirenie,3_distal_cut6','2_raschirenie,3_distal_cut7','2_raschirenie,3_distal_cut8',\n",
    "          '2_raschirenie,3_distal_cut9', '2_raschirenie,3_distal_cut10']\n",
    "for i in range(len(listic)):\n",
    "    \n",
    "\n",
    "    # Путь к папке с изображениями\n",
    "    folder_path = listic[i]\n",
    "\n",
    "    # Получение списка файлов изображений в папке\n",
    "    image_files = os.listdir(folder_path)\n",
    "\n",
    "    # Переименование каждого файла изображения\n",
    "    for file_name in image_files:\n",
    "        if file_name.endswith(\".jpg\") or file_name.endswith(\".png\"):\n",
    "            # Создание нового имени файла с добавлением \"i_\" в начало\n",
    "            new_file_name = listic[i][-1] +'_'+ file_name\n",
    "        \n",
    "            # Получение полного пути к файлу\n",
    "            current_file_path = os.path.join(folder_path, file_name)\n",
    "            new_file_path = os.path.join(folder_path, new_file_name)\n",
    "        \n",
    "            # Переименование файла\n",
    "            os.rename(current_file_path, new_file_path)"
   ]
  },
  {
   "cell_type": "markdown",
   "id": "59938fb9",
   "metadata": {},
   "source": [
    "#### все варианты в одну  общую папку"
   ]
  },
  {
   "cell_type": "code",
   "execution_count": null,
   "id": "770430ab",
   "metadata": {},
   "outputs": [],
   "source": [
    "import shutil\n",
    "\n",
    "# Пути к папкам с изображениями\n",
    "folders = ['2_raschirenie,3_distal_cut1','2_raschirenie,3_distal_cut2','2_raschirenie,3_distal_cut3','2_raschirenie,3_distal_cut4',\n",
    "         '2_raschirenie,3_distal_cut5','2_raschirenie,3_distal_cut6','2_raschirenie,3_distal_cut7','2_raschirenie,3_distal_cut8',\n",
    "           '2_raschirenie,3_distal_cut9', '2_raschirenie,3_distal_cut10']\n",
    "\n",
    "# Создание папки 'all' для объединения всех изображений\n",
    "output_folder = '2_raschirenie,3_distal_s'\n",
    "os.makedirs(output_folder, exist_ok=True)\n",
    "\n",
    "# Перебор всех папок с изображениями\n",
    "for folder in folders:\n",
    "    # Получение списка файлов изображений в папке\n",
    "    image_files = os.listdir(folder)\n",
    "\n",
    "    # Перебор всех файлов изображений\n",
    "    for file_name in image_files:\n",
    "        if file_name.lower().endswith('.jpg'):\n",
    "            # Путь к исходному файлу\n",
    "            source_path = os.path.join(folder, file_name)\n",
    "\n",
    "            # Путь к целевому файлу\n",
    "            destination_path = os.path.join(output_folder, file_name)\n",
    "\n",
    "            # Копирование файла в папку 'all'\n",
    "            shutil.copy2(source_path, destination_path)"
   ]
  },
  {
   "cell_type": "markdown",
   "id": "d4df78c2",
   "metadata": {},
   "source": [
    "#### убрать лишнее"
   ]
  },
  {
   "cell_type": "code",
   "execution_count": null,
   "id": "b9eeef7a",
   "metadata": {},
   "outputs": [],
   "source": [
    "folders_to_delete = ['2_raschirenie,3_distal_cut1','2_raschirenie,3_distal_cut2','2_raschirenie,3_distal_cut3','2_raschirenie,3_distal_cut4',\n",
    "         '2_raschirenie,3_distal_cut5','2_raschirenie,3_distal_cut6','2_raschirenie,3_distal_cut7','2_raschirenie,3_distal_cut8', \n",
    "                     '2_raschirenie,3_distal_cut9', '2_raschirenie,3_distal_cut10']\n",
    "\n",
    "for folder_path in folders_to_delete:\n",
    "    shutil.rmtree(folder_path)"
   ]
  },
  {
   "cell_type": "raw",
   "id": "8954c14c",
   "metadata": {},
   "source": [
    "folder_path1 = '0_cor_norm_cut'\n",
    "shutil.rmtree(folder_path1)"
   ]
  },
  {
   "cell_type": "markdown",
   "id": "b6ed607a",
   "metadata": {},
   "source": [
    "#### количество изображений в папке "
   ]
  },
  {
   "cell_type": "code",
   "execution_count": 52,
   "id": "79cfafc2",
   "metadata": {},
   "outputs": [
    {
     "name": "stdout",
     "output_type": "stream",
     "text": [
      "121\n"
     ]
    }
   ],
   "source": [
    "def count_photos(folder_path):\n",
    "    photo_extensions = ['.jpg', '.jpeg', '.png', 'gif']\n",
    "    count = 0\n",
    "    for file_name in os.listdir(folder_path):\n",
    "        _, extension = os.path.splitext(file_name)\n",
    "        if extension.lower() in photo_extensions:\n",
    "            count += 1\n",
    "    return count\n",
    "\n",
    "folder_path = '2_raschirenie,3_distal_s'\n",
    "photo_count = count_photos(folder_path)\n",
    "print(photo_count)"
   ]
  },
  {
   "cell_type": "markdown",
   "id": "cfad54ea",
   "metadata": {},
   "source": [
    "# 2. Папка \"2_raschirenie,4_mesial: 29\""
   ]
  },
  {
   "cell_type": "markdown",
   "id": "a79f6b74",
   "metadata": {},
   "source": [
    "{'2_raschirenie,3_distal': 11, '2_raschirenie,4_mesial': 29, '1_sujenie,3_distal': 46, '1_sujenie,4_mesial': 15, '0_normal': 42, '1_sujenie': 82, '2_raschirenie': 17, '3_distal': 81, '4_mesial': 33}"
   ]
  },
  {
   "cell_type": "markdown",
   "id": "9bc9e4ac",
   "metadata": {},
   "source": [
    "#### Вырезка частей изображений в папке четырьмя кликами НЕСКОЛЬКО ВАРИАНТОВ - аугментация"
   ]
  },
  {
   "cell_type": "code",
   "execution_count": null,
   "id": "84feed69",
   "metadata": {},
   "outputs": [],
   "source": [
    "!!!!!!!!!!!!!!!!!!!!!!!!!!!!!!!!!!!!!!!!!!!!!!!!!!!!!!!!!!!!!!!!!!!!!!!!!!!!!!!!!!!!!!"
   ]
  },
  {
   "cell_type": "code",
   "execution_count": 56,
   "id": "a5cc603f",
   "metadata": {},
   "outputs": [],
   "source": [
    "matplotlib.use('TkAgg')  # Используйте TkAgg backend\n",
    "plt.figure(figsize=(15, 15))\n",
    "input_folder = '2_raschirenie,4_mesial'\n",
    "output_folder = '2_raschirenie,4_mesial_cut4'\n",
    "\n",
    "if not os.path.exists(output_folder): # Создать папку  если она не существует\n",
    "    os.makedirs(output_folder)\n",
    "\n",
    "file_names = os.listdir(input_folder)\n",
    "for file_name in file_names:\n",
    "    if file_name.endswith('.jpg') or file_name.endswith('.jpeg') or file_name.endswith('.png'):\n",
    "                \n",
    "        def crop_image(image, coords):\n",
    "            cropped_image = image.crop(coords)\n",
    "            return cropped_image\n",
    "\n",
    "        def get_coords(image_path):\n",
    "            image = Image.open(image_path)\n",
    "            plt.imshow(image)\n",
    "            plt.axis('off')\n",
    "            coords = plt.ginput(4)\n",
    "            plt.close()\n",
    "            return coords\n",
    "    \n",
    "        image_path = os.path.join(input_folder, file_name)\n",
    "        image = Image.open(image_path)#.convert(\"RGB\")\n",
    "        #gray_image = image.convert(\"L\")\n",
    "                \n",
    "        enhancer = ImageEnhance.Contrast(image) # Создание объекта для улучшения контрастности\n",
    "        enhanced_image = enhancer.enhance(1.0) # Увеличение контрастности в 2 раза\n",
    "        coords = get_coords(image_path)\n",
    "\n",
    "        x_coordinates = sorted([int(coord[0]) for coord in coords])\n",
    "        y_coordinates = sorted([int(coord[1]) for coord in coords])\n",
    "    \n",
    "        x1, y1 = x_coordinates[0], y_coordinates[0]\n",
    "        x2, y2 = x_coordinates[3], y_coordinates[3]\n",
    "        \n",
    "        plt.figure(figsize=(15, 15))\n",
    "        image = Image.open(image_path)\n",
    "        cropped_image = crop_image(image, (x1, y1, x2, y2))\n",
    "               \n",
    "        output_path = os.path.join(output_folder, file_name)\n",
    "        cropped_image.save(output_path)"
   ]
  },
  {
   "cell_type": "markdown",
   "id": "3512ef7c",
   "metadata": {},
   "source": [
    "#### вариант разметки (последняя цифра) - отправить в имя файла в каждой папке"
   ]
  },
  {
   "cell_type": "code",
   "execution_count": 57,
   "id": "a9db00b7",
   "metadata": {},
   "outputs": [],
   "source": [
    "listic = ['2_raschirenie,4_mesial_cut1','2_raschirenie,4_mesial_cut2','2_raschirenie,4_mesial_cut3', '2_raschirenie,4_mesial_cut4']\n",
    "for i in range(len(listic)):\n",
    "    \n",
    "\n",
    "    # Путь к папке с изображениями\n",
    "    folder_path = listic[i]\n",
    "\n",
    "    # Получение списка файлов изображений в папке\n",
    "    image_files = os.listdir(folder_path)\n",
    "\n",
    "    # Переименование каждого файла изображения\n",
    "    for file_name in image_files:\n",
    "        if file_name.endswith(\".jpg\") or file_name.endswith(\".png\"):\n",
    "            # Создание нового имени файла с добавлением \"i_\" в начало\n",
    "            new_file_name = listic[i][-1] +'_'+ file_name\n",
    "        \n",
    "            # Получение полного пути к файлу\n",
    "            current_file_path = os.path.join(folder_path, file_name)\n",
    "            new_file_path = os.path.join(folder_path, new_file_name)\n",
    "        \n",
    "            # Переименование файла\n",
    "            os.rename(current_file_path, new_file_path)"
   ]
  },
  {
   "cell_type": "markdown",
   "id": "c429bb9f",
   "metadata": {},
   "source": [
    "#### все варианты в одну  общую папку"
   ]
  },
  {
   "cell_type": "code",
   "execution_count": 58,
   "id": "7d480b98",
   "metadata": {},
   "outputs": [],
   "source": [
    "import shutil\n",
    "\n",
    "# Пути к папкам с изображениями\n",
    "folders = ['2_raschirenie,4_mesial_cut1','2_raschirenie,4_mesial_cut2','2_raschirenie,4_mesial_cut3', '2_raschirenie,4_mesial_cut4']\n",
    "\n",
    "# Создание папки 'all' для объединения всех изображений\n",
    "output_folder = '2_raschirenie,4_mesial_s'\n",
    "os.makedirs(output_folder, exist_ok=True)\n",
    "\n",
    "# Перебор всех папок с изображениями\n",
    "for folder in folders:\n",
    "    # Получение списка файлов изображений в папке\n",
    "    image_files = os.listdir(folder)\n",
    "\n",
    "    # Перебор всех файлов изображений\n",
    "    for file_name in image_files:\n",
    "        if file_name.lower().endswith('.jpg'):\n",
    "            # Путь к исходному файлу\n",
    "            source_path = os.path.join(folder, file_name)\n",
    "\n",
    "            # Путь к целевому файлу\n",
    "            destination_path = os.path.join(output_folder, file_name)\n",
    "\n",
    "            # Копирование файла в папку 'all'\n",
    "            shutil.copy2(source_path, destination_path)"
   ]
  },
  {
   "cell_type": "markdown",
   "id": "d70ee844",
   "metadata": {},
   "source": [
    "#### убрать лишнее"
   ]
  },
  {
   "cell_type": "code",
   "execution_count": 59,
   "id": "d99d5a85",
   "metadata": {},
   "outputs": [],
   "source": [
    "folders_to_delete = ['2_raschirenie,4_mesial_cut1','2_raschirenie,4_mesial_cut2','2_raschirenie,4_mesial_cut3', '2_raschirenie,4_mesial_cut4']\n",
    "\n",
    "for folder_path in folders_to_delete:\n",
    "    shutil.rmtree(folder_path)"
   ]
  },
  {
   "cell_type": "raw",
   "id": "ffda96e4",
   "metadata": {},
   "source": [
    "folder_path1 = '0_cor_norm_cut'\n",
    "shutil.rmtree(folder_path1)"
   ]
  },
  {
   "cell_type": "markdown",
   "id": "5ca58ff7",
   "metadata": {},
   "source": [
    "#### количество изображений в папке "
   ]
  },
  {
   "cell_type": "code",
   "execution_count": 60,
   "id": "fcc41e31",
   "metadata": {},
   "outputs": [
    {
     "name": "stdout",
     "output_type": "stream",
     "text": [
      "116\n"
     ]
    }
   ],
   "source": [
    "def count_photos(folder_path):\n",
    "    photo_extensions = ['.jpg', '.jpeg', '.png', 'gif']\n",
    "    count = 0\n",
    "    for file_name in os.listdir(folder_path):\n",
    "        _, extension = os.path.splitext(file_name)\n",
    "        if extension.lower() in photo_extensions:\n",
    "            count += 1\n",
    "    return count\n",
    "\n",
    "folder_path = '2_raschirenie,4_mesial_s'\n",
    "photo_count = count_photos(folder_path)\n",
    "print(photo_count)"
   ]
  },
  {
   "cell_type": "markdown",
   "id": "537061ee",
   "metadata": {},
   "source": [
    "# 3. Папка \"1_sujenie,3_distal\""
   ]
  },
  {
   "cell_type": "markdown",
   "id": "5e828e93",
   "metadata": {},
   "source": [
    "{'2_raschirenie,3_distal': 11, '2_raschirenie,4_mesial': 29, '1_sujenie,3_distal': 46, '1_sujenie,4_mesial': 15, '0_normal': 42, '1_sujenie': 82, '2_raschirenie': 17, '3_distal': 81, '4_mesial': 33}"
   ]
  },
  {
   "cell_type": "code",
   "execution_count": 61,
   "id": "736773ab",
   "metadata": {},
   "outputs": [
    {
     "name": "stdout",
     "output_type": "stream",
     "text": [
      "46\n"
     ]
    }
   ],
   "source": [
    "def count_photos(folder_path):\n",
    "    photo_extensions = ['.jpg', '.jpeg', '.png', 'gif']\n",
    "    count = 0\n",
    "    for file_name in os.listdir(folder_path):\n",
    "        _, extension = os.path.splitext(file_name)\n",
    "        if extension.lower() in photo_extensions:\n",
    "            count += 1\n",
    "    return count\n",
    "\n",
    "folder_path = '1_sujenie,3_distal'\n",
    "photo_count = count_photos(folder_path)\n",
    "print(photo_count)"
   ]
  },
  {
   "cell_type": "markdown",
   "id": "30177d42",
   "metadata": {},
   "source": [
    "#### Вырезка частей изображений в папке четырьмя кликами НЕСКОЛЬКО ВАРИАНТОВ - аугментация"
   ]
  },
  {
   "cell_type": "code",
   "execution_count": 63,
   "id": "7f123a89",
   "metadata": {},
   "outputs": [],
   "source": [
    "matplotlib.use('TkAgg')  # Используйте TkAgg backend\n",
    "plt.figure(figsize=(15, 15))\n",
    "input_folder = '1_sujenie,3_distal'\n",
    "output_folder = '1_sujenie,3_distal_cut2'\n",
    "\n",
    "if not os.path.exists(output_folder): # Создать папку  если она не существует\n",
    "    os.makedirs(output_folder)\n",
    "\n",
    "file_names = os.listdir(input_folder)\n",
    "for file_name in file_names:\n",
    "    if file_name.endswith('.jpg') or file_name.endswith('.jpeg') or file_name.endswith('.png'):\n",
    "                \n",
    "        def crop_image(image, coords):\n",
    "            cropped_image = image.crop(coords)\n",
    "            return cropped_image\n",
    "\n",
    "        def get_coords(image_path):\n",
    "            image = Image.open(image_path)\n",
    "            plt.imshow(image)\n",
    "            plt.axis('off')\n",
    "            coords = plt.ginput(4)\n",
    "            plt.close()\n",
    "            return coords\n",
    "    \n",
    "        image_path = os.path.join(input_folder, file_name)\n",
    "        image = Image.open(image_path)#.convert(\"RGB\")\n",
    "        #gray_image = image.convert(\"L\")\n",
    "                \n",
    "        enhancer = ImageEnhance.Contrast(image) # Создание объекта для улучшения контрастности\n",
    "        enhanced_image = enhancer.enhance(1.0) # Увеличение контрастности в 2 раза\n",
    "        coords = get_coords(image_path)\n",
    "\n",
    "        x_coordinates = sorted([int(coord[0]) for coord in coords])\n",
    "        y_coordinates = sorted([int(coord[1]) for coord in coords])\n",
    "    \n",
    "        x1, y1 = x_coordinates[0], y_coordinates[0]\n",
    "        x2, y2 = x_coordinates[3], y_coordinates[3]\n",
    "        \n",
    "        plt.figure(figsize=(15, 15))\n",
    "        image = Image.open(image_path)\n",
    "        cropped_image = crop_image(image, (x1, y1, x2, y2))\n",
    "               \n",
    "        output_path = os.path.join(output_folder, file_name)\n",
    "        cropped_image.save(output_path)"
   ]
  },
  {
   "cell_type": "markdown",
   "id": "9da42cd1",
   "metadata": {},
   "source": [
    "#### вариант разметки (последняя цифра) - отправить в имя файла в каждой папке"
   ]
  },
  {
   "cell_type": "code",
   "execution_count": 64,
   "id": "6d77c597",
   "metadata": {},
   "outputs": [],
   "source": [
    "listic = ['1_sujenie,3_distal_cut1','1_sujenie,3_distal_cut2']\n",
    "for i in range(len(listic)):\n",
    "    \n",
    "\n",
    "    # Путь к папке с изображениями\n",
    "    folder_path = listic[i]\n",
    "\n",
    "    # Получение списка файлов изображений в папке\n",
    "    image_files = os.listdir(folder_path)\n",
    "\n",
    "    # Переименование каждого файла изображения\n",
    "    for file_name in image_files:\n",
    "        if file_name.endswith(\".jpg\") or file_name.endswith(\".png\"):\n",
    "            # Создание нового имени файла с добавлением \"i_\" в начало\n",
    "            new_file_name = listic[i][-1] +'_'+ file_name\n",
    "        \n",
    "            # Получение полного пути к файлу\n",
    "            current_file_path = os.path.join(folder_path, file_name)\n",
    "            new_file_path = os.path.join(folder_path, new_file_name)\n",
    "        \n",
    "            # Переименование файла\n",
    "            os.rename(current_file_path, new_file_path)"
   ]
  },
  {
   "cell_type": "markdown",
   "id": "a73d93b1",
   "metadata": {},
   "source": [
    "#### все варианты в одну  общую папку"
   ]
  },
  {
   "cell_type": "code",
   "execution_count": 65,
   "id": "429ec81b",
   "metadata": {},
   "outputs": [],
   "source": [
    "import shutil\n",
    "\n",
    "# Пути к папкам с изображениями\n",
    "folders = ['1_sujenie,3_distal_cut1', '1_sujenie,3_distal_cut2']\n",
    "\n",
    "# Создание папки 'all' для объединения всех изображений\n",
    "output_folder = '1_sujenie,3_distal_s'\n",
    "os.makedirs(output_folder, exist_ok=True)\n",
    "\n",
    "# Перебор всех папок с изображениями\n",
    "for folder in folders:\n",
    "    # Получение списка файлов изображений в папке\n",
    "    image_files = os.listdir(folder)\n",
    "\n",
    "    # Перебор всех файлов изображений\n",
    "    for file_name in image_files:\n",
    "        if file_name.lower().endswith('.jpg'):\n",
    "            # Путь к исходному файлу\n",
    "            source_path = os.path.join(folder, file_name)\n",
    "\n",
    "            # Путь к целевому файлу\n",
    "            destination_path = os.path.join(output_folder, file_name)\n",
    "\n",
    "            # Копирование файла в папку 'all'\n",
    "            shutil.copy2(source_path, destination_path)"
   ]
  },
  {
   "cell_type": "markdown",
   "id": "1990003c",
   "metadata": {},
   "source": [
    "#### убрать лишнее"
   ]
  },
  {
   "cell_type": "code",
   "execution_count": 66,
   "id": "b1aed6d6",
   "metadata": {},
   "outputs": [],
   "source": [
    "folders_to_delete = ['1_sujenie,3_distal_cut1', '1_sujenie,3_distal_cut2']\n",
    "\n",
    "for folder_path in folders_to_delete:\n",
    "    shutil.rmtree(folder_path)"
   ]
  },
  {
   "cell_type": "raw",
   "id": "1fdf5f13",
   "metadata": {},
   "source": [
    "folder_path1 = '0_cor_norm_cut'\n",
    "shutil.rmtree(folder_path1)"
   ]
  },
  {
   "cell_type": "markdown",
   "id": "03ffac12",
   "metadata": {},
   "source": [
    "#### количество изображений в папке "
   ]
  },
  {
   "cell_type": "code",
   "execution_count": 67,
   "id": "cb3b40d7",
   "metadata": {},
   "outputs": [
    {
     "name": "stdout",
     "output_type": "stream",
     "text": [
      "92\n"
     ]
    }
   ],
   "source": [
    "def count_photos(folder_path):\n",
    "    photo_extensions = ['.jpg', '.jpeg', '.png', 'gif']\n",
    "    count = 0\n",
    "    for file_name in os.listdir(folder_path):\n",
    "        _, extension = os.path.splitext(file_name)\n",
    "        if extension.lower() in photo_extensions:\n",
    "            count += 1\n",
    "    return count\n",
    "\n",
    "folder_path = '1_sujenie,3_distal_s'\n",
    "photo_count = count_photos(folder_path)\n",
    "print(photo_count)"
   ]
  },
  {
   "cell_type": "code",
   "execution_count": null,
   "id": "0c7aedb4",
   "metadata": {},
   "outputs": [],
   "source": [
    "##################################\n",
    "###################################\n",
    "#######################################"
   ]
  },
  {
   "cell_type": "markdown",
   "id": "1b7d6a8a",
   "metadata": {},
   "source": [
    "# 4. Папка \"1_sujenie,4_mesial': 15\""
   ]
  },
  {
   "cell_type": "markdown",
   "id": "2633555d",
   "metadata": {},
   "source": [
    "{'2_raschirenie,3_distal': 11, '2_raschirenie,4_mesial': 29, '1_sujenie,3_distal': 46, '1_sujenie,4_mesial': 15, '0_normal': 42, '1_sujenie': 82, '2_raschirenie': 17, '3_distal': 81, '4_mesial': 33}"
   ]
  },
  {
   "cell_type": "markdown",
   "id": "e8883f8d",
   "metadata": {},
   "source": [
    "#### Вырезка частей изображений в папке четырьмя кликами НЕСКОЛЬКО ВАРИАНТОВ - аугментация"
   ]
  },
  {
   "cell_type": "code",
   "execution_count": 74,
   "id": "51348978",
   "metadata": {},
   "outputs": [],
   "source": [
    "matplotlib.use('TkAgg')  # Используйте TkAgg backend\n",
    "plt.figure(figsize=(15, 15))\n",
    "input_folder = '1_sujenie,4_mesial'\n",
    "output_folder = '1_sujenie,4_mesial_cut7'\n",
    "\n",
    "if not os.path.exists(output_folder): # Создать папку  если она не существует\n",
    "    os.makedirs(output_folder)\n",
    "\n",
    "file_names = os.listdir(input_folder)\n",
    "for file_name in file_names:\n",
    "    if file_name.endswith('.jpg') or file_name.endswith('.jpeg') or file_name.endswith('.png'):\n",
    "                \n",
    "        def crop_image(image, coords):\n",
    "            cropped_image = image.crop(coords)\n",
    "            return cropped_image\n",
    "\n",
    "        def get_coords(image_path):\n",
    "            image = Image.open(image_path)\n",
    "            plt.imshow(image)\n",
    "            plt.axis('off')\n",
    "            coords = plt.ginput(4)\n",
    "            plt.close()\n",
    "            return coords\n",
    "    \n",
    "        image_path = os.path.join(input_folder, file_name)\n",
    "        image = Image.open(image_path)#.convert(\"RGB\")\n",
    "        #gray_image = image.convert(\"L\")\n",
    "                \n",
    "        enhancer = ImageEnhance.Contrast(image) # Создание объекта для улучшения контрастности\n",
    "        enhanced_image = enhancer.enhance(1.0) # Увеличение контрастности в 2 раза\n",
    "        coords = get_coords(image_path)\n",
    "\n",
    "        x_coordinates = sorted([int(coord[0]) for coord in coords])\n",
    "        y_coordinates = sorted([int(coord[1]) for coord in coords])\n",
    "    \n",
    "        x1, y1 = x_coordinates[0], y_coordinates[0]\n",
    "        x2, y2 = x_coordinates[3], y_coordinates[3]\n",
    "        \n",
    "        plt.figure(figsize=(15, 15))\n",
    "        image = Image.open(image_path)\n",
    "        cropped_image = crop_image(image, (x1, y1, x2, y2))\n",
    "               \n",
    "        output_path = os.path.join(output_folder, file_name)\n",
    "        cropped_image.save(output_path)"
   ]
  },
  {
   "cell_type": "markdown",
   "id": "0225121d",
   "metadata": {},
   "source": [
    "#### вариант разметки (последняя цифра) - отправить в имя файла в каждой папке"
   ]
  },
  {
   "cell_type": "code",
   "execution_count": 75,
   "id": "6235ca51",
   "metadata": {},
   "outputs": [],
   "source": [
    "listic = ['1_sujenie,4_mesial_cut1','1_sujenie,4_mesial_cut2', '1_sujenie,4_mesial_cut3', '1_sujenie,4_mesial_cut4',\n",
    "          '1_sujenie,4_mesial_cut5','1_sujenie,4_mesial_cut6','1_sujenie,4_mesial_cut7']\n",
    "for i in range(len(listic)):\n",
    "    \n",
    "\n",
    "    # Путь к папке с изображениями\n",
    "    folder_path = listic[i]\n",
    "\n",
    "    # Получение списка файлов изображений в папке\n",
    "    image_files = os.listdir(folder_path)\n",
    "\n",
    "    # Переименование каждого файла изображения\n",
    "    for file_name in image_files:\n",
    "        if file_name.endswith(\".jpg\") or file_name.endswith(\".png\"):\n",
    "            # Создание нового имени файла с добавлением \"i_\" в начало\n",
    "            new_file_name = listic[i][-1] +'_'+ file_name\n",
    "        \n",
    "            # Получение полного пути к файлу\n",
    "            current_file_path = os.path.join(folder_path, file_name)\n",
    "            new_file_path = os.path.join(folder_path, new_file_name)\n",
    "        \n",
    "            # Переименование файла\n",
    "            os.rename(current_file_path, new_file_path)"
   ]
  },
  {
   "cell_type": "markdown",
   "id": "7f50e7f3",
   "metadata": {},
   "source": [
    "#### все варианты в одну  общую папку"
   ]
  },
  {
   "cell_type": "code",
   "execution_count": 76,
   "id": "71f543c4",
   "metadata": {},
   "outputs": [],
   "source": [
    "import shutil\n",
    "\n",
    "# Пути к папкам с изображениями\n",
    "folders = ['1_sujenie,4_mesial_cut1','1_sujenie,4_mesial_cut2', '1_sujenie,4_mesial_cut3', '1_sujenie,4_mesial_cut4',\n",
    "          '1_sujenie,4_mesial_cut5','1_sujenie,4_mesial_cut6','1_sujenie,4_mesial_cut7']\n",
    "\n",
    "# Создание папки 'all' для объединения всех изображений\n",
    "output_folder = '1_sujenie,4_mesial_s'\n",
    "os.makedirs(output_folder, exist_ok=True)\n",
    "\n",
    "# Перебор всех папок с изображениями\n",
    "for folder in folders:\n",
    "    # Получение списка файлов изображений в папке\n",
    "    image_files = os.listdir(folder)\n",
    "\n",
    "    # Перебор всех файлов изображений\n",
    "    for file_name in image_files:\n",
    "        if file_name.lower().endswith('.jpg'):\n",
    "            # Путь к исходному файлу\n",
    "            source_path = os.path.join(folder, file_name)\n",
    "\n",
    "            # Путь к целевому файлу\n",
    "            destination_path = os.path.join(output_folder, file_name)\n",
    "\n",
    "            # Копирование файла в папку 'all'\n",
    "            shutil.copy2(source_path, destination_path)"
   ]
  },
  {
   "cell_type": "markdown",
   "id": "00988589",
   "metadata": {},
   "source": [
    "#### убрать лишнее"
   ]
  },
  {
   "cell_type": "code",
   "execution_count": 77,
   "id": "f566a892",
   "metadata": {},
   "outputs": [],
   "source": [
    "folders_to_delete =['1_sujenie,4_mesial_cut1','1_sujenie,4_mesial_cut2', '1_sujenie,4_mesial_cut3', '1_sujenie,4_mesial_cut4',\n",
    "                    '1_sujenie,4_mesial_cut5','1_sujenie,4_mesial_cut6','1_sujenie,4_mesial_cut7']\n",
    "\n",
    "for folder_path in folders_to_delete:\n",
    "    shutil.rmtree(folder_path)"
   ]
  },
  {
   "cell_type": "raw",
   "id": "ed424b88",
   "metadata": {},
   "source": [
    "folder_path1 = '0_cor_norm_cut'\n",
    "shutil.rmtree(folder_path1)"
   ]
  },
  {
   "cell_type": "markdown",
   "id": "bd3bfb18",
   "metadata": {},
   "source": [
    "#### количество изображений в папке "
   ]
  },
  {
   "cell_type": "code",
   "execution_count": 78,
   "id": "33ed7185",
   "metadata": {},
   "outputs": [
    {
     "name": "stdout",
     "output_type": "stream",
     "text": [
      "105\n"
     ]
    }
   ],
   "source": [
    "def count_photos(folder_path):\n",
    "    photo_extensions = ['.jpg', '.jpeg', '.png', 'gif']\n",
    "    count = 0\n",
    "    for file_name in os.listdir(folder_path):\n",
    "        _, extension = os.path.splitext(file_name)\n",
    "        if extension.lower() in photo_extensions:\n",
    "            count += 1\n",
    "    return count\n",
    "\n",
    "folder_path = '1_sujenie,4_mesial_s'\n",
    "photo_count = count_photos(folder_path)\n",
    "print(photo_count)"
   ]
  },
  {
   "cell_type": "markdown",
   "id": "854af43a",
   "metadata": {},
   "source": [
    "# 5. Папка \"0_normal\""
   ]
  },
  {
   "cell_type": "markdown",
   "id": "dfd35354",
   "metadata": {},
   "source": [
    "{'2_raschirenie,3_distal': 11, '2_raschirenie,4_mesial': 29, '1_sujenie,3_distal': 46, '1_sujenie,4_mesial': 15, '0_normal': 42, '1_sujenie': 82, '2_raschirenie': 17, '3_distal': 81, '4_mesial': 33}"
   ]
  },
  {
   "cell_type": "markdown",
   "id": "d7c1b124",
   "metadata": {},
   "source": [
    "#### 5.1 размерный состав"
   ]
  },
  {
   "cell_type": "code",
   "execution_count": 79,
   "id": "2954611f",
   "metadata": {},
   "outputs": [
    {
     "name": "stdout",
     "output_type": "stream",
     "text": [
      "42\n"
     ]
    }
   ],
   "source": [
    "def count_photos(folder_path):\n",
    "    photo_extensions = ['.jpg', '.jpeg', '.png', 'gif']\n",
    "    count = 0\n",
    "    for file_name in os.listdir(folder_path):\n",
    "        _, extension = os.path.splitext(file_name)\n",
    "        if extension.lower() in photo_extensions:\n",
    "            count += 1\n",
    "    return count\n",
    "\n",
    "folder_path = \"0_normal\"\n",
    "photo_count = count_photos(folder_path)\n",
    "print(photo_count)"
   ]
  },
  {
   "cell_type": "markdown",
   "id": "e0534810",
   "metadata": {},
   "source": [
    "#### Вырезка частей изображений в папке четырьмя кликами НЕСКОЛЬКО ВАРИАНТОВ - аугментация"
   ]
  },
  {
   "cell_type": "code",
   "execution_count": 82,
   "id": "cbb65cdd",
   "metadata": {},
   "outputs": [],
   "source": [
    "matplotlib.use('TkAgg')  # Используйте TkAgg backend\n",
    "plt.figure(figsize=(15, 15))\n",
    "input_folder = '0_normal'\n",
    "output_folder = '0_normal_cut3'\n",
    "\n",
    "if not os.path.exists(output_folder): # Создать папку  если она не существует\n",
    "    os.makedirs(output_folder)\n",
    "\n",
    "file_names = os.listdir(input_folder)\n",
    "for file_name in file_names:\n",
    "    if file_name.endswith('.jpg') or file_name.endswith('.jpeg') or file_name.endswith('.png'):\n",
    "                \n",
    "        def crop_image(image, coords):\n",
    "            cropped_image = image.crop(coords)\n",
    "            return cropped_image\n",
    "\n",
    "        def get_coords(image_path):\n",
    "            image = Image.open(image_path)\n",
    "            plt.imshow(image)\n",
    "            plt.axis('off')\n",
    "            coords = plt.ginput(4)\n",
    "            plt.close()\n",
    "            return coords\n",
    "    \n",
    "        image_path = os.path.join(input_folder, file_name)\n",
    "        image = Image.open(image_path)#.convert(\"RGB\")\n",
    "        #gray_image = image.convert(\"L\")\n",
    "                \n",
    "        enhancer = ImageEnhance.Contrast(image) # Создание объекта для улучшения контрастности\n",
    "        enhanced_image = enhancer.enhance(1.0) # Увеличение контрастности в 2 раза\n",
    "        coords = get_coords(image_path)\n",
    "\n",
    "        x_coordinates = sorted([int(coord[0]) for coord in coords])\n",
    "        y_coordinates = sorted([int(coord[1]) for coord in coords])\n",
    "    \n",
    "        x1, y1 = x_coordinates[0], y_coordinates[0]\n",
    "        x2, y2 = x_coordinates[3], y_coordinates[3]\n",
    "        \n",
    "        plt.figure(figsize=(15, 15))\n",
    "        image = Image.open(image_path)\n",
    "        cropped_image = crop_image(image, (x1, y1, x2, y2))\n",
    "               \n",
    "        output_path = os.path.join(output_folder, file_name)\n",
    "        cropped_image.save(output_path)"
   ]
  },
  {
   "cell_type": "markdown",
   "id": "ff3a63ac",
   "metadata": {},
   "source": [
    "#### вариант разметки (последняя цифра) - отправить в имя файла в каждой папке"
   ]
  },
  {
   "cell_type": "code",
   "execution_count": 83,
   "id": "7f3e894e",
   "metadata": {},
   "outputs": [],
   "source": [
    "listic = ['0_normal_cut1','0_normal_cut2','0_normal_cut3']\n",
    "for i in range(len(listic)):\n",
    "    \n",
    "\n",
    "    # Путь к папке с изображениями\n",
    "    folder_path = listic[i]\n",
    "\n",
    "    # Получение списка файлов изображений в папке\n",
    "    image_files = os.listdir(folder_path)\n",
    "\n",
    "    # Переименование каждого файла изображения\n",
    "    for file_name in image_files:\n",
    "        if file_name.endswith(\".jpg\") or file_name.endswith(\".png\"):\n",
    "            # Создание нового имени файла с добавлением \"i_\" в начало\n",
    "            new_file_name = listic[i][-1] +'_'+ file_name\n",
    "        \n",
    "            # Получение полного пути к файлу\n",
    "            current_file_path = os.path.join(folder_path, file_name)\n",
    "            new_file_path = os.path.join(folder_path, new_file_name)\n",
    "        \n",
    "            # Переименование файла\n",
    "            os.rename(current_file_path, new_file_path)"
   ]
  },
  {
   "cell_type": "markdown",
   "id": "4998f69f",
   "metadata": {},
   "source": [
    "#### все варианты в одну  общую папку"
   ]
  },
  {
   "cell_type": "code",
   "execution_count": 84,
   "id": "1ee9d899",
   "metadata": {},
   "outputs": [],
   "source": [
    "import shutil\n",
    "\n",
    "# Пути к папкам с изображениями\n",
    "folders =['0_normal_cut1','0_normal_cut2','0_normal_cut3']\n",
    "\n",
    "# Создание папки 'all' для объединения всех изображений\n",
    "output_folder = '0_normal_s'\n",
    "os.makedirs(output_folder, exist_ok=True)\n",
    "\n",
    "# Перебор всех папок с изображениями\n",
    "for folder in folders:\n",
    "    # Получение списка файлов изображений в папке\n",
    "    image_files = os.listdir(folder)\n",
    "\n",
    "    # Перебор всех файлов изображений\n",
    "    for file_name in image_files:\n",
    "        if file_name.lower().endswith('.jpg'):\n",
    "            # Путь к исходному файлу\n",
    "            source_path = os.path.join(folder, file_name)\n",
    "\n",
    "            # Путь к целевому файлу\n",
    "            destination_path = os.path.join(output_folder, file_name)\n",
    "\n",
    "            # Копирование файла в папку 'all'\n",
    "            shutil.copy2(source_path, destination_path)"
   ]
  },
  {
   "cell_type": "markdown",
   "id": "3326b719",
   "metadata": {},
   "source": [
    "#### убрать лишнее"
   ]
  },
  {
   "cell_type": "code",
   "execution_count": 85,
   "id": "52bea514",
   "metadata": {},
   "outputs": [],
   "source": [
    "folders_to_delete = ['0_normal_cut1','0_normal_cut2','0_normal_cut3']\n",
    "\n",
    "for folder_path in folders_to_delete:\n",
    "    shutil.rmtree(folder_path)"
   ]
  },
  {
   "cell_type": "raw",
   "id": "ee8c43f5",
   "metadata": {},
   "source": [
    "folder_path1 = '0_cor_norm_cut'\n",
    "shutil.rmtree(folder_path1)"
   ]
  },
  {
   "cell_type": "markdown",
   "id": "ac0c28b4",
   "metadata": {},
   "source": [
    "#### количество изображений в папке "
   ]
  },
  {
   "cell_type": "code",
   "execution_count": 86,
   "id": "389fe77f",
   "metadata": {},
   "outputs": [
    {
     "name": "stdout",
     "output_type": "stream",
     "text": [
      "126\n"
     ]
    }
   ],
   "source": [
    "def count_photos(folder_path):\n",
    "    photo_extensions = ['.jpg', '.jpeg', '.png', 'gif']\n",
    "    count = 0\n",
    "    for file_name in os.listdir(folder_path):\n",
    "        _, extension = os.path.splitext(file_name)\n",
    "        if extension.lower() in photo_extensions:\n",
    "            count += 1\n",
    "    return count\n",
    "\n",
    "folder_path = '0_normal_s'\n",
    "photo_count = count_photos(folder_path)\n",
    "print(photo_count)"
   ]
  },
  {
   "cell_type": "markdown",
   "id": "2bcdf1a3",
   "metadata": {},
   "source": [
    "# 6. Папка '1_sujenie'"
   ]
  },
  {
   "cell_type": "markdown",
   "id": "3eab1ed1",
   "metadata": {},
   "source": [
    "{'2_raschirenie,3_distal': 11, '2_raschirenie,4_mesial': 29, '1_sujenie,3_distal': 46, '1_sujenie,4_mesial': 15, '0_normal': 42, '1_sujenie': 82, '2_raschirenie': 17, '3_distal': 81, '4_mesial': 33}"
   ]
  },
  {
   "cell_type": "code",
   "execution_count": 87,
   "id": "9c5b6212",
   "metadata": {},
   "outputs": [
    {
     "name": "stdout",
     "output_type": "stream",
     "text": [
      "82\n"
     ]
    }
   ],
   "source": [
    "def count_photos(folder_path):\n",
    "    photo_extensions = ['.jpg', '.jpeg', '.png', 'gif']\n",
    "    count = 0\n",
    "    for file_name in os.listdir(folder_path):\n",
    "        _, extension = os.path.splitext(file_name)\n",
    "        if extension.lower() in photo_extensions:\n",
    "            count += 1\n",
    "    return count\n",
    "\n",
    "folder_path = '1_sujenie'\n",
    "photo_count = count_photos(folder_path)\n",
    "print(photo_count)"
   ]
  },
  {
   "cell_type": "markdown",
   "id": "744a5cc4",
   "metadata": {},
   "source": [
    "#### Вырезка частей изображений в папке четырьмя кликами НЕСКОЛЬКО ВАРИАНТОВ - аугментация"
   ]
  },
  {
   "cell_type": "code",
   "execution_count": 88,
   "id": "25c0e8c0",
   "metadata": {},
   "outputs": [],
   "source": [
    "matplotlib.use('TkAgg')  # Используйте TkAgg backend\n",
    "plt.figure(figsize=(15, 15))\n",
    "input_folder = '1_sujenie'\n",
    "output_folder = '1_sujenie_s'\n",
    "\n",
    "if not os.path.exists(output_folder): # Создать папку  если она не существует\n",
    "    os.makedirs(output_folder)\n",
    "\n",
    "file_names = os.listdir(input_folder)\n",
    "for file_name in file_names:\n",
    "    if file_name.endswith('.jpg') or file_name.endswith('.jpeg') or file_name.endswith('.png'):\n",
    "                \n",
    "        def crop_image(image, coords):\n",
    "            cropped_image = image.crop(coords)\n",
    "            return cropped_image\n",
    "\n",
    "        def get_coords(image_path):\n",
    "            image = Image.open(image_path)\n",
    "            plt.imshow(image)\n",
    "            plt.axis('off')\n",
    "            coords = plt.ginput(4)\n",
    "            plt.close()\n",
    "            return coords\n",
    "    \n",
    "        image_path = os.path.join(input_folder, file_name)\n",
    "        image = Image.open(image_path)#.convert(\"RGB\")\n",
    "        #gray_image = image.convert(\"L\")\n",
    "                \n",
    "        enhancer = ImageEnhance.Contrast(image) # Создание объекта для улучшения контрастности\n",
    "        enhanced_image = enhancer.enhance(1.0) # Увеличение контрастности в 2 раза\n",
    "        coords = get_coords(image_path)\n",
    "\n",
    "        x_coordinates = sorted([int(coord[0]) for coord in coords])\n",
    "        y_coordinates = sorted([int(coord[1]) for coord in coords])\n",
    "    \n",
    "        x1, y1 = x_coordinates[0], y_coordinates[0]\n",
    "        x2, y2 = x_coordinates[3], y_coordinates[3]\n",
    "        \n",
    "        plt.figure(figsize=(15, 15))\n",
    "        image = Image.open(image_path)\n",
    "        cropped_image = crop_image(image, (x1, y1, x2, y2))\n",
    "               \n",
    "        output_path = os.path.join(output_folder, file_name)\n",
    "        cropped_image.save(output_path)"
   ]
  },
  {
   "cell_type": "code",
   "execution_count": 89,
   "id": "d2640019",
   "metadata": {},
   "outputs": [
    {
     "name": "stdout",
     "output_type": "stream",
     "text": [
      "82\n"
     ]
    }
   ],
   "source": [
    "def count_photos(folder_path):\n",
    "    photo_extensions = ['.jpg', '.jpeg', '.png', 'gif']\n",
    "    count = 0\n",
    "    for file_name in os.listdir(folder_path):\n",
    "        _, extension = os.path.splitext(file_name)\n",
    "        if extension.lower() in photo_extensions:\n",
    "            count += 1\n",
    "    return count\n",
    "\n",
    "folder_path = '1_sujenie_s'\n",
    "photo_count = count_photos(folder_path)\n",
    "print(photo_count)"
   ]
  },
  {
   "cell_type": "code",
   "execution_count": null,
   "id": "812c7f2b",
   "metadata": {},
   "outputs": [],
   "source": []
  },
  {
   "cell_type": "markdown",
   "id": "56ff5746",
   "metadata": {},
   "source": [
    "# 7. Папка \"2_raschirenie\""
   ]
  },
  {
   "cell_type": "markdown",
   "id": "920d4a29",
   "metadata": {},
   "source": [
    "{'2_raschirenie,3_distal': 11, '2_raschirenie,4_mesial': 29, '1_sujenie,3_distal': 46, '1_sujenie,4_mesial': 15, '0_normal': 42, '1_sujenie': 82, '2_raschirenie': 17, '3_distal': 81, '4_mesial': 33}"
   ]
  },
  {
   "cell_type": "code",
   "execution_count": 91,
   "id": "79964153",
   "metadata": {},
   "outputs": [
    {
     "name": "stdout",
     "output_type": "stream",
     "text": [
      "17\n"
     ]
    }
   ],
   "source": [
    "def count_photos(folder_path):\n",
    "    photo_extensions = ['.jpg', '.jpeg', '.png', 'gif']\n",
    "    count = 0\n",
    "    for file_name in os.listdir(folder_path):\n",
    "        _, extension = os.path.splitext(file_name)\n",
    "        if extension.lower() in photo_extensions:\n",
    "            count += 1\n",
    "    return count\n",
    "\n",
    "folder_path = '2_raschirenie'\n",
    "photo_count = count_photos(folder_path)\n",
    "print(photo_count)"
   ]
  },
  {
   "cell_type": "markdown",
   "id": "c98dda28",
   "metadata": {},
   "source": [
    "#### Вырезка частей изображений в папке четырьмя кликами НЕСКОЛЬКО ВАРИАНТОВ - аугментация"
   ]
  },
  {
   "cell_type": "code",
   "execution_count": 97,
   "id": "1d883106",
   "metadata": {},
   "outputs": [],
   "source": [
    "matplotlib.use('TkAgg')  # Используйте TkAgg backend\n",
    "plt.figure(figsize=(15, 15))\n",
    "input_folder = '2_raschirenie'\n",
    "output_folder = '2_raschirenie_cut6'\n",
    "\n",
    "if not os.path.exists(output_folder): # Создать папку  если она не существует\n",
    "    os.makedirs(output_folder)\n",
    "\n",
    "file_names = os.listdir(input_folder)\n",
    "for file_name in file_names:\n",
    "    if file_name.endswith('.jpg') or file_name.endswith('.jpeg') or file_name.endswith('.png'):\n",
    "                \n",
    "        def crop_image(image, coords):\n",
    "            cropped_image = image.crop(coords)\n",
    "            return cropped_image\n",
    "\n",
    "        def get_coords(image_path):\n",
    "            image = Image.open(image_path)\n",
    "            plt.imshow(image)\n",
    "            plt.axis('off')\n",
    "            coords = plt.ginput(4)\n",
    "            plt.close()\n",
    "            return coords\n",
    "    \n",
    "        image_path = os.path.join(input_folder, file_name)\n",
    "        image = Image.open(image_path)#.convert(\"RGB\")\n",
    "        #gray_image = image.convert(\"L\")\n",
    "                \n",
    "        enhancer = ImageEnhance.Contrast(image) # Создание объекта для улучшения контрастности\n",
    "        enhanced_image = enhancer.enhance(1.0) # Увеличение контрастности в 2 раза\n",
    "        coords = get_coords(image_path)\n",
    "\n",
    "        x_coordinates = sorted([int(coord[0]) for coord in coords])\n",
    "        y_coordinates = sorted([int(coord[1]) for coord in coords])\n",
    "    \n",
    "        x1, y1 = x_coordinates[0], y_coordinates[0]\n",
    "        x2, y2 = x_coordinates[3], y_coordinates[3]\n",
    "        \n",
    "        plt.figure(figsize=(15, 15))\n",
    "        image = Image.open(image_path)\n",
    "        cropped_image = crop_image(image, (x1, y1, x2, y2))\n",
    "               \n",
    "        output_path = os.path.join(output_folder, file_name)\n",
    "        cropped_image.save(output_path)"
   ]
  },
  {
   "cell_type": "markdown",
   "id": "c15ef1fe",
   "metadata": {},
   "source": [
    "#### вариант разметки (последняя цифра) - отправить в имя файла в каждой папке"
   ]
  },
  {
   "cell_type": "code",
   "execution_count": 98,
   "id": "f93bda59",
   "metadata": {},
   "outputs": [],
   "source": [
    "listic = ['2_raschirenie_cut1','2_raschirenie_cut2', '2_raschirenie_cut3', \n",
    "          '2_raschirenie_cut4', '2_raschirenie_cut5', '2_raschirenie_cut6']\n",
    "for i in range(len(listic)):\n",
    "    \n",
    "\n",
    "    # Путь к папке с изображениями\n",
    "    folder_path = listic[i]\n",
    "\n",
    "    # Получение списка файлов изображений в папке\n",
    "    image_files = os.listdir(folder_path)\n",
    "\n",
    "    # Переименование каждого файла изображения\n",
    "    for file_name in image_files:\n",
    "        if file_name.endswith(\".jpg\") or file_name.endswith(\".png\"):\n",
    "            # Создание нового имени файла с добавлением \"i_\" в начало\n",
    "            new_file_name = listic[i][-1] +'_'+ file_name\n",
    "        \n",
    "            # Получение полного пути к файлу\n",
    "            current_file_path = os.path.join(folder_path, file_name)\n",
    "            new_file_path = os.path.join(folder_path, new_file_name)\n",
    "        \n",
    "            # Переименование файла\n",
    "            os.rename(current_file_path, new_file_path)"
   ]
  },
  {
   "cell_type": "markdown",
   "id": "ba962915",
   "metadata": {},
   "source": [
    "#### все варианты в одну  общую папку"
   ]
  },
  {
   "cell_type": "code",
   "execution_count": 99,
   "id": "0e212ecd",
   "metadata": {},
   "outputs": [],
   "source": [
    "import shutil\n",
    "\n",
    "# Пути к папкам с изображениями\n",
    "folders = ['2_raschirenie_cut1','2_raschirenie_cut2', '2_raschirenie_cut3', \n",
    "          '2_raschirenie_cut4', '2_raschirenie_cut5', '2_raschirenie_cut6']\n",
    "\n",
    "# Создание папки 'all' для объединения всех изображений\n",
    "output_folder = '2_raschirenie_cut_s'\n",
    "os.makedirs(output_folder, exist_ok=True)\n",
    "\n",
    "# Перебор всех папок с изображениями\n",
    "for folder in folders:\n",
    "    # Получение списка файлов изображений в папке\n",
    "    image_files = os.listdir(folder)\n",
    "\n",
    "    # Перебор всех файлов изображений\n",
    "    for file_name in image_files:\n",
    "        if file_name.lower().endswith('.jpg'):\n",
    "            # Путь к исходному файлу\n",
    "            source_path = os.path.join(folder, file_name)\n",
    "\n",
    "            # Путь к целевому файлу\n",
    "            destination_path = os.path.join(output_folder, file_name)\n",
    "\n",
    "            # Копирование файла в папку 'all'\n",
    "            shutil.copy2(source_path, destination_path)"
   ]
  },
  {
   "cell_type": "markdown",
   "id": "563edff4",
   "metadata": {},
   "source": [
    "#### убрать лишнее"
   ]
  },
  {
   "cell_type": "code",
   "execution_count": 100,
   "id": "68c4b3f7",
   "metadata": {},
   "outputs": [],
   "source": [
    "folders_to_delete = ['2_raschirenie_cut1','2_raschirenie_cut2', '2_raschirenie_cut3', \n",
    "                     '2_raschirenie_cut4', '2_raschirenie_cut5', '2_raschirenie_cut6']\n",
    "\n",
    "for folder_path in folders_to_delete:\n",
    "    shutil.rmtree(folder_path)"
   ]
  },
  {
   "cell_type": "raw",
   "id": "2192c0a1",
   "metadata": {},
   "source": [
    "folder_path1 = '0_cor_norm_cut'\n",
    "shutil.rmtree(folder_path1)"
   ]
  },
  {
   "cell_type": "markdown",
   "id": "4eb56c47",
   "metadata": {},
   "source": [
    "#### количество изображений в папке "
   ]
  },
  {
   "cell_type": "code",
   "execution_count": 101,
   "id": "5b28e133",
   "metadata": {},
   "outputs": [
    {
     "name": "stdout",
     "output_type": "stream",
     "text": [
      "102\n"
     ]
    }
   ],
   "source": [
    "def count_photos(folder_path):\n",
    "    photo_extensions = ['.jpg', '.jpeg', '.png', 'gif']\n",
    "    count = 0\n",
    "    for file_name in os.listdir(folder_path):\n",
    "        _, extension = os.path.splitext(file_name)\n",
    "        if extension.lower() in photo_extensions:\n",
    "            count += 1\n",
    "    return count\n",
    "\n",
    "folder_path = '2_raschirenie_cut_s'\n",
    "photo_count = count_photos(folder_path)\n",
    "print(photo_count)"
   ]
  },
  {
   "cell_type": "markdown",
   "id": "aecf17d1",
   "metadata": {},
   "source": [
    "# 8. Папка '3_distal'"
   ]
  },
  {
   "cell_type": "markdown",
   "id": "3fc2d062",
   "metadata": {},
   "source": [
    "{'2_raschirenie,3_distal': 11, '2_raschirenie,4_mesial': 29, '1_sujenie,3_distal': 46, '1_sujenie,4_mesial': 15, '0_normal': 42, '1_sujenie': 82, '2_raschirenie': 17, '3_distal': 81, '4_mesial': 33}"
   ]
  },
  {
   "cell_type": "markdown",
   "id": "4c425881",
   "metadata": {},
   "source": [
    "#### 8.1 размерный состав"
   ]
  },
  {
   "cell_type": "code",
   "execution_count": 102,
   "id": "c24d3da1",
   "metadata": {},
   "outputs": [
    {
     "name": "stdout",
     "output_type": "stream",
     "text": [
      "81\n"
     ]
    }
   ],
   "source": [
    "def count_photos(folder_path):\n",
    "    photo_extensions = ['.jpg', '.jpeg', '.png', 'gif']\n",
    "    count = 0\n",
    "    for file_name in os.listdir(folder_path):\n",
    "        _, extension = os.path.splitext(file_name)\n",
    "        if extension.lower() in photo_extensions:\n",
    "            count += 1\n",
    "    return count\n",
    "\n",
    "folder_path = \"3_distal\"\n",
    "photo_count = count_photos(folder_path)\n",
    "print(photo_count)"
   ]
  },
  {
   "cell_type": "markdown",
   "id": "e3069c93",
   "metadata": {},
   "source": [
    "#### Вырезка частей изображений в папке четырьмя кликами НЕСКОЛЬКО ВАРИАНТОВ - аугментация"
   ]
  },
  {
   "cell_type": "code",
   "execution_count": 103,
   "id": "661712ec",
   "metadata": {},
   "outputs": [],
   "source": [
    "matplotlib.use('TkAgg')  # Используйте TkAgg backend\n",
    "plt.figure(figsize=(15, 15))\n",
    "input_folder = '3_distal'\n",
    "output_folder = '3_distal_s'\n",
    "\n",
    "if not os.path.exists(output_folder): # Создать папку  если она не существует\n",
    "    os.makedirs(output_folder)\n",
    "\n",
    "file_names = os.listdir(input_folder)\n",
    "for file_name in file_names:\n",
    "    if file_name.endswith('.jpg') or file_name.endswith('.jpeg') or file_name.endswith('.png'):\n",
    "                \n",
    "        def crop_image(image, coords):\n",
    "            cropped_image = image.crop(coords)\n",
    "            return cropped_image\n",
    "\n",
    "        def get_coords(image_path):\n",
    "            image = Image.open(image_path)\n",
    "            plt.imshow(image)\n",
    "            plt.axis('off')\n",
    "            coords = plt.ginput(4)\n",
    "            plt.close()\n",
    "            return coords\n",
    "    \n",
    "        image_path = os.path.join(input_folder, file_name)\n",
    "        image = Image.open(image_path)#.convert(\"RGB\")\n",
    "        #gray_image = image.convert(\"L\")\n",
    "                \n",
    "        enhancer = ImageEnhance.Contrast(image) # Создание объекта для улучшения контрастности\n",
    "        enhanced_image = enhancer.enhance(1.0) # Увеличение контрастности в 2 раза\n",
    "        coords = get_coords(image_path)\n",
    "\n",
    "        x_coordinates = sorted([int(coord[0]) for coord in coords])\n",
    "        y_coordinates = sorted([int(coord[1]) for coord in coords])\n",
    "    \n",
    "        x1, y1 = x_coordinates[0], y_coordinates[0]\n",
    "        x2, y2 = x_coordinates[3], y_coordinates[3]\n",
    "        \n",
    "        plt.figure(figsize=(15, 15))\n",
    "        image = Image.open(image_path)\n",
    "        cropped_image = crop_image(image, (x1, y1, x2, y2))\n",
    "               \n",
    "        output_path = os.path.join(output_folder, file_name)\n",
    "        cropped_image.save(output_path)"
   ]
  },
  {
   "cell_type": "code",
   "execution_count": null,
   "id": "9c974b36",
   "metadata": {},
   "outputs": [],
   "source": []
  },
  {
   "cell_type": "markdown",
   "id": "c884a6ee",
   "metadata": {},
   "source": [
    "# 9. Папка \"4_mesial\""
   ]
  },
  {
   "cell_type": "markdown",
   "id": "d01fe735",
   "metadata": {},
   "source": [
    "{'2_raschirenie,3_distal': 11, '2_raschirenie,4_mesial': 29, '1_sujenie,3_distal': 46, '1_sujenie,4_mesial': 15, '0_normal': 42, '1_sujenie': 82, '2_raschirenie': 17, '3_distal': 81, '4_mesial': 33}"
   ]
  },
  {
   "cell_type": "markdown",
   "id": "eec63c40",
   "metadata": {},
   "source": [
    "#### 7.1 размерный состав"
   ]
  },
  {
   "cell_type": "code",
   "execution_count": 104,
   "id": "ecff8cbb",
   "metadata": {},
   "outputs": [
    {
     "name": "stdout",
     "output_type": "stream",
     "text": [
      "33\n"
     ]
    }
   ],
   "source": [
    "def count_photos(folder_path):\n",
    "    photo_extensions = ['.jpg', '.jpeg', '.png', 'gif']\n",
    "    count = 0\n",
    "    for file_name in os.listdir(folder_path):\n",
    "        _, extension = os.path.splitext(file_name)\n",
    "        if extension.lower() in photo_extensions:\n",
    "            count += 1\n",
    "    return count\n",
    "\n",
    "folder_path = \"4_mesial\"\n",
    "photo_count = count_photos(folder_path)\n",
    "print(photo_count)"
   ]
  },
  {
   "cell_type": "markdown",
   "id": "61dc68af",
   "metadata": {},
   "source": [
    "#### Вырезка частей изображений в папке четырьмя кликами НЕСКОЛЬКО ВАРИАНТОВ - аугментация"
   ]
  },
  {
   "cell_type": "code",
   "execution_count": 107,
   "id": "1aebb5ef",
   "metadata": {},
   "outputs": [],
   "source": [
    "matplotlib.use('TkAgg')  # Используйте TkAgg backend\n",
    "plt.figure(figsize=(15, 15))\n",
    "input_folder = '4_mesial'\n",
    "output_folder = '4_mesial_cut1'\n",
    "\n",
    "if not os.path.exists(output_folder): # Создать папку  если она не существует\n",
    "    os.makedirs(output_folder)\n",
    "\n",
    "file_names = os.listdir(input_folder)\n",
    "for file_name in file_names:\n",
    "    if file_name.endswith('.jpg') or file_name.endswith('.jpeg') or file_name.endswith('.png'):\n",
    "                \n",
    "        def crop_image(image, coords):\n",
    "            cropped_image = image.crop(coords)\n",
    "            return cropped_image\n",
    "\n",
    "        def get_coords(image_path):\n",
    "            image = Image.open(image_path)\n",
    "            plt.imshow(image)\n",
    "            plt.axis('off')\n",
    "            coords = plt.ginput(4)\n",
    "            plt.close()\n",
    "            return coords\n",
    "    \n",
    "        image_path = os.path.join(input_folder, file_name)\n",
    "        image = Image.open(image_path)#.convert(\"RGB\")\n",
    "        #gray_image = image.convert(\"L\")\n",
    "                \n",
    "        enhancer = ImageEnhance.Contrast(image) # Создание объекта для улучшения контрастности\n",
    "        enhanced_image = enhancer.enhance(1.0) # Увеличение контрастности в 2 раза\n",
    "        coords = get_coords(image_path)\n",
    "\n",
    "        x_coordinates = sorted([int(coord[0]) for coord in coords])\n",
    "        y_coordinates = sorted([int(coord[1]) for coord in coords])\n",
    "    \n",
    "        x1, y1 = x_coordinates[0], y_coordinates[0]\n",
    "        x2, y2 = x_coordinates[3], y_coordinates[3]\n",
    "        \n",
    "        plt.figure(figsize=(15, 15))\n",
    "        image = Image.open(image_path)\n",
    "        cropped_image = crop_image(image, (x1, y1, x2, y2))\n",
    "               \n",
    "        output_path = os.path.join(output_folder, file_name)\n",
    "        cropped_image.save(output_path)"
   ]
  },
  {
   "cell_type": "markdown",
   "id": "32e789c8",
   "metadata": {},
   "source": [
    "#### вариант разметки (последняя цифра) - отправить в имя файла в каждой папке"
   ]
  },
  {
   "cell_type": "code",
   "execution_count": 108,
   "id": "7c9cca9d",
   "metadata": {},
   "outputs": [],
   "source": [
    "listic = ['4_mesial_cut1','4_mesial_cut2', '4_mesial_cut3']\n",
    "for i in range(len(listic)):\n",
    "    \n",
    "\n",
    "    # Путь к папке с изображениями\n",
    "    folder_path = listic[i]\n",
    "\n",
    "    # Получение списка файлов изображений в папке\n",
    "    image_files = os.listdir(folder_path)\n",
    "\n",
    "    # Переименование каждого файла изображения\n",
    "    for file_name in image_files:\n",
    "        if file_name.endswith(\".jpg\") or file_name.endswith(\".png\"):\n",
    "            # Создание нового имени файла с добавлением \"i_\" в начало\n",
    "            new_file_name = listic[i][-1] +'_'+ file_name\n",
    "        \n",
    "            # Получение полного пути к файлу\n",
    "            current_file_path = os.path.join(folder_path, file_name)\n",
    "            new_file_path = os.path.join(folder_path, new_file_name)\n",
    "        \n",
    "            # Переименование файла\n",
    "            os.rename(current_file_path, new_file_path)"
   ]
  },
  {
   "cell_type": "markdown",
   "id": "8a02400b",
   "metadata": {},
   "source": [
    "#### все варианты в одну  общую папку"
   ]
  },
  {
   "cell_type": "code",
   "execution_count": 109,
   "id": "aa17757f",
   "metadata": {},
   "outputs": [],
   "source": [
    "import shutil\n",
    "\n",
    "# Пути к папкам с изображениями\n",
    "folders = ['4_mesial_cut1','4_mesial_cut2', '4_mesial_cut3']\n",
    "\n",
    "# Создание папки 'all' для объединения всех изображений\n",
    "output_folder = '4_mesial_s'\n",
    "os.makedirs(output_folder, exist_ok=True)\n",
    "\n",
    "# Перебор всех папок с изображениями\n",
    "for folder in folders:\n",
    "    # Получение списка файлов изображений в папке\n",
    "    image_files = os.listdir(folder)\n",
    "\n",
    "    # Перебор всех файлов изображений\n",
    "    for file_name in image_files:\n",
    "        if file_name.lower().endswith('.jpg'):\n",
    "            # Путь к исходному файлу\n",
    "            source_path = os.path.join(folder, file_name)\n",
    "\n",
    "            # Путь к целевому файлу\n",
    "            destination_path = os.path.join(output_folder, file_name)\n",
    "\n",
    "            # Копирование файла в папку 'all'\n",
    "            shutil.copy2(source_path, destination_path)"
   ]
  },
  {
   "cell_type": "markdown",
   "id": "0aacc0bc",
   "metadata": {},
   "source": [
    "#### убрать лишнее"
   ]
  },
  {
   "cell_type": "code",
   "execution_count": 110,
   "id": "ba256daa",
   "metadata": {},
   "outputs": [],
   "source": [
    "folders_to_delete = ['4_mesial_cut1','4_mesial_cut2', '4_mesial_cut3']\n",
    "\n",
    "for folder_path in folders_to_delete:\n",
    "    shutil.rmtree(folder_path)"
   ]
  },
  {
   "cell_type": "raw",
   "id": "559ccd5c",
   "metadata": {},
   "source": [
    "folder_path1 = '0_cor_norm_cut'\n",
    "shutil.rmtree(folder_path1)"
   ]
  },
  {
   "cell_type": "markdown",
   "id": "82fec615",
   "metadata": {},
   "source": [
    "#### количество изображений в папке "
   ]
  },
  {
   "cell_type": "code",
   "execution_count": 111,
   "id": "cd057255",
   "metadata": {},
   "outputs": [
    {
     "name": "stdout",
     "output_type": "stream",
     "text": [
      "99\n"
     ]
    }
   ],
   "source": [
    "def count_photos(folder_path):\n",
    "    photo_extensions = ['.jpg', '.jpeg', '.png', 'gif']\n",
    "    count = 0\n",
    "    for file_name in os.listdir(folder_path):\n",
    "        _, extension = os.path.splitext(file_name)\n",
    "        if extension.lower() in photo_extensions:\n",
    "            count += 1\n",
    "    return count\n",
    "\n",
    "folder_path = '4_mesial_s'\n",
    "photo_count = count_photos(folder_path)\n",
    "print(photo_count)"
   ]
  },
  {
   "cell_type": "code",
   "execution_count": null,
   "id": "493e5acd",
   "metadata": {},
   "outputs": [],
   "source": []
  },
  {
   "cell_type": "raw",
   "id": "d3d236f7",
   "metadata": {},
   "source": [
    "&&&&&&&&&&&&&&&&&&&&&&&&&&&&&&&&&&&&&&&&&&&&&&&&&&&&&&&&&&&&&&&&&&&&&&&&&&&&&&&&&&&&&&&&&&&&&&&&&&&&&&&&&&&&&&&&&&&&&&&&&&&&&\n",
    "&&&&&&&&&&&&&&&&&&&&&&&&&&&&&&&&&&&&&&&&&&&&&&&&&&&&&&&&&&&&&&&&&&&&&&&&&&&&&&&&&&&&&&&&&&&&&&&&&&&&&&&&&&&&&&&&&&&&&&&&&&&&&\n",
    "&&&&&&&&&&&&&&&&&&&&&&&&&&&&&&&&&&&&&&&&&&&&&&&&&&&&&&&&&&&&&&&&&&&&&&&&&&&&&&&&&&&&&&&&&&&&&&&&&&&&&&&&&&&&&&&&&&&&&&&&&&&&&"
   ]
  },
  {
   "cell_type": "markdown",
   "id": "a08cb9d9",
   "metadata": {},
   "source": [
    "# УРАВНИВАНИЕ КОЛИЧЕСТВА В ПАПКАХ"
   ]
  },
  {
   "cell_type": "code",
   "execution_count": 128,
   "id": "b3471348",
   "metadata": {
    "scrolled": true
   },
   "outputs": [
    {
     "name": "stdout",
     "output_type": "stream",
     "text": [
      "{'2_raschirenie,3_distal_s': 242, '2_raschirenie,4_mesial_s': 232, '1_sujenie,3_distal_s': 0, '1_sujenie,4_mesial_s': 0, '0_normal_s': 252, '1_sujenie_s': 82, '2_raschirenie_cut_s': 102, '3_distal_s': 81, '4_mesial_s': 99}\n"
     ]
    }
   ],
   "source": [
    "folders = [\"2_raschirenie,3_distal_s\", \"2_raschirenie,4_mesial_s\", \"1_sujenie,3_distal_s\", \"1_sujenie,4_mesial_s\", \"0_normal_s\",\n",
    "           '1_sujenie_s','2_raschirenie_cut_s','3_distal_s','4_mesial_s']\n",
    "image_extensions = ['.jpg', '.jpeg', '.png']\n",
    "\n",
    "image_counts = {}\n",
    "\n",
    "for folder in folders:\n",
    "    folder_path = os.path.join(\".\", folder)  # Полный путь к папке\n",
    "    image_count = len(glob.glob(os.path.join(folder_path, '*')))  # Количество файлов в папке\n",
    "    image_counts[folder] = image_count\n",
    "\n",
    "print(image_counts)"
   ]
  },
  {
   "cell_type": "raw",
   "id": "9a732384",
   "metadata": {},
   "source": [
    "{'2_raschirenie,3_distal_s': 242, '2_raschirenie,4_mesial_s': 232, '1_sujenie,3_distal_s': 0, '1_sujenie,4_mesial_s': 0,\n",
    " '0_normal_s': 252, '1_sujenie_s': 82, '2_raschirenie_cut_s': 102, '3_distal_s': 81, '4_mesial_s': 99}"
   ]
  },
  {
   "cell_type": "markdown",
   "id": "c00cdef5",
   "metadata": {},
   "source": [
    "# '2_raschirenie,3_distal': 121"
   ]
  },
  {
   "cell_type": "code",
   "execution_count": 113,
   "id": "9fc71574",
   "metadata": {},
   "outputs": [],
   "source": [
    "from shutil import copyfile\n",
    "\n",
    "folder_path = '2_raschirenie,3_distal_s' # Путь до папки с изображениями\n",
    "image_names = os.listdir(folder_path)# Читаем имена всех изображений в папке\n",
    "for image_name in image_names:# Проходим по каждому изображению\n",
    "    image_path = os.path.join(folder_path, image_name)# Формируем полный путь до изображения\n",
    "    name, extension = os.path.splitext(image_name)# Разделяем имя файла и расширение\n",
    "    \n",
    "    new_image_name_1 = f\"{name}_001{extension}\"# Создаем дополнительные копии изображения\n",
    "           \n",
    "    new_image_path_1 = os.path.join(folder_path, new_image_name_1)\n",
    "        \n",
    "    copyfile(image_path, new_image_path_1)# Копируем изображение       "
   ]
  },
  {
   "cell_type": "markdown",
   "id": "2638d3de",
   "metadata": {},
   "source": [
    "#### Перемешать в случайном порядке  и переименовать по порядку"
   ]
  },
  {
   "cell_type": "code",
   "execution_count": 114,
   "id": "330de061",
   "metadata": {},
   "outputs": [],
   "source": [
    "import random\n",
    "# Путь до папки с изображениями\n",
    "folder_path = '2_raschirenie,3_distal_s'\n",
    "\n",
    "# Читаем имена всех изображений в папке\n",
    "image_names = os.listdir(folder_path)\n",
    "\n",
    "# Случайно перемешиваем имена изображений\n",
    "random.shuffle(image_names)\n",
    "\n",
    "# Перемещаем изображения в случайном порядке в новую папку\n",
    "new_folder_path = '2_raschirenie,3_distal_sq'\n",
    "os.makedirs(new_folder_path, exist_ok=True)\n",
    "\n",
    "for i, image_name in enumerate(image_names):\n",
    "    old_image_path = os.path.join(folder_path, image_name)\n",
    "    new_image_name = f'{i+1:03}.jpg'  # Менять нумерацию изображений в зависимости от нужных требований\n",
    "    new_image_path = os.path.join(new_folder_path, new_image_name)\n",
    "    shutil.copy2(old_image_path, new_image_path)"
   ]
  },
  {
   "cell_type": "code",
   "execution_count": 115,
   "id": "8ce0cae7",
   "metadata": {},
   "outputs": [
    {
     "name": "stdout",
     "output_type": "stream",
     "text": [
      "242\n"
     ]
    }
   ],
   "source": [
    "def count_photos(folder_path):\n",
    "    photo_extensions = ['.jpg', '.jpeg', '.png', 'gif']\n",
    "    count = 0\n",
    "    for file_name in os.listdir(folder_path):\n",
    "        _, extension = os.path.splitext(file_name)\n",
    "        if extension.lower() in photo_extensions:\n",
    "            count += 1\n",
    "    return count\n",
    "\n",
    "folder_path = \"2_raschirenie,3_distal_sq\"\n",
    "photo_count = count_photos(folder_path)\n",
    "print(photo_count)"
   ]
  },
  {
   "cell_type": "markdown",
   "id": "4187252d",
   "metadata": {},
   "source": [
    "# '2_raschirenie,4_mesial': 116"
   ]
  },
  {
   "cell_type": "raw",
   "id": "c716a067",
   "metadata": {},
   "source": [
    "{'2_raschirenie,3_distal_s': 242, '2_raschirenie,4_mesial_s': 232, '1_sujenie,3_distal_s': 0, '1_sujenie,4_mesial_s': 0,\n",
    " '0_normal_s': 252, '1_sujenie_s': 82, '2_raschirenie_cut_s': 102, '3_distal_s': 81, '4_mesial_s': 99}"
   ]
  },
  {
   "cell_type": "code",
   "execution_count": 116,
   "id": "05bd4234",
   "metadata": {},
   "outputs": [],
   "source": [
    "from shutil import copyfile\n",
    "\n",
    "folder_path = '2_raschirenie,4_mesial_s' # Путь до папки с изображениями\n",
    "image_names = os.listdir(folder_path)# Читаем имена всех изображений в папке\n",
    "for image_name in image_names:# Проходим по каждому изображению\n",
    "    image_path = os.path.join(folder_path, image_name)# Формируем полный путь до изображения\n",
    "    name, extension = os.path.splitext(image_name)# Разделяем имя файла и расширение\n",
    "    \n",
    "    new_image_name_1 = f\"{name}_001{extension}\"# Создаем дополнительные копии изображения\n",
    "        \n",
    "    new_image_path_1 = os.path.join(folder_path, new_image_name_1)\n",
    "        \n",
    "    copyfile(image_path, new_image_path_1)# Копируем изображение\n",
    "    "
   ]
  },
  {
   "cell_type": "markdown",
   "id": "da1ebd22",
   "metadata": {},
   "source": [
    "#### Перемешать в случайном порядке и переименовать по порядку"
   ]
  },
  {
   "cell_type": "code",
   "execution_count": 117,
   "id": "bd6b2155",
   "metadata": {},
   "outputs": [],
   "source": [
    "import random\n",
    "# Путь до папки с изображениями\n",
    "folder_path = '2_raschirenie,4_mesial_s'\n",
    "\n",
    "# Читаем имена всех изображений в папке\n",
    "image_names = os.listdir(folder_path)\n",
    "\n",
    "# Случайно перемешиваем имена изображений\n",
    "random.shuffle(image_names)\n",
    "\n",
    "# Перемещаем изображения в случайном порядке в новую папку\n",
    "new_folder_path = '2_raschirenie,4_mesial_sq'\n",
    "os.makedirs(new_folder_path, exist_ok=True)\n",
    "\n",
    "for i, image_name in enumerate(image_names):\n",
    "    old_image_path = os.path.join(folder_path, image_name)\n",
    "    new_image_name = f'{i+1:03}.jpg'  # Менять нумерацию изображений в зависимости от нужных требований\n",
    "    new_image_path = os.path.join(new_folder_path, new_image_name)\n",
    "    shutil.copy2(old_image_path, new_image_path)"
   ]
  },
  {
   "cell_type": "code",
   "execution_count": 118,
   "id": "43203588",
   "metadata": {},
   "outputs": [
    {
     "name": "stdout",
     "output_type": "stream",
     "text": [
      "232\n"
     ]
    }
   ],
   "source": [
    "def count_photos(folder_path):\n",
    "    photo_extensions = ['.jpg', '.jpeg', '.png', 'gif']\n",
    "    count = 0\n",
    "    for file_name in os.listdir(folder_path):\n",
    "        _, extension = os.path.splitext(file_name)\n",
    "        if extension.lower() in photo_extensions:\n",
    "            count += 1\n",
    "    return count\n",
    "\n",
    "folder_path = \"2_raschirenie,4_mesial_sq\"\n",
    "photo_count = count_photos(folder_path)\n",
    "print(photo_count)"
   ]
  },
  {
   "cell_type": "markdown",
   "id": "bd21e642",
   "metadata": {},
   "source": [
    "# '1_sujenie,3_distal': 92"
   ]
  },
  {
   "cell_type": "code",
   "execution_count": 119,
   "id": "0d971d7e",
   "metadata": {},
   "outputs": [],
   "source": [
    "from shutil import copyfile\n",
    "\n",
    "folder_path = '1_sujenie,3_distal_s' # Путь до папки с изображениями\n",
    "image_names = os.listdir(folder_path)# Читаем имена всех изображений в папке\n",
    "for image_name in image_names:# Проходим по каждому изображению\n",
    "    image_path = os.path.join(folder_path, image_name)# Формируем полный путь до изображения\n",
    "    name, extension = os.path.splitext(image_name)# Разделяем имя файла и расширение\n",
    "    \n",
    "    new_image_name_1 = f\"{name}_001{extension}\"# Создаем дополнительные копии изображения\n",
    "           \n",
    "    new_image_path_1 = os.path.join(folder_path, new_image_name_1)\n",
    "        \n",
    "    copyfile(image_path, new_image_path_1)# Копируем изображение\n",
    "      "
   ]
  },
  {
   "cell_type": "raw",
   "id": "a0880c9d",
   "metadata": {},
   "source": [
    "{'2_raschirenie,3_distal_s': 242, '2_raschirenie,4_mesial_s': 232, '1_sujenie,3_distal_s': 0, '1_sujenie,4_mesial_s': 0,\n",
    " '0_normal_s': 252, '1_sujenie_s': 82, '2_raschirenie_cut_s': 102, '3_distal_s': 81, '4_mesial_s': 99}"
   ]
  },
  {
   "cell_type": "markdown",
   "id": "04cec719",
   "metadata": {},
   "source": [
    "#### Перемешать в случайном порядке и переименовать по порядку "
   ]
  },
  {
   "cell_type": "code",
   "execution_count": 120,
   "id": "0b55711f",
   "metadata": {},
   "outputs": [],
   "source": [
    "import random\n",
    "# Путь до папки с изображениями\n",
    "folder_path = '1_sujenie,3_distal_s'\n",
    "\n",
    "# Читаем имена всех изображений в папке\n",
    "image_names = os.listdir(folder_path)\n",
    "\n",
    "# Случайно перемешиваем имена изображений\n",
    "random.shuffle(image_names)\n",
    "\n",
    "# Перемещаем изображения в случайном порядке в новую папку\n",
    "new_folder_path = '1_sujenie,3_distal_sq'\n",
    "os.makedirs(new_folder_path, exist_ok=True)\n",
    "\n",
    "for i, image_name in enumerate(image_names):\n",
    "    old_image_path = os.path.join(folder_path, image_name)\n",
    "    new_image_name = f'{i+1:03}.jpg'  # Менять нумерацию изображений в зависимости от нужных требований\n",
    "    new_image_path = os.path.join(new_folder_path, new_image_name)\n",
    "    shutil.move(old_image_path, new_image_path)"
   ]
  },
  {
   "cell_type": "code",
   "execution_count": 121,
   "id": "d35c57e4",
   "metadata": {},
   "outputs": [
    {
     "name": "stdout",
     "output_type": "stream",
     "text": [
      "184\n"
     ]
    }
   ],
   "source": [
    "def count_photos(folder_path):\n",
    "    photo_extensions = ['.jpg', '.jpeg', '.png', 'gif']\n",
    "    count = 0\n",
    "    for file_name in os.listdir(folder_path):\n",
    "        _, extension = os.path.splitext(file_name)\n",
    "        if extension.lower() in photo_extensions:\n",
    "            count += 1\n",
    "    return count\n",
    "\n",
    "folder_path = '1_sujenie,3_distal_sq'\n",
    "photo_count = count_photos(folder_path)\n",
    "print(photo_count)"
   ]
  },
  {
   "cell_type": "markdown",
   "id": "82cc726c",
   "metadata": {},
   "source": [
    "#  '1_sujenie,4_mesial':105"
   ]
  },
  {
   "cell_type": "raw",
   "id": "0aa558dd",
   "metadata": {},
   "source": [
    "{'2_raschirenie,3_distal_s': 242, '2_raschirenie,4_mesial_s': 232, '1_sujenie,3_distal_s': 0, '1_sujenie,4_mesial_s': 0,\n",
    " '0_normal_s': 252, '1_sujenie_s': 82, '2_raschirenie_cut_s': 102, '3_distal_s': 81, '4_mesial_s': 99}"
   ]
  },
  {
   "cell_type": "code",
   "execution_count": 122,
   "id": "c1dc0de9",
   "metadata": {},
   "outputs": [],
   "source": [
    "from shutil import copyfile\n",
    "\n",
    "folder_path = '1_sujenie,4_mesial_s' # Путь до папки с изображениями\n",
    "image_names = os.listdir(folder_path)# Читаем имена всех изображений в папке\n",
    "for image_name in image_names:# Проходим по каждому изображению\n",
    "    image_path = os.path.join(folder_path, image_name)# Формируем полный путь до изображения\n",
    "    name, extension = os.path.splitext(image_name)# Разделяем имя файла и расширение\n",
    "    \n",
    "    new_image_name_1 = f\"{name}_001{extension}\"# Создаем дополнительные копии изображения\n",
    "        \n",
    "    new_image_path_1 = os.path.join(folder_path, new_image_name_1)\n",
    "        \n",
    "    copyfile(image_path, new_image_path_1)# Копируем изображение\n",
    "   "
   ]
  },
  {
   "cell_type": "markdown",
   "id": "c74b281d",
   "metadata": {},
   "source": [
    "#### Перемешать в случайном порядке и переименовать по порядку"
   ]
  },
  {
   "cell_type": "code",
   "execution_count": 123,
   "id": "9a5a0a6b",
   "metadata": {},
   "outputs": [],
   "source": [
    "import random\n",
    "# Путь до папки с изображениями\n",
    "folder_path = '1_sujenie,4_mesial_s'\n",
    "\n",
    "# Читаем имена всех изображений в папке\n",
    "image_names = os.listdir(folder_path)\n",
    "\n",
    "# Случайно перемешиваем имена изображений\n",
    "random.shuffle(image_names)\n",
    "\n",
    "# Перемещаем изображения в случайном порядке в новую папку\n",
    "new_folder_path = '1_sujenie,4_mesial_sq'\n",
    "os.makedirs(new_folder_path, exist_ok=True)\n",
    "\n",
    "for i, image_name in enumerate(image_names):\n",
    "    old_image_path = os.path.join(folder_path, image_name)\n",
    "    new_image_name = f'{i+1:03}.jpg'  # Менять нумерацию изображений в зависимости от нужных требований\n",
    "    new_image_path = os.path.join(new_folder_path, new_image_name)\n",
    "    shutil.move(old_image_path, new_image_path)"
   ]
  },
  {
   "cell_type": "code",
   "execution_count": 124,
   "id": "f6b80a9a",
   "metadata": {},
   "outputs": [
    {
     "name": "stdout",
     "output_type": "stream",
     "text": [
      "210\n"
     ]
    }
   ],
   "source": [
    "def count_photos(folder_path):\n",
    "    photo_extensions = ['.jpg', '.jpeg', '.png', 'gif']\n",
    "    count = 0\n",
    "    for file_name in os.listdir(folder_path):\n",
    "        _, extension = os.path.splitext(file_name)\n",
    "        if extension.lower() in photo_extensions:\n",
    "            count += 1\n",
    "    return count\n",
    "\n",
    "folder_path = '1_sujenie,4_mesial_sq'\n",
    "photo_count = count_photos(folder_path)\n",
    "print(photo_count)"
   ]
  },
  {
   "cell_type": "markdown",
   "id": "64f47859",
   "metadata": {},
   "source": [
    "# '0_normal': 126"
   ]
  },
  {
   "cell_type": "raw",
   "id": "a16e8a5a",
   "metadata": {},
   "source": [
    "{'2_raschirenie,3_distal_s': 242, '2_raschirenie,4_mesial_s': 232, '1_sujenie,3_distal_s': 0, '1_sujenie,4_mesial_s': 0,\n",
    " '0_normal_s': 252, '1_sujenie_s': 82, '2_raschirenie_cut_s': 102, '3_distal_s': 81, '4_mesial_s': 99}"
   ]
  },
  {
   "cell_type": "code",
   "execution_count": 125,
   "id": "c0dc2bbc",
   "metadata": {},
   "outputs": [],
   "source": [
    "from shutil import copyfile\n",
    "\n",
    "folder_path = '0_normal_s' # Путь до папки с изображениями\n",
    "image_names = os.listdir(folder_path)# Читаем имена всех изображений в папке\n",
    "for image_name in image_names:# Проходим по каждому изображению\n",
    "    image_path = os.path.join(folder_path, image_name)# Формируем полный путь до изображения\n",
    "    name, extension = os.path.splitext(image_name)# Разделяем имя файла и расширение\n",
    "    \n",
    "    new_image_name_1 = f\"{name}_001{extension}\"# Создаем дополнительные копии изображения\n",
    "    \n",
    "    new_image_path_1 = os.path.join(folder_path, new_image_name_1)\n",
    "            \n",
    "    copyfile(image_path, new_image_path_1)# Копируем изображение\n",
    "           "
   ]
  },
  {
   "cell_type": "markdown",
   "id": "af793381",
   "metadata": {},
   "source": [
    "#### Перемешать в случайном порядке и переименовать по порядку"
   ]
  },
  {
   "cell_type": "code",
   "execution_count": 126,
   "id": "3d33cd0f",
   "metadata": {},
   "outputs": [],
   "source": [
    "import random\n",
    "# Путь до папки с изображениями\n",
    "folder_path = '0_normal_s'\n",
    "\n",
    "# Читаем имена всех изображений в папке\n",
    "image_names = os.listdir(folder_path)\n",
    "\n",
    "# Случайно перемешиваем имена изображений\n",
    "random.shuffle(image_names)\n",
    "\n",
    "# Перемещаем изображения в случайном порядке в новую папку\n",
    "new_folder_path = '0_normal_sq'\n",
    "os.makedirs(new_folder_path, exist_ok=True)\n",
    "\n",
    "for i, image_name in enumerate(image_names):\n",
    "    old_image_path = os.path.join(folder_path, image_name)\n",
    "    new_image_name = f'{i+1:03}.jpg'  # Менять нумерацию изображений в зависимости от нужных требований\n",
    "    new_image_path = os.path.join(new_folder_path, new_image_name)\n",
    "    shutil.copy2(old_image_path, new_image_path)"
   ]
  },
  {
   "cell_type": "code",
   "execution_count": 127,
   "id": "ff52525f",
   "metadata": {},
   "outputs": [
    {
     "name": "stdout",
     "output_type": "stream",
     "text": [
      "252\n"
     ]
    }
   ],
   "source": [
    "def count_photos(folder_path):\n",
    "    photo_extensions = ['.jpg', '.jpeg', '.png', 'gif']\n",
    "    count = 0\n",
    "    for file_name in os.listdir(folder_path):\n",
    "        _, extension = os.path.splitext(file_name)\n",
    "        if extension.lower() in photo_extensions:\n",
    "            count += 1\n",
    "    return count\n",
    "\n",
    "folder_path = '0_normal_sq'\n",
    "photo_count = count_photos(folder_path)\n",
    "print(photo_count)"
   ]
  },
  {
   "cell_type": "markdown",
   "id": "eca345a6",
   "metadata": {},
   "source": [
    "# '2_raschirenie': 102"
   ]
  },
  {
   "cell_type": "raw",
   "id": "57cbd676",
   "metadata": {},
   "source": [
    "{'2_raschirenie,3_distal_s': 242, '2_raschirenie,4_mesial_s': 232, '1_sujenie,3_distal_s': 0, '1_sujenie,4_mesial_s': 0,\n",
    " '0_normal_s': 252, '1_sujenie_s': 82, '2_raschirenie_cut_s': 102, '3_distal_s': 81, '4_mesial_s': 99}"
   ]
  },
  {
   "cell_type": "code",
   "execution_count": 129,
   "id": "a21ac5c1",
   "metadata": {},
   "outputs": [],
   "source": [
    "from shutil import copyfile\n",
    "\n",
    "folder_path = '2_raschirenie_cut_s' # Путь до папки с изображениями\n",
    "image_names = os.listdir(folder_path)# Читаем имена всех изображений в папке\n",
    "for image_name in image_names:# Проходим по каждому изображению\n",
    "    image_path = os.path.join(folder_path, image_name)# Формируем полный путь до изображения\n",
    "    name, extension = os.path.splitext(image_name)# Разделяем имя файла и расширение\n",
    "    \n",
    "    new_image_name_1 = f\"{name}_001{extension}\"# Создаем дополнительные копии изображения\n",
    "          \n",
    "    new_image_path_1 = os.path.join(folder_path, new_image_name_1)\n",
    "        \n",
    "    copyfile(image_path, new_image_path_1)# Копируем изображение\n",
    "         "
   ]
  },
  {
   "cell_type": "markdown",
   "id": "b5b01a5f",
   "metadata": {},
   "source": [
    "#### Перемешать в случайном порядке и переименовать по порядку"
   ]
  },
  {
   "cell_type": "code",
   "execution_count": 130,
   "id": "de3549ca",
   "metadata": {},
   "outputs": [],
   "source": [
    "import random\n",
    "# Путь до папки с изображениями\n",
    "folder_path = '2_raschirenie_cut_s'\n",
    "\n",
    "# Читаем имена всех изображений в папке\n",
    "image_names = os.listdir(folder_path)\n",
    "\n",
    "# Случайно перемешиваем имена изображений\n",
    "random.shuffle(image_names)\n",
    "\n",
    "# Перемещаем изображения в случайном порядке в новую папку\n",
    "new_folder_path = '2_raschirenie_sq'\n",
    "os.makedirs(new_folder_path, exist_ok=True)\n",
    "\n",
    "for i, image_name in enumerate(image_names):\n",
    "    old_image_path = os.path.join(folder_path, image_name)\n",
    "    new_image_name = f'{i+1:03}.jpg'  # Менять нумерацию изображений в зависимости от нужных требований\n",
    "    new_image_path = os.path.join(new_folder_path, new_image_name)\n",
    "    shutil.copy2(old_image_path, new_image_path)"
   ]
  },
  {
   "cell_type": "code",
   "execution_count": 131,
   "id": "8e3db7a6",
   "metadata": {},
   "outputs": [
    {
     "name": "stdout",
     "output_type": "stream",
     "text": [
      "204\n"
     ]
    }
   ],
   "source": [
    "def count_photos(folder_path):\n",
    "    photo_extensions = ['.jpg', '.jpeg', '.png', 'gif']\n",
    "    count = 0\n",
    "    for file_name in os.listdir(folder_path):\n",
    "        _, extension = os.path.splitext(file_name)\n",
    "        if extension.lower() in photo_extensions:\n",
    "            count += 1\n",
    "    return count\n",
    "\n",
    "folder_path = '2_raschirenie_sq'\n",
    "photo_count = count_photos(folder_path)\n",
    "print(photo_count)"
   ]
  },
  {
   "cell_type": "markdown",
   "id": "60d4e6f8",
   "metadata": {},
   "source": [
    "# '1_sujenie_s': 82"
   ]
  },
  {
   "cell_type": "raw",
   "id": "c0bccb5f",
   "metadata": {},
   "source": [
    "{'2_raschirenie,3_distal_s': 242, '2_raschirenie,4_mesial_s': 232, '1_sujenie,3_distal_s': 0, '1_sujenie,4_mesial_s': 0,\n",
    " '0_normal_s': 252, '1_sujenie_s': 82, '2_raschirenie_cut_s': 102, '3_distal_s': 81, '4_mesial_s': 99}"
   ]
  },
  {
   "cell_type": "code",
   "execution_count": 132,
   "id": "67b61914",
   "metadata": {},
   "outputs": [],
   "source": [
    "from shutil import copyfile\n",
    "\n",
    "folder_path = '1_sujenie_s' # Путь до папки с изображениями\n",
    "image_names = os.listdir(folder_path)# Читаем имена всех изображений в папке\n",
    "for image_name in image_names:# Проходим по каждому изображению\n",
    "    image_path = os.path.join(folder_path, image_name)# Формируем полный путь до изображения\n",
    "    name, extension = os.path.splitext(image_name)# Разделяем имя файла и расширение\n",
    "    \n",
    "    new_image_name_1 = f\"{name}_001{extension}\"# Создаем дополнительные копии изображения\n",
    "          \n",
    "    new_image_path_1 = os.path.join(folder_path, new_image_name_1)\n",
    "        \n",
    "    copyfile(image_path, new_image_path_1)# Копируем изображение\n",
    "         "
   ]
  },
  {
   "cell_type": "markdown",
   "id": "9fd0ce80",
   "metadata": {},
   "source": [
    "#### Перемешать в случайном порядке и переименовать по порядку"
   ]
  },
  {
   "cell_type": "code",
   "execution_count": 133,
   "id": "a434f44f",
   "metadata": {},
   "outputs": [],
   "source": [
    "import random\n",
    "# Путь до папки с изображениями\n",
    "folder_path = '1_sujenie_s'\n",
    "\n",
    "# Читаем имена всех изображений в папке\n",
    "image_names = os.listdir(folder_path)\n",
    "\n",
    "# Случайно перемешиваем имена изображений\n",
    "random.shuffle(image_names)\n",
    "\n",
    "# Перемещаем изображения в случайном порядке в новую папку\n",
    "new_folder_path = '1_sujenie_sq'\n",
    "os.makedirs(new_folder_path, exist_ok=True)\n",
    "\n",
    "for i, image_name in enumerate(image_names):\n",
    "    old_image_path = os.path.join(folder_path, image_name)\n",
    "    new_image_name = f'{i+1:03}.jpg'  # Менять нумерацию изображений в зависимости от нужных требований\n",
    "    new_image_path = os.path.join(new_folder_path, new_image_name)\n",
    "    shutil.copy2(old_image_path, new_image_path)"
   ]
  },
  {
   "cell_type": "code",
   "execution_count": 134,
   "id": "5a72718d",
   "metadata": {},
   "outputs": [
    {
     "name": "stdout",
     "output_type": "stream",
     "text": [
      "164\n"
     ]
    }
   ],
   "source": [
    "def count_photos(folder_path):\n",
    "    photo_extensions = ['.jpg', '.jpeg', '.png', 'gif']\n",
    "    count = 0\n",
    "    for file_name in os.listdir(folder_path):\n",
    "        _, extension = os.path.splitext(file_name)\n",
    "        if extension.lower() in photo_extensions:\n",
    "            count += 1\n",
    "    return count\n",
    "\n",
    "folder_path = '1_sujenie_sq'\n",
    "photo_count = count_photos(folder_path)\n",
    "print(photo_count)"
   ]
  },
  {
   "cell_type": "markdown",
   "id": "3b65b7a5",
   "metadata": {},
   "source": [
    "# '4_mesial_s': 99"
   ]
  },
  {
   "cell_type": "raw",
   "id": "4db02bae",
   "metadata": {},
   "source": [
    "{'2_raschirenie,3_distal_s': 242, '2_raschirenie,4_mesial_s': 232, '1_sujenie,3_distal_s': 0, '1_sujenie,4_mesial_s': 0,\n",
    " '0_normal_s': 252, '1_sujenie_s': 82, '2_raschirenie_cut_s': 102, '3_distal_s': 81, '4_mesial_s': 99}"
   ]
  },
  {
   "cell_type": "code",
   "execution_count": 135,
   "id": "36751e85",
   "metadata": {},
   "outputs": [],
   "source": [
    "from shutil import copyfile\n",
    "\n",
    "folder_path = '4_mesial_s' # Путь до папки с изображениями\n",
    "image_names = os.listdir(folder_path)# Читаем имена всех изображений в папке\n",
    "for image_name in image_names:# Проходим по каждому изображению\n",
    "    image_path = os.path.join(folder_path, image_name)# Формируем полный путь до изображения\n",
    "    name, extension = os.path.splitext(image_name)# Разделяем имя файла и расширение\n",
    "    \n",
    "    new_image_name_1 = f\"{name}_001{extension}\"# Создаем дополнительные копии изображения\n",
    "          \n",
    "    new_image_path_1 = os.path.join(folder_path, new_image_name_1)\n",
    "        \n",
    "    copyfile(image_path, new_image_path_1)# Копируем изображение\n",
    "         "
   ]
  },
  {
   "cell_type": "code",
   "execution_count": null,
   "id": "b867c9c7",
   "metadata": {},
   "outputs": [],
   "source": []
  },
  {
   "cell_type": "markdown",
   "id": "0d92acb1",
   "metadata": {},
   "source": [
    "#### Перемешать в случайном порядке и переименовать по порядку"
   ]
  },
  {
   "cell_type": "code",
   "execution_count": 136,
   "id": "5f843a47",
   "metadata": {},
   "outputs": [],
   "source": [
    "import random\n",
    "# Путь до папки с изображениями\n",
    "folder_path = '4_mesial_s'\n",
    "\n",
    "# Читаем имена всех изображений в папке\n",
    "image_names = os.listdir(folder_path)\n",
    "\n",
    "# Случайно перемешиваем имена изображений\n",
    "random.shuffle(image_names)\n",
    "\n",
    "# Перемещаем изображения в случайном порядке в новую папку\n",
    "new_folder_path = '4_mesial_sq'\n",
    "os.makedirs(new_folder_path, exist_ok=True)\n",
    "\n",
    "for i, image_name in enumerate(image_names):\n",
    "    old_image_path = os.path.join(folder_path, image_name)\n",
    "    new_image_name = f'{i+1:03}.jpg'  # Менять нумерацию изображений в зависимости от нужных требований\n",
    "    new_image_path = os.path.join(new_folder_path, new_image_name)\n",
    "    shutil.copy2(old_image_path, new_image_path)"
   ]
  },
  {
   "cell_type": "code",
   "execution_count": 137,
   "id": "883e37d5",
   "metadata": {},
   "outputs": [
    {
     "name": "stdout",
     "output_type": "stream",
     "text": [
      "198\n"
     ]
    }
   ],
   "source": [
    "def count_photos(folder_path):\n",
    "    photo_extensions = ['.jpg', '.jpeg', '.png', 'gif']\n",
    "    count = 0\n",
    "    for file_name in os.listdir(folder_path):\n",
    "        _, extension = os.path.splitext(file_name)\n",
    "        if extension.lower() in photo_extensions:\n",
    "            count += 1\n",
    "    return count\n",
    "\n",
    "folder_path = '4_mesial_sq'\n",
    "photo_count = count_photos(folder_path)\n",
    "print(photo_count)"
   ]
  },
  {
   "cell_type": "code",
   "execution_count": null,
   "id": "400b6108",
   "metadata": {},
   "outputs": [],
   "source": []
  },
  {
   "cell_type": "markdown",
   "id": "3f0c2d06",
   "metadata": {},
   "source": [
    "# '3_distal_s': 81"
   ]
  },
  {
   "cell_type": "raw",
   "id": "0255ae48",
   "metadata": {},
   "source": [
    "{'2_raschirenie,3_distal_s': 242, '2_raschirenie,4_mesial_s': 232, '1_sujenie,3_distal_s': 0, '1_sujenie,4_mesial_s': 0,\n",
    " '0_normal_s': 252, '1_sujenie_s': 82, '2_raschirenie_cut_s': 102, '3_distal_s': 81, '4_mesial_s': 99}"
   ]
  },
  {
   "cell_type": "code",
   "execution_count": 138,
   "id": "61ff68a7",
   "metadata": {},
   "outputs": [],
   "source": [
    "from shutil import copyfile\n",
    "\n",
    "folder_path = '3_distal_s' # Путь до папки с изображениями\n",
    "image_names = os.listdir(folder_path)# Читаем имена всех изображений в папке\n",
    "for image_name in image_names:# Проходим по каждому изображению\n",
    "    image_path = os.path.join(folder_path, image_name)# Формируем полный путь до изображения\n",
    "    name, extension = os.path.splitext(image_name)# Разделяем имя файла и расширение\n",
    "    \n",
    "    new_image_name_1 = f\"{name}_001{extension}\"# Создаем дополнительные копии изображения\n",
    "          \n",
    "    new_image_path_1 = os.path.join(folder_path, new_image_name_1)\n",
    "        \n",
    "    copyfile(image_path, new_image_path_1)# Копируем изображение\n",
    "         "
   ]
  },
  {
   "cell_type": "code",
   "execution_count": null,
   "id": "cc7b507c",
   "metadata": {},
   "outputs": [],
   "source": []
  },
  {
   "cell_type": "markdown",
   "id": "e7cb11e8",
   "metadata": {},
   "source": [
    "#### Перемешать в случайном порядке и переименовать по порядку"
   ]
  },
  {
   "cell_type": "code",
   "execution_count": 139,
   "id": "626c256b",
   "metadata": {},
   "outputs": [],
   "source": [
    "import random\n",
    "# Путь до папки с изображениями\n",
    "folder_path = '3_distal_s'\n",
    "\n",
    "# Читаем имена всех изображений в папке\n",
    "image_names = os.listdir(folder_path)\n",
    "\n",
    "# Случайно перемешиваем имена изображений\n",
    "random.shuffle(image_names)\n",
    "\n",
    "# Перемещаем изображения в случайном порядке в новую папку\n",
    "new_folder_path = '3_distal_sq'\n",
    "os.makedirs(new_folder_path, exist_ok=True)\n",
    "\n",
    "for i, image_name in enumerate(image_names):\n",
    "    old_image_path = os.path.join(folder_path, image_name)\n",
    "    new_image_name = f'{i+1:03}.jpg'  # Менять нумерацию изображений в зависимости от нужных требований\n",
    "    new_image_path = os.path.join(new_folder_path, new_image_name)\n",
    "    shutil.copy2(old_image_path, new_image_path)"
   ]
  },
  {
   "cell_type": "code",
   "execution_count": 140,
   "id": "ec9cf142",
   "metadata": {},
   "outputs": [
    {
     "name": "stdout",
     "output_type": "stream",
     "text": [
      "162\n"
     ]
    }
   ],
   "source": [
    "def count_photos(folder_path):\n",
    "    photo_extensions = ['.jpg', '.jpeg', '.png', 'gif']\n",
    "    count = 0\n",
    "    for file_name in os.listdir(folder_path):\n",
    "        _, extension = os.path.splitext(file_name)\n",
    "        if extension.lower() in photo_extensions:\n",
    "            count += 1\n",
    "    return count\n",
    "\n",
    "folder_path = '3_distal_sq'\n",
    "photo_count = count_photos(folder_path)\n",
    "print(photo_count)"
   ]
  },
  {
   "cell_type": "code",
   "execution_count": null,
   "id": "01fa90bd",
   "metadata": {},
   "outputs": [],
   "source": []
  },
  {
   "cell_type": "raw",
   "id": "c7e26f10",
   "metadata": {},
   "source": [
    "&&&&&&&&&&&&&&&&&&&&&&&&&&&&&&&&&&&&&&&&&&&&&&&&&&&&&&&&&&&&&&&&&&&&&&&&&&&&&&&&&&&&&&&&&&&&&&&&&&&&&&&&&&&&&&&&&&&&&&&&\n",
    "&&&&&&&&&&&&&&&&&&&&&&&&&&&&&&&&&&&&&&&&&&&&&&&&&&&&&&&&&&&&&&&&&&&&&&&&&&&&&&&&&&&&&&&&&&&&&&&&&&&&&&&&&&&&&&&&&&&&&&&&\n",
    "&&&&&&&&&&&&&&&&&&&&&&&&&&&&&&&&&&&&&&&&&&&&&&&&&&&&&&&&&&&&&&&&&&&&&&&&&&&&&&&&&&&&&&&&&&&&&&&&&&&&&&&&&&&&&&&&&&&&&&&&\n",
    "&&&&&&&&&&&&&&&&&&&&&&&&&&&&&&&&&&&&&&&&&&&&&&&&&&&&&&&&&&&&&&&&&&&&&&&&&&&&&&&&&&&&&&&&&&&&&&&&&&&&&&&&&&&&&&&&&&&&&&&&"
   ]
  },
  {
   "cell_type": "markdown",
   "id": "bad7b22c",
   "metadata": {},
   "source": [
    "# Переименовать папки введением в начало имени номера для ohe"
   ]
  },
  {
   "cell_type": "markdown",
   "id": "3d5c6b6d",
   "metadata": {},
   "source": [
    "# Добавление к имени каждого изображения имени папки с номером впереди для индекса ohe"
   ]
  },
  {
   "cell_type": "code",
   "execution_count": 143,
   "id": "476bd006",
   "metadata": {},
   "outputs": [],
   "source": [
    "listic = [\"0_normal_sq\", \"1_sujenie_sq\", \"2_raschirenie_sq\", \"3_distal_sq\", \"4_mesial_sq\",\n",
    "          '5_sujenie,_distal_sq', \"6_sujenie,_mesial_sq\", \"7_raschirenie,_distal_sq\", \"8_raschirenie,_mesial_sq\"]"
   ]
  },
  {
   "cell_type": "code",
   "execution_count": 144,
   "id": "2f1ad6c7",
   "metadata": {},
   "outputs": [],
   "source": [
    "for i in range(len(listic)):\n",
    "    \n",
    "\n",
    "    # Путь к папке с изображениями\n",
    "    folder_path = listic[i]\n",
    "\n",
    "    # Получение списка файлов изображений в папке\n",
    "    image_files = os.listdir(folder_path)\n",
    "\n",
    "    # Переименование каждого файла изображения\n",
    "    for file_name in image_files:\n",
    "        if file_name.endswith(\".jpg\") or file_name.endswith(\".png\"):\n",
    "            # Создание нового имени файла с добавлением \"i_\" в начало\n",
    "            new_file_name = listic[i] +'_'+ file_name\n",
    "        \n",
    "            # Получение полного пути к файлу\n",
    "            current_file_path = os.path.join(folder_path, file_name)\n",
    "            new_file_path = os.path.join(folder_path, new_file_name)\n",
    "        \n",
    "            # Переименование файла\n",
    "            os.rename(current_file_path, new_file_path)"
   ]
  },
  {
   "cell_type": "markdown",
   "id": "5f3c80d7",
   "metadata": {},
   "source": [
    "# ОБЪЕДИНЕНИЕ ИЗОБРАЖЕНИЙ В ОДНУ ПАПКУ"
   ]
  },
  {
   "cell_type": "code",
   "execution_count": 145,
   "id": "70bc04f7",
   "metadata": {},
   "outputs": [],
   "source": [
    "import shutil\n",
    "\n",
    "# Пути к папкам с изображениями\n",
    "folders =  [\"0_normal_sq\", \"1_sujenie_sq\", \"2_raschirenie_sq\", \"3_distal_sq\", \"4_mesial_sq\",\n",
    "          '5_sujenie,_distal_sq', \"6_sujenie,_mesial_sq\", \"7_raschirenie,_distal_sq\", \"8_raschirenie,_mesial_sq\"]\n",
    "\n",
    "# Создание папки 'all' для объединения всех изображений\n",
    "output_folder = 'all'\n",
    "os.makedirs(output_folder, exist_ok=True)\n",
    "\n",
    "# Перебор всех папок с изображениями\n",
    "for folder in folders:\n",
    "    # Получение списка файлов изображений в папке\n",
    "    image_files = os.listdir(folder)\n",
    "\n",
    "    # Перебор всех файлов изображений\n",
    "    for file_name in image_files:\n",
    "        if file_name.lower().endswith('.jpg'):\n",
    "            # Путь к исходному файлу\n",
    "            source_path = os.path.join(folder, file_name)\n",
    "\n",
    "            # Путь к целевому файлу\n",
    "            destination_path = os.path.join(output_folder, file_name)\n",
    "\n",
    "            # Перемещение файла в папку 'all'\n",
    "            shutil.copy2(source_path, destination_path)"
   ]
  },
  {
   "cell_type": "code",
   "execution_count": 146,
   "id": "52ff3a24",
   "metadata": {},
   "outputs": [
    {
     "name": "stdout",
     "output_type": "stream",
     "text": [
      "1848\n"
     ]
    }
   ],
   "source": [
    "def count_photos(folder_path):\n",
    "    photo_extensions = ['.jpg', '.jpeg', '.png', 'gif']\n",
    "    count = 0\n",
    "    for file_name in os.listdir(folder_path):\n",
    "        _, extension = os.path.splitext(file_name)\n",
    "        if extension.lower() in photo_extensions:\n",
    "            count += 1\n",
    "    return count\n",
    "\n",
    "folder_path = 'all'\n",
    "photo_count = count_photos(folder_path)\n",
    "print(photo_count)"
   ]
  },
  {
   "cell_type": "code",
   "execution_count": null,
   "id": "110dbf6f",
   "metadata": {},
   "outputs": [],
   "source": []
  },
  {
   "cell_type": "markdown",
   "id": "e0c0a8cc",
   "metadata": {},
   "source": [
    "#### Удаление лишних папок"
   ]
  },
  {
   "cell_type": "raw",
   "id": "8935b16a",
   "metadata": {},
   "source": [
    "folder_path1 = '0_norm'\n",
    "shutil.rmtree(folder_path1)"
   ]
  },
  {
   "cell_type": "raw",
   "id": "45ec21a9",
   "metadata": {},
   "source": [
    "folder_path2 = '2_distraction'\n",
    "shutil.rmtree(folder_path2)"
   ]
  },
  {
   "cell_type": "raw",
   "id": "fe52c3c5",
   "metadata": {},
   "source": [
    "folder_path3 = '4_mesial_forward'\n",
    "shutil.rmtree(folder_path3)"
   ]
  },
  {
   "cell_type": "code",
   "execution_count": null,
   "id": "70c8d53e",
   "metadata": {},
   "outputs": [],
   "source": []
  },
  {
   "cell_type": "markdown",
   "id": "3a43ff9b",
   "metadata": {},
   "source": [
    "# Y_TRAIN"
   ]
  },
  {
   "cell_type": "code",
   "execution_count": 147,
   "id": "30cd29cf",
   "metadata": {},
   "outputs": [],
   "source": [
    "folder_path = 'all'\n",
    "\n",
    "# Читаем имена всех изображений в папке\n",
    "image_names = os.listdir(folder_path)"
   ]
  },
  {
   "cell_type": "code",
   "execution_count": 148,
   "id": "1d0a3c09",
   "metadata": {},
   "outputs": [
    {
     "data": {
      "text/plain": [
       "'0_normal_sq_0_normal_sq_001.jpg'"
      ]
     },
     "execution_count": 148,
     "metadata": {},
     "output_type": "execute_result"
    }
   ],
   "source": [
    "image_names[0]"
   ]
  },
  {
   "cell_type": "raw",
   "id": "0329479d",
   "metadata": {},
   "source": [
    "### необходимо исключить файлы .ipynb из списка файлов перед созданием массива числовых значений, через создание папки all_all БЕЗ '.ipynb_checkpoints'"
   ]
  },
  {
   "cell_type": "raw",
   "id": "04ae5b7c",
   "metadata": {},
   "source": [
    "import os\n",
    "import shutil\n",
    "\n",
    "source_folder = 'all'\n",
    "destination_folder = 'all_all'\n",
    "if not os.path.exists(destination_folder):# папку для сохранения измененных изображений, если она не существует\n",
    "    os.makedirs(destination_folder)\n",
    "\n",
    "for file_name in os.listdir(source_folder):\n",
    "    if file_name != '.ipynb_checkpoints':\n",
    "        source_path = os.path.join(source_folder, file_name)\n",
    "        destination_path = os.path.join(destination_folder, file_name)\n",
    "        shutil.copy2(source_path, destination_path)"
   ]
  },
  {
   "cell_type": "raw",
   "id": "eb421bf2",
   "metadata": {},
   "source": [
    "folder_path = 'all'\n",
    "\n",
    "for file_name in os.listdir(folder_path):\n",
    "    if file_name.endswith('.ipynb_checkpoints'):\n",
    "        file_path = os.path.join(folder_path, file_name)\n",
    "        os.remove(file_path)"
   ]
  },
  {
   "cell_type": "code",
   "execution_count": 149,
   "id": "0cb847d3",
   "metadata": {},
   "outputs": [],
   "source": [
    "# Путь до папки с изображениями\n",
    "folder_path = 'all'\n",
    "\n",
    "# Читаем имена всех изображений в папке\n",
    "image_names = os.listdir(folder_path)\n",
    "\n",
    "\n",
    "# Извлекаем числовые значения из имен изображений\n",
    "numbers = [int(image_name.split('_')[0]) for image_name in image_names]\n",
    "\n",
    "# Создаем массив numpy array из числовых значений\n",
    "numbers_array = np.array(numbers)"
   ]
  },
  {
   "cell_type": "code",
   "execution_count": 150,
   "id": "a1ecc5c7",
   "metadata": {
    "scrolled": true
   },
   "outputs": [
    {
     "data": {
      "text/plain": [
       "array([0, 0, 0, ..., 8, 8, 8])"
      ]
     },
     "execution_count": 150,
     "metadata": {},
     "output_type": "execute_result"
    }
   ],
   "source": [
    "numbers_array"
   ]
  },
  {
   "cell_type": "code",
   "execution_count": 151,
   "id": "d0de5a2b",
   "metadata": {},
   "outputs": [
    {
     "data": {
      "text/plain": [
       "1848"
      ]
     },
     "execution_count": 151,
     "metadata": {},
     "output_type": "execute_result"
    }
   ],
   "source": [
    "len(numbers_array)"
   ]
  },
  {
   "cell_type": "markdown",
   "id": "b84d0c8b",
   "metadata": {},
   "source": [
    "# X_TRAIN"
   ]
  },
  {
   "cell_type": "markdown",
   "id": "9394b602",
   "metadata": {},
   "source": [
    "# Преобразовать изображения к одной размерности"
   ]
  },
  {
   "cell_type": "code",
   "execution_count": 152,
   "id": "28d3a6cd",
   "metadata": {},
   "outputs": [],
   "source": [
    "# Путь до папки с изображениями\n",
    "folder_path = \"all\"\n",
    "\n",
    "# Читаем имена всех файлов в папке\n",
    "file_names = os.listdir(folder_path)\n",
    "file_names = file_names[::]\n",
    "\n",
    "# Проходим по каждому файлу\n",
    "for file_name in file_names:\n",
    "    # Формируем полный путь до файла\n",
    "    file_path = os.path.join(folder_path, file_name)\n",
    "\n",
    "    # Открываем изображение\n",
    "    image = Image.open(file_path)\n",
    "\n",
    "    # Преобразование размера изображения\n",
    "    resized_image = image.resize((192, 128))\n",
    "\n",
    "    # Сохранение преобразованного изображения\n",
    "    resized_image.save(file_path)"
   ]
  },
  {
   "cell_type": "code",
   "execution_count": null,
   "id": "664d6280",
   "metadata": {},
   "outputs": [],
   "source": []
  },
  {
   "cell_type": "code",
   "execution_count": 153,
   "id": "dcd66d8e",
   "metadata": {},
   "outputs": [
    {
     "name": "stdout",
     "output_type": "stream",
     "text": [
      "Уникальные типы размерностей:\n",
      "(192, 128)\n"
     ]
    }
   ],
   "source": [
    "# Папка с изображениями\n",
    "folder_path = \"all\"  # Укажите путь к вашей папке с изображениями\n",
    "\n",
    "# Создание списка уникальных типов размерностей изображений\n",
    "dimensions_set = set()\n",
    "\n",
    "# Перебор файлов изображений в папке\n",
    "for file_name in os.listdir(folder_path):\n",
    "    if file_name.endswith(\".jpg\"):# or file_name.endswith(\".png\"):\n",
    "        # Получение размеров изображения\n",
    "        image_path = os.path.join(folder_path, file_name)\n",
    "        image = Image.open(image_path)\n",
    "        dimensions = image.size\n",
    "\n",
    "        # Добавление размерности во множество\n",
    "        dimensions_set.add(dimensions)\n",
    "\n",
    "# Вывод списка уникальных типов размерностей\n",
    "print(\"Уникальные типы размерностей:\")\n",
    "for dimensions in dimensions_set:\n",
    "    print(dimensions)"
   ]
  },
  {
   "cell_type": "code",
   "execution_count": 154,
   "id": "ed9c93da",
   "metadata": {},
   "outputs": [
    {
     "name": "stdout",
     "output_type": "stream",
     "text": [
      "Размерность (192, 128): 1848 изображений\n"
     ]
    }
   ],
   "source": [
    "from collections import defaultdict\n",
    "\n",
    "folder_path = 'all' # Путь до папки с изображениями\n",
    "image_dimensions = defaultdict(int) # Создаем словарь для хранения количества изображений каждой размерности\n",
    "\n",
    "image_names = os.listdir(folder_path) # имена всех изображений в папке\n",
    "for image_name in image_names: # Проход по каждому изображению\n",
    "    image_path = os.path.join(folder_path, image_name) # Формируем полный путь до изображения\n",
    "    image_size = Image.open(image_path).size # Получаем размеры изображения\n",
    "    image_dimensions[image_size] += 1 # Увеличиваем счетчик для данной размерности изображения\n",
    "\n",
    "for dimension, count in image_dimensions.items(): # Печатаем количество изображений каждой размерности\n",
    "    print(f\"Размерность {dimension}: {count} изображений\")"
   ]
  },
  {
   "cell_type": "raw",
   "id": "9cdd6535",
   "metadata": {},
   "source": [
    "folder_path = \"all\"\n",
    "target_width = 240\n",
    "target_height = 134\n",
    "\n",
    "for file_name in os.listdir(folder_path):\n",
    "    file_path = os.path.join(folder_path, file_name)\n",
    "    if os.path.isfile(file_path):\n",
    "        with open(file_path, \"rb\") as image_file:\n",
    "            image = Image.open(image_file)\n",
    "            width, height = image.size\n",
    "            if width == target_width and height == target_height:\n",
    "                print(\"Наименование изображения:\", file_name)"
   ]
  },
  {
   "cell_type": "code",
   "execution_count": 155,
   "id": "f2ca5d5c",
   "metadata": {},
   "outputs": [
    {
     "name": "stdout",
     "output_type": "stream",
     "text": [
      "1848\n"
     ]
    }
   ],
   "source": [
    "def count_photos(folder_path):\n",
    "    photo_extensions = ['.jpg', '.jpeg', '.png', 'gif']\n",
    "    count = 0\n",
    "    for file_name in os.listdir(folder_path):\n",
    "        _, extension = os.path.splitext(file_name)\n",
    "        if extension.lower() in photo_extensions:\n",
    "            count += 1\n",
    "    return count\n",
    "\n",
    "folder_path = 'all'\n",
    "photo_count = count_photos(folder_path)\n",
    "print(photo_count)"
   ]
  },
  {
   "cell_type": "code",
   "execution_count": null,
   "id": "fe545401",
   "metadata": {},
   "outputs": [],
   "source": []
  },
  {
   "cell_type": "raw",
   "id": "6a7c6267",
   "metadata": {},
   "source": [
    "!!!!!!!!!!!!!!!!!!!!!!!!!!!!!!!!!!!!!!!!!!!!!!!!!!!!!!!!!!!!\n",
    "!!!!!!!!!!!!!!!!!!!!!!!!!!!!!!!!!!!!!!!!!!!!!!!!!!!!!!!!!!!!!!!!\n",
    "!!!!!!!!!!!!!!!!!!!!!!!!!!!!!!!!!!!!!!!!!!!!!!!!!!!!!!!!!!!!!!!!!!!!!!!!!\n",
    "!!!!!!!!!!!!!!!!!!!!!!!!!!!!!!!!!!!!!!!!!!!!!!!!!!!!!!!!!!!!!!!!!!!!!!!!!!!!!!!!\n",
    "!!!!!!!!!!!!!!!!!!!!!!!!!!!!!!!!!!!!!!!!!!!!!!!!!!!!!!!!!!!!!!!!!!!!!!!!!!!!!!!!!!!!!!!!!!"
   ]
  },
  {
   "cell_type": "markdown",
   "id": "86756e81",
   "metadata": {},
   "source": [
    "# Список изображений"
   ]
  },
  {
   "cell_type": "code",
   "execution_count": 156,
   "id": "fd513026",
   "metadata": {},
   "outputs": [],
   "source": [
    "folder_path = 'all'\n",
    "\n",
    "# Получение всех файлов в папке\n",
    "file_list = os.listdir(folder_path)\n",
    "\n",
    "# Фильтрация только файлов изображений\n",
    "image_files = [f for f in file_list if os.path.splitext(f)[1].lower() in ['.jpg', '.jpeg', '.png', '.bmp']]\n",
    "\n",
    "# Создание списка объектов изображений\n",
    "image_list = []\n",
    "for file_name in image_files:\n",
    "    file_path = os.path.join(folder_path, file_name)\n",
    "    image = Image.open(file_path)\n",
    "    img_array = np.array(image).reshape(1,24576) # перевод в массив\n",
    "    img_array = img_array.tolist()[0]\n",
    "    image_list.append(img_array)\n",
    "\n"
   ]
  },
  {
   "cell_type": "code",
   "execution_count": 157,
   "id": "33b40adc",
   "metadata": {},
   "outputs": [
    {
     "data": {
      "text/plain": [
       "1848"
      ]
     },
     "execution_count": 157,
     "metadata": {},
     "output_type": "execute_result"
    }
   ],
   "source": [
    "len(image_list)"
   ]
  },
  {
   "cell_type": "code",
   "execution_count": 158,
   "id": "7b290a7d",
   "metadata": {},
   "outputs": [],
   "source": [
    "images_array = np.array(image_list)"
   ]
  },
  {
   "cell_type": "code",
   "execution_count": 159,
   "id": "00bf32d2",
   "metadata": {},
   "outputs": [
    {
     "data": {
      "text/plain": [
       "(1848, 24576)"
      ]
     },
     "execution_count": 159,
     "metadata": {},
     "output_type": "execute_result"
    }
   ],
   "source": [
    "images_array.shape"
   ]
  },
  {
   "cell_type": "markdown",
   "id": "f38ee744",
   "metadata": {},
   "source": [
    "# новый у"
   ]
  },
  {
   "cell_type": "code",
   "execution_count": 160,
   "id": "9f35ca9c",
   "metadata": {},
   "outputs": [],
   "source": [
    "# Путь до папки all_allс изображениями\n",
    "folder_path = 'all'\n",
    "\n",
    "# Читаем имена всех изображений в папке\n",
    "image_names = os.listdir(folder_path)\n",
    "\n",
    "# Извлекаем числовые значения из имен изображений\n",
    "numbers = [int(image_name.split('_')[0]) for image_name in image_names]\n",
    "\n",
    "# Создаем массив numpy array из числовых значений\n",
    "numbers_array = np.array(numbers)"
   ]
  },
  {
   "cell_type": "code",
   "execution_count": 161,
   "id": "feb51831",
   "metadata": {},
   "outputs": [
    {
     "data": {
      "text/plain": [
       "array([0, 0, 0, ..., 8, 8, 8])"
      ]
     },
     "execution_count": 161,
     "metadata": {},
     "output_type": "execute_result"
    }
   ],
   "source": [
    "numbers_array"
   ]
  },
  {
   "cell_type": "code",
   "execution_count": 162,
   "id": "c03640e5",
   "metadata": {},
   "outputs": [
    {
     "data": {
      "text/plain": [
       "(1848,)"
      ]
     },
     "execution_count": 162,
     "metadata": {},
     "output_type": "execute_result"
    }
   ],
   "source": [
    "numbers_array.shape"
   ]
  },
  {
   "cell_type": "markdown",
   "id": "9d7b4501",
   "metadata": {},
   "source": [
    "# Объединить построчно чтобы затем перемешать для модели"
   ]
  },
  {
   "cell_type": "code",
   "execution_count": 163,
   "id": "a13d1131",
   "metadata": {},
   "outputs": [
    {
     "data": {
      "text/plain": [
       "array([0, 0, 0, ..., 6, 4, 2])"
      ]
     },
     "execution_count": 163,
     "metadata": {},
     "output_type": "execute_result"
    }
   ],
   "source": [
    "images_array[0]"
   ]
  },
  {
   "cell_type": "code",
   "execution_count": 164,
   "id": "6789d466",
   "metadata": {},
   "outputs": [
    {
     "data": {
      "text/plain": [
       "0"
      ]
     },
     "execution_count": 164,
     "metadata": {},
     "output_type": "execute_result"
    }
   ],
   "source": [
    "numbers_array[0]"
   ]
  },
  {
   "cell_type": "code",
   "execution_count": 165,
   "id": "8d5f156e",
   "metadata": {},
   "outputs": [
    {
     "name": "stdout",
     "output_type": "stream",
     "text": [
      "[[  0.   0.   0. ...   4.   2.   0.]\n",
      " [255. 255. 255. ...   3.   0.   0.]\n",
      " [  0.   8.   4. ...   0.   2.   0.]\n",
      " ...\n",
      " [  3.   3.   3. ...   0.   0.   8.]\n",
      " [255. 255. 255. ...   5.   1.   8.]\n",
      " [  1.   1.   1. ...   0.   7.   8.]]\n"
     ]
    }
   ],
   "source": [
    "\n",
    "# Получаем количество строк (векторов) итогового массива\n",
    "n = images_array.shape[0]\n",
    "\n",
    "\n",
    "result = np.zeros((n, images_array.shape[1] + 1))\n",
    "result[:, :-1] = images_array  # Копируем значения images_array в новый массив\n",
    "result[:, -1] = numbers_array  # Добавляем значения numbers_array в конец каждого вектора\n",
    "\n",
    "print(result)"
   ]
  },
  {
   "cell_type": "code",
   "execution_count": 166,
   "id": "c9873e39",
   "metadata": {},
   "outputs": [
    {
     "data": {
      "text/plain": [
       "numpy.ndarray"
      ]
     },
     "execution_count": 166,
     "metadata": {},
     "output_type": "execute_result"
    }
   ],
   "source": [
    "type(result)"
   ]
  },
  {
   "cell_type": "markdown",
   "id": "07af5fd4",
   "metadata": {},
   "source": [
    "# Перемешать"
   ]
  },
  {
   "cell_type": "code",
   "execution_count": 173,
   "id": "a5fb3475",
   "metadata": {},
   "outputs": [
    {
     "name": "stdout",
     "output_type": "stream",
     "text": [
      "[[  0.   0.   0. ... 255. 246.   4.]\n",
      " [243. 252. 255. ... 246. 246.   3.]\n",
      " [244.  23.  10. ...   0.   0.   6.]\n",
      " ...\n",
      " [  7.   2.   1. ... 239. 243.   5.]\n",
      " [  0.   0.   0. ... 255.  14.   7.]\n",
      " [254. 255. 255. ...   1.   1.   1.]]\n"
     ]
    }
   ],
   "source": [
    "np.random.shuffle(result)\n",
    "print(result)"
   ]
  },
  {
   "cell_type": "code",
   "execution_count": 174,
   "id": "dbf4a738",
   "metadata": {},
   "outputs": [
    {
     "data": {
      "text/plain": [
       "(1848, 24577)"
      ]
     },
     "execution_count": 174,
     "metadata": {},
     "output_type": "execute_result"
    }
   ],
   "source": [
    "result.shape"
   ]
  },
  {
   "cell_type": "markdown",
   "id": "54343928",
   "metadata": {},
   "source": [
    "# Деление на выборки"
   ]
  },
  {
   "cell_type": "code",
   "execution_count": 175,
   "id": "f7f83ab4",
   "metadata": {},
   "outputs": [],
   "source": [
    "from sklearn.model_selection import train_test_split"
   ]
  },
  {
   "cell_type": "code",
   "execution_count": 176,
   "id": "87f80d65",
   "metadata": {
    "scrolled": true
   },
   "outputs": [
    {
     "name": "stdout",
     "output_type": "stream",
     "text": [
      "(1848, 24576)\n",
      "(1848,)\n",
      "[4. 3. 6. ... 5. 7. 1.]\n"
     ]
    }
   ],
   "source": [
    "xx = result[:, 0:24576] # обучающий массив, f - full\n",
    "yy = result[:,24576] # массив ответов, f - full\n",
    "print(xx.shape)\n",
    "print(yy.shape)\n",
    "print(yy)"
   ]
  },
  {
   "cell_type": "code",
   "execution_count": 177,
   "id": "6f8b718a",
   "metadata": {},
   "outputs": [
    {
     "name": "stdout",
     "output_type": "stream",
     "text": [
      "(1811, 24576)\n",
      "(37, 24576)\n",
      "(1811,)\n",
      "(37,)\n"
     ]
    }
   ],
   "source": [
    "# отдать тестовой 2 %\n",
    "x_train,x_test,y_train,y_test = train_test_split(xx,yy,test_size=0.02, shuffle=True) # разделение\n",
    "print(x_train.shape)\n",
    "print(x_test.shape)\n",
    "print(y_train.shape)\n",
    "print(y_test.shape)"
   ]
  },
  {
   "cell_type": "code",
   "execution_count": 178,
   "id": "c6d23034",
   "metadata": {},
   "outputs": [
    {
     "name": "stdout",
     "output_type": "stream",
     "text": [
      "(1629, 24576)\n",
      "(182, 24576)\n",
      "(1629,)\n",
      "(182,)\n"
     ]
    }
   ],
   "source": [
    "# отдать валидационной 10%\n",
    "xTrain,xVal,yTrain,yVal = train_test_split(x_train,y_train,test_size=0.1, shuffle=True) # разделение\n",
    "print(xTrain.shape)\n",
    "print(xVal.shape)\n",
    "print(yTrain.shape)\n",
    "print(yVal.shape)"
   ]
  },
  {
   "cell_type": "code",
   "execution_count": null,
   "id": "9e8978df",
   "metadata": {},
   "outputs": [],
   "source": []
  },
  {
   "cell_type": "markdown",
   "id": "caf5c6e9",
   "metadata": {},
   "source": [
    "# Преобразовать и на desktop"
   ]
  },
  {
   "cell_type": "code",
   "execution_count": 179,
   "id": "d7635fa8",
   "metadata": {},
   "outputs": [],
   "source": [
    "# Устанавливаем путь к рабочему столу\n",
    "desktop_path = os.path.join(os.path.expanduser(\"~\"), \"Desktop\")\n",
    "# Устанавливаем имя файла\n",
    "file_name = \"xTrain_sag_8qqrq.npy\"\n",
    "# Создаем полный путь к файлу\n",
    "file_path = os.path.join(desktop_path, file_name)\n",
    "# Сохраняем массив в формате .npy\n",
    "np.save(file_path, xTrain)"
   ]
  },
  {
   "cell_type": "code",
   "execution_count": 180,
   "id": "6a71cade",
   "metadata": {},
   "outputs": [],
   "source": [
    "# Устанавливаем путь к рабочему столу\n",
    "desktop_path = os.path.join(os.path.expanduser(\"~\"), \"Desktop\")\n",
    "# Устанавливаем имя файла\n",
    "file_name = \"xVal_sag_8qqrq.npy\"\n",
    "# Создаем полный путь к файлу\n",
    "file_path = os.path.join(desktop_path, file_name)\n",
    "# Сохраняем массив в формате .npy\n",
    "np.save(file_path, xVal)"
   ]
  },
  {
   "cell_type": "code",
   "execution_count": 181,
   "id": "cbdf2666",
   "metadata": {},
   "outputs": [],
   "source": [
    "# Устанавливаем путь к рабочему столу\n",
    "desktop_path = os.path.join(os.path.expanduser(\"~\"), \"Desktop\")\n",
    "# Устанавливаем имя файла\n",
    "file_name = \"yTrain_sag_8qqrq.npy\"\n",
    "# Создаем полный путь к файлу\n",
    "file_path = os.path.join(desktop_path, file_name)\n",
    "# Сохраняем массив в формате .npy\n",
    "np.save(file_path, yTrain)"
   ]
  },
  {
   "cell_type": "code",
   "execution_count": 182,
   "id": "567d1fa4",
   "metadata": {},
   "outputs": [],
   "source": [
    "# Устанавливаем путь к рабочему столу\n",
    "desktop_path = os.path.join(os.path.expanduser(\"~\"), \"Desktop\")\n",
    "# Устанавливаем имя файла\n",
    "file_name = \"yVal_sag_8qqrq.npy\"\n",
    "# Создаем полный путь к файлу\n",
    "file_path = os.path.join(desktop_path, file_name)\n",
    "# Сохраняем массив в формате .npy\n",
    "np.save(file_path, yVal)"
   ]
  },
  {
   "cell_type": "code",
   "execution_count": 183,
   "id": "7e9801df",
   "metadata": {},
   "outputs": [],
   "source": [
    "# Устанавливаем путь к рабочему столу\n",
    "desktop_path = os.path.join(os.path.expanduser(\"~\"), \"Desktop\")\n",
    "# Устанавливаем имя файла\n",
    "file_name = \"x_test_sag_8qqrq.npy\"\n",
    "# Создаем полный путь к файлу\n",
    "file_path = os.path.join(desktop_path, file_name)\n",
    "# Сохраняем массив в формате .npy\n",
    "np.save(file_path, x_test)"
   ]
  },
  {
   "cell_type": "code",
   "execution_count": 184,
   "id": "825d4410",
   "metadata": {},
   "outputs": [],
   "source": [
    "# Устанавливаем путь к рабочему столу\n",
    "desktop_path = os.path.join(os.path.expanduser(\"~\"), \"Desktop\")\n",
    "# Устанавливаем имя файла\n",
    "file_name = \"y_test_sag_8qqrq.npy\"\n",
    "# Создаем полный путь к файлу\n",
    "file_path = os.path.join(desktop_path, file_name)\n",
    "# Сохраняем массив в формате .npy\n",
    "np.save(file_path, y_test)"
   ]
  },
  {
   "cell_type": "markdown",
   "id": "c101700b",
   "metadata": {},
   "source": [
    "# Нормализовать"
   ]
  },
  {
   "cell_type": "code",
   "execution_count": null,
   "id": "fe9a3f9c",
   "metadata": {},
   "outputs": [],
   "source": []
  },
  {
   "cell_type": "code",
   "execution_count": null,
   "id": "756d690b",
   "metadata": {},
   "outputs": [],
   "source": []
  }
 ],
 "metadata": {
  "kernelspec": {
   "display_name": "Python 3 (ipykernel)",
   "language": "python",
   "name": "python3"
  },
  "language_info": {
   "codemirror_mode": {
    "name": "ipython",
    "version": 3
   },
   "file_extension": ".py",
   "mimetype": "text/x-python",
   "name": "python",
   "nbconvert_exporter": "python",
   "pygments_lexer": "ipython3",
   "version": "3.11.5"
  }
 },
 "nbformat": 4,
 "nbformat_minor": 5
}
